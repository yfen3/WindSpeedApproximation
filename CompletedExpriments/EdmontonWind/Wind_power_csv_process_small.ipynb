{
 "cells": [
  {
   "cell_type": "code",
   "execution_count": 1,
   "id": "e85e59f8",
   "metadata": {},
   "outputs": [],
   "source": [
    "# Get the data for expeirment\n",
    "import sklearn\n",
    "from sklearn.datasets import fetch_california_housing\n",
    "import pandas as pd \n",
    "from sklearn.model_selection import train_test_split"
   ]
  },
  {
   "cell_type": "code",
   "execution_count": 2,
   "id": "8678690f",
   "metadata": {},
   "outputs": [],
   "source": [
    "#data['Station Name'].unique()"
   ]
  },
  {
   "cell_type": "code",
   "execution_count": 3,
   "id": "d0270e2c",
   "metadata": {},
   "outputs": [],
   "source": [
    "station_names = {\n",
    "    'Edmonton Blatchford' : 'A_',\n",
    "    \"Edmonton Int'L CS\" : 'B_',\n",
    "    'Edmonton Namao AWOS A': 'C_',\n",
    "    'Oliver AGDM' : 'D_',\n",
    "    'St. Albert Research' : 'E_',\n",
    "    'Edmonton South Campus UA' : 'Test_'\n",
    "}\n",
    "\n",
    "col_to_use = {\n",
    "     'Date (Local Standard Time)' : 'Date',\n",
    "     'Air Temp. Inst. (°C)' : 'Air_temp',\n",
    "     'Precip. (mm)' : 'Precip',\n",
    "     'Wind Speed 10 m Syno. (km/h)' : 'Syno_wind_speed',\n",
    "     'Wind Dir. 10 m Syno. (°)' : 'Syno_wind_dir',\n",
    "     'Wind Speed 10 m Avg. (km/h)' : 'Avg_wind_speed',\n",
    "     'Wind Dir. 10 m Avg. (°)' : 'Avg_wind_dir'\n",
    "}\n",
    "\n",
    "col_to_drop = [\n",
    "    'Air Temp. Inst. Source Flag',\n",
    "    'Air Temp. Inst. Comment',\n",
    "    'Precip. Source Flag',\n",
    "    'Precip. Comment',\n",
    "     'Wind Speed 10 m Syno. Source Flag',\n",
    "     'Wind Speed 10 m Syno. Comment',\n",
    "     'Wind Dir. 10 m Syno. Source Flag',\n",
    "     'Wind Dir. 10 m Syno. Comment',\n",
    "     'Wind Speed 10 m Avg. Source Flag',\n",
    "     'Wind Speed 10 m Avg. Comment',\n",
    "     'Wind Dir. 10 m Avg. Source Flag',\n",
    "     'Wind Dir. 10 m Avg. Comment'\n",
    "]"
   ]
  },
  {
   "cell_type": "code",
   "execution_count": 4,
   "id": "2840be3b",
   "metadata": {},
   "outputs": [],
   "source": [
    "# Create new table headers\n",
    "generated_table_headers = []\n",
    "\n",
    "for station_name_key, station_name_value in station_names.items():\n",
    "    for col_name, col_value in col_to_use.items():\n",
    "        if col_name != 'Date (Local Standard Time)':\n",
    "            generated_table_headers.append(f'{station_name_value}{col_value}')\n",
    "        \n",
    "# Insert the date as the first column \n",
    "generated_table_headers.insert(0, 'Date')"
   ]
  },
  {
   "cell_type": "code",
   "execution_count": 5,
   "id": "4ee44ef9",
   "metadata": {},
   "outputs": [],
   "source": [
    "def process_raw_data(raw_data, target_df):\n",
    "    for i in range(1,len(raw_data)): \n",
    "        current_row = raw_data.iloc[i]\n",
    "        current_station_name = current_row['Station Name']\n",
    "        new_row = {\n",
    "           'Date'  :  current_row['Date (Local Standard Time)']\n",
    "        }\n",
    "                \n",
    "        for col_name, col_value in col_to_use.items(): \n",
    "            if col_name != 'Date (Local Standard Time)':\n",
    "                new_row[f\"{station_names[current_station_name]}{col_value}\"] = current_row[col_name]\n",
    "            \n",
    "        new_row = pd.DataFrame(new_row, index=[0])\n",
    "        target_df = pd.concat([new_row,target_df.loc[:]]).reset_index(drop=True)\n",
    "        \n",
    "    return target_df"
   ]
  },
  {
   "cell_type": "code",
   "execution_count": 6,
   "id": "5938ea47",
   "metadata": {},
   "outputs": [],
   "source": [
    "#processed_df = pd.DataFrame(columns = generated_table_headers)"
   ]
  },
  {
   "cell_type": "code",
   "execution_count": 7,
   "id": "c78af1db",
   "metadata": {},
   "outputs": [],
   "source": [
    "def post_process_and_save_df(target_df, file_name):\n",
    "    target_df = target_df.groupby(['Date']).first().reset_index()\n",
    "    target_df['Date'] = pd.to_datetime(target_df['Date'])\n",
    "    target_df.set_index('Date', inplace=True)\n",
    "    target_df = target_df.sort_index()\n",
    "    target_df = target_df.reindex(columns = generated_table_headers)\n",
    "    target_df = target_df.drop(columns=['Date'])\n",
    "    #Save\n",
    "    target_df.to_csv(f'Data\\{file_name}.txt', sep = ',')"
   ]
  },
  {
   "cell_type": "code",
   "execution_count": 9,
   "id": "3f422332",
   "metadata": {},
   "outputs": [],
   "source": [
    "# Process the data\n",
    "csv_names = [\n",
    "    'ACISHourlyData-20170101-20170701',\n",
    "]\n",
    "\n",
    "for csv_name in csv_names:\n",
    "    data = pd.read_csv(f'Data\\{csv_name}.csv', encoding = \"ISO-8859-1\")\n",
    "    processed_df = pd.DataFrame(columns = generated_table_headers)\n",
    "    processed_df = process_raw_data(data, processed_df)\n",
    "    post_process_and_save_df(processed_df, f'processed_wind_small')\n"
   ]
  },
  {
   "cell_type": "code",
   "execution_count": null,
   "id": "df4744da",
   "metadata": {},
   "outputs": [],
   "source": []
  }
 ],
 "metadata": {
  "kernelspec": {
   "display_name": "Python 3 (ipykernel)",
   "language": "python",
   "name": "python3"
  },
  "language_info": {
   "codemirror_mode": {
    "name": "ipython",
    "version": 3
   },
   "file_extension": ".py",
   "mimetype": "text/x-python",
   "name": "python",
   "nbconvert_exporter": "python",
   "pygments_lexer": "ipython3",
   "version": "3.9.17"
  }
 },
 "nbformat": 4,
 "nbformat_minor": 5
}
