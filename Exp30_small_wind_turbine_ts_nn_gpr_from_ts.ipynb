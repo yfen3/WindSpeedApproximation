{
 "cells": [
  {
   "cell_type": "code",
   "execution_count": 1,
   "id": "e85e59f8",
   "metadata": {},
   "outputs": [
    {
     "name": "stdout",
     "output_type": "stream",
     "text": [
      "Keras version is 3.1.1\n",
      "Num GPUs Available: 1\n"
     ]
    }
   ],
   "source": [
    "# Get the data for expeirment\n",
    "import pandas as pd \n",
    "import numpy as np\n",
    "import time\n",
    "from sklearn.preprocessing import StandardScaler\n",
    "from sklearn.gaussian_process import GaussianProcessRegressor\n",
    "from sklearn.gaussian_process.kernels import Matern, RBF\n",
    "import seaborn as sns\n",
    "import TsModel\n",
    "import GprModel\n",
    "import TsModel_constant\n",
    "import torch\n",
    "from sklearn.metrics import r2_score, root_mean_squared_error\n",
    "import matplotlib.pyplot as plt\n",
    "import os\n",
    "os.environ[\"KERAS_BACKEND\"] = \"torch\"\n",
    "import keras\n",
    "from keras import layers, models\n",
    "\n",
    "device = torch.device(\"cuda:0\")\n",
    "print(f\"Keras version is {keras.__version__}\")\n",
    "print(f\"Num GPUs Available: {torch.cuda.device_count()}\")\n",
    "plt.rcParams.update({'font.size': 20})"
   ]
  },
  {
   "cell_type": "code",
   "execution_count": 14,
   "id": "fa034de2",
   "metadata": {},
   "outputs": [],
   "source": [
    "exp30_results = {\n",
    "    'gp_tsl_train_accuracy':gp_tsl_train_accuracy,\n",
    "    'gp_tsl_test_accuracy':gp_tsl_test_accuracy,\n",
    "    'gp_tsl_r2s':gp_tsl_r2s,\n",
    "    'gp_tsl_time':gp_tsl_time,\n",
    "    'gp_tsc_train_accuracy':gp_tsc_train_accuracy,\n",
    "    'gp_tsc_test_accuracy':gp_tsc_test_accuracy,\n",
    "    'gp_tsc_r2s':gp_tsc_r2s,\n",
    "    'gp_tsc_time':gp_tsc_time,\n",
    "    'gp_nn_tsl_train_accuracy':gp_nn_tsl_train_accuracy,\n",
    "    'gp_nn_tsl_test_accuracy':gp_nn_tsl_test_accuracy,\n",
    "    'gp_nn_tsl_r2s':gp_nn_tsl_r2s,\n",
    "    'nn_tsl_r2s':nn_tsl_r2s,\n",
    "    'gp_nn_tsl_time':gp_nn_tsl_time,\n",
    "    'gp_nn_tsc_train_accuracy':gp_nn_tsc_train_accuracy,\n",
    "    'gp_nn_tsc_test_accuracy':gp_nn_tsc_test_accuracy,\n",
    "    'gp_nn_tsc_r2s':gp_nn_tsc_r2s,\n",
    "    'nn_tsc_r2s':nn_tsc_r2s,\n",
    "    'gp_nn_tsc_time':gp_nn_tsc_time\n",
    "}"
   ]
  },
  {
   "cell_type": "code",
   "execution_count": 15,
   "id": "2102da05",
   "metadata": {},
   "outputs": [
    {
     "name": "stdout",
     "output_type": "stream",
     "text": [
      "Stored 'exp30_results' (dict)\n"
     ]
    }
   ],
   "source": [
    "#%store exp30_results "
   ]
  },
  {
   "cell_type": "code",
   "execution_count": 2,
   "id": "6605d015",
   "metadata": {},
   "outputs": [],
   "source": [
    "# Train and test the solar data set\n",
    "x_train = pd.read_csv('Data/FES/small_wind_turbine_x_train.csv')\n",
    "x_test = pd.read_csv('Data/FES/small_wind_turbine_x_test.csv')\n",
    "y_train = pd.read_csv('Data/FES/small_wind_turbine_y_train.csv')\n",
    "y_test = pd.read_csv('Data/FES/small_wind_turbine_y_test.csv')"
   ]
  },
  {
   "cell_type": "code",
   "execution_count": 3,
   "id": "6f9fe97f",
   "metadata": {},
   "outputs": [],
   "source": [
    "number_of_folds = 10\n",
    "\n",
    "# Source: From the TSmodel\n",
    "def preprocess_data(train_x, test_x, train_y, test_y):\n",
    "    feature_scaler = StandardScaler()\n",
    "    scaled_train_x = feature_scaler.fit_transform(train_x)\n",
    "    scaled_test_x = feature_scaler.transform(test_x)\n",
    "\n",
    "    # target_scaler = StandardScaler()  \n",
    "    # scaled_train_y = target_scaler.fit_transform(train_y)\n",
    "    # scaled_test_y = target_scaler.transform(test_y)    \n",
    "    # return scaled_train_x, scaled_test_x, scaled_train_y, scaled_test_y, feature_scaler, target_scaler    \n",
    "\n",
    "    return scaled_train_x, scaled_test_x, feature_scaler    \n",
    "\n",
    "def build_neural_network_model():\n",
    "    model = models.Sequential()\n",
    "    model.add(layers.Dense(9, activation=keras.activations.tanh))    \n",
    "    model.add(layers.Dense(18, activation=keras.activations.tanh))    \n",
    "    model.add(layers.Dense(1, activation=keras.activations.relu))\n",
    "    return model"
   ]
  },
  {
   "cell_type": "code",
   "execution_count": 4,
   "id": "3da3320a",
   "metadata": {},
   "outputs": [],
   "source": [
    "x_train, x_test, feature_scaler = preprocess_data(x_train, x_test, y_train, y_test)\n",
    "y_train = y_train.to_numpy()\n",
    "y_test = y_test.to_numpy()"
   ]
  },
  {
   "cell_type": "code",
   "execution_count": 5,
   "id": "cd4fc524",
   "metadata": {},
   "outputs": [],
   "source": [
    "def do_nn_exp():\n",
    "    neural_network_model = build_neural_network_model()\n",
    "\n",
    "    neural_network_model.compile(\n",
    "        optimizer=keras.optimizers.Adam(),\n",
    "        loss=keras.losses.MeanSquaredError(),\n",
    "        metrics=[keras.metrics.RootMeanSquaredError()]\n",
    "    )\n",
    "\n",
    "    start_time = time.time()\n",
    "    history = neural_network_model.fit(\n",
    "        x_train, \n",
    "        y_train,\n",
    "        epochs=100, \n",
    "        shuffle=True\n",
    "    )\n",
    "    time_used = time.time() - start_time\n",
    "    \n",
    "    return neural_network_model"
   ]
  },
  {
   "cell_type": "code",
   "execution_count": 6,
   "id": "5b0fedb7",
   "metadata": {},
   "outputs": [
    {
     "name": "stdout",
     "output_type": "stream",
     "text": [
      "Epoch 1/100\n",
      "\u001b[1m4901/4901\u001b[0m \u001b[32m━━━━━━━━━━━━━━━━━━━━\u001b[0m\u001b[37m\u001b[0m \u001b[1m19s\u001b[0m 4ms/step - loss: 14612.1416 - root_mean_squared_error: 120.8125\n",
      "Epoch 2/100\n",
      "\u001b[1m4901/4901\u001b[0m \u001b[32m━━━━━━━━━━━━━━━━━━━━\u001b[0m\u001b[37m\u001b[0m \u001b[1m19s\u001b[0m 4ms/step - loss: 9914.0059 - root_mean_squared_error: 99.5365\n",
      "Epoch 3/100\n",
      "\u001b[1m4901/4901\u001b[0m \u001b[32m━━━━━━━━━━━━━━━━━━━━\u001b[0m\u001b[37m\u001b[0m \u001b[1m18s\u001b[0m 4ms/step - loss: 7649.2412 - root_mean_squared_error: 87.4098\n",
      "Epoch 4/100\n",
      "\u001b[1m4901/4901\u001b[0m \u001b[32m━━━━━━━━━━━━━━━━━━━━\u001b[0m\u001b[37m\u001b[0m \u001b[1m19s\u001b[0m 4ms/step - loss: 5649.6475 - root_mean_squared_error: 75.1093\n",
      "Epoch 5/100\n",
      "\u001b[1m4901/4901\u001b[0m \u001b[32m━━━━━━━━━━━━━━━━━━━━\u001b[0m\u001b[37m\u001b[0m \u001b[1m19s\u001b[0m 4ms/step - loss: 4591.0015 - root_mean_squared_error: 67.7243\n",
      "Epoch 6/100\n",
      "\u001b[1m4901/4901\u001b[0m \u001b[32m━━━━━━━━━━━━━━━━━━━━\u001b[0m\u001b[37m\u001b[0m \u001b[1m19s\u001b[0m 4ms/step - loss: 3568.8914 - root_mean_squared_error: 59.7059\n",
      "Epoch 7/100\n",
      "\u001b[1m4901/4901\u001b[0m \u001b[32m━━━━━━━━━━━━━━━━━━━━\u001b[0m\u001b[37m\u001b[0m \u001b[1m19s\u001b[0m 4ms/step - loss: 3038.9275 - root_mean_squared_error: 55.0935\n",
      "Epoch 8/100\n",
      "\u001b[1m4901/4901\u001b[0m \u001b[32m━━━━━━━━━━━━━━━━━━━━\u001b[0m\u001b[37m\u001b[0m \u001b[1m19s\u001b[0m 4ms/step - loss: 2588.8206 - root_mean_squared_error: 50.8092\n",
      "Epoch 9/100\n",
      "\u001b[1m4901/4901\u001b[0m \u001b[32m━━━━━━━━━━━━━━━━━━━━\u001b[0m\u001b[37m\u001b[0m \u001b[1m19s\u001b[0m 4ms/step - loss: 2283.1670 - root_mean_squared_error: 47.6552\n",
      "Epoch 10/100\n",
      "\u001b[1m4901/4901\u001b[0m \u001b[32m━━━━━━━━━━━━━━━━━━━━\u001b[0m\u001b[37m\u001b[0m \u001b[1m18s\u001b[0m 4ms/step - loss: 1843.5226 - root_mean_squared_error: 42.9044\n",
      "Epoch 11/100\n",
      "\u001b[1m4901/4901\u001b[0m \u001b[32m━━━━━━━━━━━━━━━━━━━━\u001b[0m\u001b[37m\u001b[0m \u001b[1m18s\u001b[0m 4ms/step - loss: 1643.6305 - root_mean_squared_error: 40.4725\n",
      "Epoch 12/100\n",
      "\u001b[1m4901/4901\u001b[0m \u001b[32m━━━━━━━━━━━━━━━━━━━━\u001b[0m\u001b[37m\u001b[0m \u001b[1m19s\u001b[0m 4ms/step - loss: 1456.7313 - root_mean_squared_error: 38.1104\n",
      "Epoch 13/100\n",
      "\u001b[1m4901/4901\u001b[0m \u001b[32m━━━━━━━━━━━━━━━━━━━━\u001b[0m\u001b[37m\u001b[0m \u001b[1m17s\u001b[0m 3ms/step - loss: 1314.4155 - root_mean_squared_error: 36.1997\n",
      "Epoch 14/100\n",
      "\u001b[1m4901/4901\u001b[0m \u001b[32m━━━━━━━━━━━━━━━━━━━━\u001b[0m\u001b[37m\u001b[0m \u001b[1m18s\u001b[0m 4ms/step - loss: 1198.5546 - root_mean_squared_error: 34.5315\n",
      "Epoch 15/100\n",
      "\u001b[1m4901/4901\u001b[0m \u001b[32m━━━━━━━━━━━━━━━━━━━━\u001b[0m\u001b[37m\u001b[0m \u001b[1m17s\u001b[0m 4ms/step - loss: 991.1373 - root_mean_squared_error: 31.4374\n",
      "Epoch 16/100\n",
      "\u001b[1m4901/4901\u001b[0m \u001b[32m━━━━━━━━━━━━━━━━━━━━\u001b[0m\u001b[37m\u001b[0m \u001b[1m17s\u001b[0m 4ms/step - loss: 923.0858 - root_mean_squared_error: 30.3272\n",
      "Epoch 17/100\n",
      "\u001b[1m4901/4901\u001b[0m \u001b[32m━━━━━━━━━━━━━━━━━━━━\u001b[0m\u001b[37m\u001b[0m \u001b[1m16s\u001b[0m 3ms/step - loss: 880.0239 - root_mean_squared_error: 29.5538\n",
      "Epoch 18/100\n",
      "\u001b[1m4901/4901\u001b[0m \u001b[32m━━━━━━━━━━━━━━━━━━━━\u001b[0m\u001b[37m\u001b[0m \u001b[1m19s\u001b[0m 4ms/step - loss: 871.6678 - root_mean_squared_error: 29.4857\n",
      "Epoch 19/100\n",
      "\u001b[1m4901/4901\u001b[0m \u001b[32m━━━━━━━━━━━━━━━━━━━━\u001b[0m\u001b[37m\u001b[0m \u001b[1m19s\u001b[0m 4ms/step - loss: 781.2983 - root_mean_squared_error: 27.9003\n",
      "Epoch 20/100\n",
      "\u001b[1m4901/4901\u001b[0m \u001b[32m━━━━━━━━━━━━━━━━━━━━\u001b[0m\u001b[37m\u001b[0m \u001b[1m19s\u001b[0m 4ms/step - loss: 743.4009 - root_mean_squared_error: 27.1956\n",
      "Epoch 21/100\n",
      "\u001b[1m4901/4901\u001b[0m \u001b[32m━━━━━━━━━━━━━━━━━━━━\u001b[0m\u001b[37m\u001b[0m \u001b[1m19s\u001b[0m 4ms/step - loss: 729.2273 - root_mean_squared_error: 26.9234\n",
      "Epoch 22/100\n",
      "\u001b[1m4901/4901\u001b[0m \u001b[32m━━━━━━━━━━━━━━━━━━━━\u001b[0m\u001b[37m\u001b[0m \u001b[1m19s\u001b[0m 4ms/step - loss: 661.6765 - root_mean_squared_error: 25.6935\n",
      "Epoch 23/100\n",
      "\u001b[1m4901/4901\u001b[0m \u001b[32m━━━━━━━━━━━━━━━━━━━━\u001b[0m\u001b[37m\u001b[0m \u001b[1m20s\u001b[0m 4ms/step - loss: 625.4293 - root_mean_squared_error: 24.8918\n",
      "Epoch 24/100\n",
      "\u001b[1m4901/4901\u001b[0m \u001b[32m━━━━━━━━━━━━━━━━━━━━\u001b[0m\u001b[37m\u001b[0m \u001b[1m18s\u001b[0m 4ms/step - loss: 595.8779 - root_mean_squared_error: 24.3464\n",
      "Epoch 25/100\n",
      "\u001b[1m4901/4901\u001b[0m \u001b[32m━━━━━━━━━━━━━━━━━━━━\u001b[0m\u001b[37m\u001b[0m \u001b[1m19s\u001b[0m 4ms/step - loss: 582.6921 - root_mean_squared_error: 24.0559\n",
      "Epoch 26/100\n",
      "\u001b[1m4901/4901\u001b[0m \u001b[32m━━━━━━━━━━━━━━━━━━━━\u001b[0m\u001b[37m\u001b[0m \u001b[1m19s\u001b[0m 4ms/step - loss: 518.0276 - root_mean_squared_error: 22.7054\n",
      "Epoch 27/100\n",
      "\u001b[1m4901/4901\u001b[0m \u001b[32m━━━━━━━━━━━━━━━━━━━━\u001b[0m\u001b[37m\u001b[0m \u001b[1m19s\u001b[0m 4ms/step - loss: 520.4496 - root_mean_squared_error: 22.7784\n",
      "Epoch 28/100\n",
      "\u001b[1m4901/4901\u001b[0m \u001b[32m━━━━━━━━━━━━━━━━━━━━\u001b[0m\u001b[37m\u001b[0m \u001b[1m19s\u001b[0m 4ms/step - loss: 480.7240 - root_mean_squared_error: 21.8250\n",
      "Epoch 29/100\n",
      "\u001b[1m4901/4901\u001b[0m \u001b[32m━━━━━━━━━━━━━━━━━━━━\u001b[0m\u001b[37m\u001b[0m \u001b[1m20s\u001b[0m 4ms/step - loss: 440.0145 - root_mean_squared_error: 20.9008\n",
      "Epoch 30/100\n",
      "\u001b[1m4901/4901\u001b[0m \u001b[32m━━━━━━━━━━━━━━━━━━━━\u001b[0m\u001b[37m\u001b[0m \u001b[1m19s\u001b[0m 4ms/step - loss: 447.1460 - root_mean_squared_error: 21.0845\n",
      "Epoch 31/100\n",
      "\u001b[1m4901/4901\u001b[0m \u001b[32m━━━━━━━━━━━━━━━━━━━━\u001b[0m\u001b[37m\u001b[0m \u001b[1m20s\u001b[0m 4ms/step - loss: 372.0397 - root_mean_squared_error: 19.0961\n",
      "Epoch 32/100\n",
      "\u001b[1m4901/4901\u001b[0m \u001b[32m━━━━━━━━━━━━━━━━━━━━\u001b[0m\u001b[37m\u001b[0m \u001b[1m19s\u001b[0m 4ms/step - loss: 372.3206 - root_mean_squared_error: 19.2424\n",
      "Epoch 33/100\n",
      "\u001b[1m4901/4901\u001b[0m \u001b[32m━━━━━━━━━━━━━━━━━━━━\u001b[0m\u001b[37m\u001b[0m \u001b[1m19s\u001b[0m 4ms/step - loss: 390.9312 - root_mean_squared_error: 19.6931\n",
      "Epoch 34/100\n",
      "\u001b[1m4901/4901\u001b[0m \u001b[32m━━━━━━━━━━━━━━━━━━━━\u001b[0m\u001b[37m\u001b[0m \u001b[1m19s\u001b[0m 4ms/step - loss: 361.4823 - root_mean_squared_error: 18.9400\n",
      "Epoch 35/100\n",
      "\u001b[1m4901/4901\u001b[0m \u001b[32m━━━━━━━━━━━━━━━━━━━━\u001b[0m\u001b[37m\u001b[0m \u001b[1m18s\u001b[0m 4ms/step - loss: 424.0554 - root_mean_squared_error: 20.4794\n",
      "Epoch 36/100\n",
      "\u001b[1m4901/4901\u001b[0m \u001b[32m━━━━━━━━━━━━━━━━━━━━\u001b[0m\u001b[37m\u001b[0m \u001b[1m20s\u001b[0m 4ms/step - loss: 384.4018 - root_mean_squared_error: 19.4330\n",
      "Epoch 37/100\n",
      "\u001b[1m4901/4901\u001b[0m \u001b[32m━━━━━━━━━━━━━━━━━━━━\u001b[0m\u001b[37m\u001b[0m \u001b[1m19s\u001b[0m 4ms/step - loss: 387.2987 - root_mean_squared_error: 19.6056\n",
      "Epoch 38/100\n",
      "\u001b[1m4901/4901\u001b[0m \u001b[32m━━━━━━━━━━━━━━━━━━━━\u001b[0m\u001b[37m\u001b[0m \u001b[1m18s\u001b[0m 4ms/step - loss: 289.1322 - root_mean_squared_error: 16.8559\n",
      "Epoch 39/100\n",
      "\u001b[1m4901/4901\u001b[0m \u001b[32m━━━━━━━━━━━━━━━━━━━━\u001b[0m\u001b[37m\u001b[0m \u001b[1m18s\u001b[0m 4ms/step - loss: 306.9776 - root_mean_squared_error: 17.4407\n",
      "Epoch 40/100\n",
      "\u001b[1m4901/4901\u001b[0m \u001b[32m━━━━━━━━━━━━━━━━━━━━\u001b[0m\u001b[37m\u001b[0m \u001b[1m18s\u001b[0m 4ms/step - loss: 280.0648 - root_mean_squared_error: 16.5869\n",
      "Epoch 41/100\n",
      "\u001b[1m4901/4901\u001b[0m \u001b[32m━━━━━━━━━━━━━━━━━━━━\u001b[0m\u001b[37m\u001b[0m \u001b[1m18s\u001b[0m 4ms/step - loss: 348.1926 - root_mean_squared_error: 18.5379\n",
      "Epoch 42/100\n",
      "\u001b[1m4901/4901\u001b[0m \u001b[32m━━━━━━━━━━━━━━━━━━━━\u001b[0m\u001b[37m\u001b[0m \u001b[1m24s\u001b[0m 5ms/step - loss: 318.5751 - root_mean_squared_error: 17.7366\n",
      "Epoch 43/100\n",
      "\u001b[1m4901/4901\u001b[0m \u001b[32m━━━━━━━━━━━━━━━━━━━━\u001b[0m\u001b[37m\u001b[0m \u001b[1m18s\u001b[0m 4ms/step - loss: 253.8241 - root_mean_squared_error: 15.8317\n",
      "Epoch 44/100\n",
      "\u001b[1m4901/4901\u001b[0m \u001b[32m━━━━━━━━━━━━━━━━━━━━\u001b[0m\u001b[37m\u001b[0m \u001b[1m18s\u001b[0m 4ms/step - loss: 357.7961 - root_mean_squared_error: 18.6661\n",
      "Epoch 45/100\n",
      "\u001b[1m4901/4901\u001b[0m \u001b[32m━━━━━━━━━━━━━━━━━━━━\u001b[0m\u001b[37m\u001b[0m \u001b[1m18s\u001b[0m 4ms/step - loss: 332.6644 - root_mean_squared_error: 18.1441\n",
      "Epoch 46/100\n",
      "\u001b[1m4901/4901\u001b[0m \u001b[32m━━━━━━━━━━━━━━━━━━━━\u001b[0m\u001b[37m\u001b[0m \u001b[1m18s\u001b[0m 4ms/step - loss: 245.7678 - root_mean_squared_error: 15.5433\n",
      "Epoch 47/100\n",
      "\u001b[1m4901/4901\u001b[0m \u001b[32m━━━━━━━━━━━━━━━━━━━━\u001b[0m\u001b[37m\u001b[0m \u001b[1m19s\u001b[0m 4ms/step - loss: 224.0781 - root_mean_squared_error: 14.7599\n",
      "Epoch 48/100\n",
      "\u001b[1m4901/4901\u001b[0m \u001b[32m━━━━━━━━━━━━━━━━━━━━\u001b[0m\u001b[37m\u001b[0m \u001b[1m22s\u001b[0m 4ms/step - loss: 302.9508 - root_mean_squared_error: 17.2743\n",
      "Epoch 49/100\n",
      "\u001b[1m4901/4901\u001b[0m \u001b[32m━━━━━━━━━━━━━━━━━━━━\u001b[0m\u001b[37m\u001b[0m \u001b[1m19s\u001b[0m 4ms/step - loss: 238.0356 - root_mean_squared_error: 15.3198\n",
      "Epoch 50/100\n",
      "\u001b[1m4901/4901\u001b[0m \u001b[32m━━━━━━━━━━━━━━━━━━━━\u001b[0m\u001b[37m\u001b[0m \u001b[1m19s\u001b[0m 4ms/step - loss: 264.2654 - root_mean_squared_error: 16.1068\n",
      "Epoch 51/100\n",
      "\u001b[1m4901/4901\u001b[0m \u001b[32m━━━━━━━━━━━━━━━━━━━━\u001b[0m\u001b[37m\u001b[0m \u001b[1m19s\u001b[0m 4ms/step - loss: 231.2309 - root_mean_squared_error: 15.1271\n",
      "Epoch 52/100\n",
      "\u001b[1m4901/4901\u001b[0m \u001b[32m━━━━━━━━━━━━━━━━━━━━\u001b[0m\u001b[37m\u001b[0m \u001b[1m18s\u001b[0m 4ms/step - loss: 199.6386 - root_mean_squared_error: 14.0268\n",
      "Epoch 53/100\n",
      "\u001b[1m4901/4901\u001b[0m \u001b[32m━━━━━━━━━━━━━━━━━━━━\u001b[0m\u001b[37m\u001b[0m \u001b[1m19s\u001b[0m 4ms/step - loss: 326.5646 - root_mean_squared_error: 17.7254\n",
      "Epoch 54/100\n",
      "\u001b[1m4901/4901\u001b[0m \u001b[32m━━━━━━━━━━━━━━━━━━━━\u001b[0m\u001b[37m\u001b[0m \u001b[1m19s\u001b[0m 4ms/step - loss: 270.0352 - root_mean_squared_error: 16.3554\n",
      "Epoch 55/100\n",
      "\u001b[1m4901/4901\u001b[0m \u001b[32m━━━━━━━━━━━━━━━━━━━━\u001b[0m\u001b[37m\u001b[0m \u001b[1m19s\u001b[0m 4ms/step - loss: 268.2690 - root_mean_squared_error: 16.2847\n",
      "Epoch 56/100\n",
      "\u001b[1m4901/4901\u001b[0m \u001b[32m━━━━━━━━━━━━━━━━━━━━\u001b[0m\u001b[37m\u001b[0m \u001b[1m19s\u001b[0m 4ms/step - loss: 226.7729 - root_mean_squared_error: 15.0091\n",
      "Epoch 57/100\n",
      "\u001b[1m4901/4901\u001b[0m \u001b[32m━━━━━━━━━━━━━━━━━━━━\u001b[0m\u001b[37m\u001b[0m \u001b[1m19s\u001b[0m 4ms/step - loss: 255.4121 - root_mean_squared_error: 15.8379\n",
      "Epoch 58/100\n",
      "\u001b[1m4901/4901\u001b[0m \u001b[32m━━━━━━━━━━━━━━━━━━━━\u001b[0m\u001b[37m\u001b[0m \u001b[1m19s\u001b[0m 4ms/step - loss: 186.4352 - root_mean_squared_error: 13.5160\n",
      "Epoch 59/100\n",
      "\u001b[1m4901/4901\u001b[0m \u001b[32m━━━━━━━━━━━━━━━━━━━━\u001b[0m\u001b[37m\u001b[0m \u001b[1m19s\u001b[0m 4ms/step - loss: 266.5376 - root_mean_squared_error: 15.9650\n",
      "Epoch 60/100\n",
      "\u001b[1m4901/4901\u001b[0m \u001b[32m━━━━━━━━━━━━━━━━━━━━\u001b[0m\u001b[37m\u001b[0m \u001b[1m19s\u001b[0m 4ms/step - loss: 262.0856 - root_mean_squared_error: 16.1017\n",
      "Epoch 61/100\n",
      "\u001b[1m4901/4901\u001b[0m \u001b[32m━━━━━━━━━━━━━━━━━━━━\u001b[0m\u001b[37m\u001b[0m \u001b[1m19s\u001b[0m 4ms/step - loss: 190.9587 - root_mean_squared_error: 13.7413\n",
      "Epoch 62/100\n",
      "\u001b[1m4901/4901\u001b[0m \u001b[32m━━━━━━━━━━━━━━━━━━━━\u001b[0m\u001b[37m\u001b[0m \u001b[1m19s\u001b[0m 4ms/step - loss: 196.2691 - root_mean_squared_error: 13.9667\n",
      "Epoch 63/100\n",
      "\u001b[1m4901/4901\u001b[0m \u001b[32m━━━━━━━━━━━━━━━━━━━━\u001b[0m\u001b[37m\u001b[0m \u001b[1m19s\u001b[0m 4ms/step - loss: 212.1305 - root_mean_squared_error: 14.3736\n",
      "Epoch 64/100\n",
      "\u001b[1m4901/4901\u001b[0m \u001b[32m━━━━━━━━━━━━━━━━━━━━\u001b[0m\u001b[37m\u001b[0m \u001b[1m19s\u001b[0m 4ms/step - loss: 223.1968 - root_mean_squared_error: 14.8247\n",
      "Epoch 65/100\n",
      "\u001b[1m4901/4901\u001b[0m \u001b[32m━━━━━━━━━━━━━━━━━━━━\u001b[0m\u001b[37m\u001b[0m \u001b[1m19s\u001b[0m 4ms/step - loss: 175.5855 - root_mean_squared_error: 13.1509\n",
      "Epoch 66/100\n",
      "\u001b[1m4901/4901\u001b[0m \u001b[32m━━━━━━━━━━━━━━━━━━━━\u001b[0m\u001b[37m\u001b[0m \u001b[1m19s\u001b[0m 4ms/step - loss: 150.9420 - root_mean_squared_error: 12.1608\n",
      "Epoch 67/100\n",
      "\u001b[1m4901/4901\u001b[0m \u001b[32m━━━━━━━━━━━━━━━━━━━━\u001b[0m\u001b[37m\u001b[0m \u001b[1m19s\u001b[0m 4ms/step - loss: 189.1069 - root_mean_squared_error: 13.6801\n",
      "Epoch 68/100\n",
      "\u001b[1m4901/4901\u001b[0m \u001b[32m━━━━━━━━━━━━━━━━━━━━\u001b[0m\u001b[37m\u001b[0m \u001b[1m19s\u001b[0m 4ms/step - loss: 221.8827 - root_mean_squared_error: 14.7149\n",
      "Epoch 69/100\n",
      "\u001b[1m4901/4901\u001b[0m \u001b[32m━━━━━━━━━━━━━━━━━━━━\u001b[0m\u001b[37m\u001b[0m \u001b[1m19s\u001b[0m 4ms/step - loss: 175.3600 - root_mean_squared_error: 13.1952\n",
      "Epoch 70/100\n",
      "\u001b[1m4901/4901\u001b[0m \u001b[32m━━━━━━━━━━━━━━━━━━━━\u001b[0m\u001b[37m\u001b[0m \u001b[1m19s\u001b[0m 4ms/step - loss: 181.2656 - root_mean_squared_error: 13.3797\n",
      "Epoch 71/100\n",
      "\u001b[1m4901/4901\u001b[0m \u001b[32m━━━━━━━━━━━━━━━━━━━━\u001b[0m\u001b[37m\u001b[0m \u001b[1m19s\u001b[0m 4ms/step - loss: 204.0168 - root_mean_squared_error: 14.1912\n",
      "Epoch 72/100\n",
      "\u001b[1m4901/4901\u001b[0m \u001b[32m━━━━━━━━━━━━━━━━━━━━\u001b[0m\u001b[37m\u001b[0m \u001b[1m19s\u001b[0m 4ms/step - loss: 205.9606 - root_mean_squared_error: 14.2924\n",
      "Epoch 73/100\n",
      "\u001b[1m4901/4901\u001b[0m \u001b[32m━━━━━━━━━━━━━━━━━━━━\u001b[0m\u001b[37m\u001b[0m \u001b[1m19s\u001b[0m 4ms/step - loss: 193.1966 - root_mean_squared_error: 13.8039\n",
      "Epoch 74/100\n",
      "\u001b[1m4901/4901\u001b[0m \u001b[32m━━━━━━━━━━━━━━━━━━━━\u001b[0m\u001b[37m\u001b[0m \u001b[1m19s\u001b[0m 4ms/step - loss: 165.1910 - root_mean_squared_error: 12.7604\n",
      "Epoch 75/100\n",
      "\u001b[1m4901/4901\u001b[0m \u001b[32m━━━━━━━━━━━━━━━━━━━━\u001b[0m\u001b[37m\u001b[0m \u001b[1m19s\u001b[0m 4ms/step - loss: 223.4490 - root_mean_squared_error: 14.7992\n",
      "Epoch 76/100\n",
      "\u001b[1m4901/4901\u001b[0m \u001b[32m━━━━━━━━━━━━━━━━━━━━\u001b[0m\u001b[37m\u001b[0m \u001b[1m19s\u001b[0m 4ms/step - loss: 127.0841 - root_mean_squared_error: 11.1880\n",
      "Epoch 77/100\n",
      "\u001b[1m4901/4901\u001b[0m \u001b[32m━━━━━━━━━━━━━━━━━━━━\u001b[0m\u001b[37m\u001b[0m \u001b[1m19s\u001b[0m 4ms/step - loss: 168.8923 - root_mean_squared_error: 12.9486\n",
      "Epoch 78/100\n",
      "\u001b[1m4901/4901\u001b[0m \u001b[32m━━━━━━━━━━━━━━━━━━━━\u001b[0m\u001b[37m\u001b[0m \u001b[1m19s\u001b[0m 4ms/step - loss: 128.4694 - root_mean_squared_error: 11.2506\n",
      "Epoch 79/100\n",
      "\u001b[1m4901/4901\u001b[0m \u001b[32m━━━━━━━━━━━━━━━━━━━━\u001b[0m\u001b[37m\u001b[0m \u001b[1m19s\u001b[0m 4ms/step - loss: 181.9710 - root_mean_squared_error: 13.3090\n",
      "Epoch 80/100\n",
      "\u001b[1m4901/4901\u001b[0m \u001b[32m━━━━━━━━━━━━━━━━━━━━\u001b[0m\u001b[37m\u001b[0m \u001b[1m19s\u001b[0m 4ms/step - loss: 139.3771 - root_mean_squared_error: 11.7810\n",
      "Epoch 81/100\n",
      "\u001b[1m4901/4901\u001b[0m \u001b[32m━━━━━━━━━━━━━━━━━━━━\u001b[0m\u001b[37m\u001b[0m \u001b[1m19s\u001b[0m 4ms/step - loss: 176.9385 - root_mean_squared_error: 13.2260\n",
      "Epoch 82/100\n",
      "\u001b[1m4901/4901\u001b[0m \u001b[32m━━━━━━━━━━━━━━━━━━━━\u001b[0m\u001b[37m\u001b[0m \u001b[1m19s\u001b[0m 4ms/step - loss: 149.8104 - root_mean_squared_error: 12.1870\n",
      "Epoch 83/100\n",
      "\u001b[1m4901/4901\u001b[0m \u001b[32m━━━━━━━━━━━━━━━━━━━━\u001b[0m\u001b[37m\u001b[0m \u001b[1m19s\u001b[0m 4ms/step - loss: 157.9513 - root_mean_squared_error: 12.5411\n",
      "Epoch 84/100\n",
      "\u001b[1m4901/4901\u001b[0m \u001b[32m━━━━━━━━━━━━━━━━━━━━\u001b[0m\u001b[37m\u001b[0m \u001b[1m19s\u001b[0m 4ms/step - loss: 181.5170 - root_mean_squared_error: 13.3539\n",
      "Epoch 85/100\n",
      "\u001b[1m4901/4901\u001b[0m \u001b[32m━━━━━━━━━━━━━━━━━━━━\u001b[0m\u001b[37m\u001b[0m \u001b[1m19s\u001b[0m 4ms/step - loss: 186.5169 - root_mean_squared_error: 13.5958\n",
      "Epoch 86/100\n",
      "\u001b[1m4901/4901\u001b[0m \u001b[32m━━━━━━━━━━━━━━━━━━━━\u001b[0m\u001b[37m\u001b[0m \u001b[1m19s\u001b[0m 4ms/step - loss: 194.9537 - root_mean_squared_error: 13.4203\n",
      "Epoch 87/100\n",
      "\u001b[1m4901/4901\u001b[0m \u001b[32m━━━━━━━━━━━━━━━━━━━━\u001b[0m\u001b[37m\u001b[0m \u001b[1m19s\u001b[0m 4ms/step - loss: 176.6366 - root_mean_squared_error: 13.1138\n",
      "Epoch 88/100\n",
      "\u001b[1m4901/4901\u001b[0m \u001b[32m━━━━━━━━━━━━━━━━━━━━\u001b[0m\u001b[37m\u001b[0m \u001b[1m19s\u001b[0m 4ms/step - loss: 122.7934 - root_mean_squared_error: 11.0346\n",
      "Epoch 89/100\n",
      "\u001b[1m4901/4901\u001b[0m \u001b[32m━━━━━━━━━━━━━━━━━━━━\u001b[0m\u001b[37m\u001b[0m \u001b[1m19s\u001b[0m 4ms/step - loss: 137.7088 - root_mean_squared_error: 11.6566\n",
      "Epoch 90/100\n",
      "\u001b[1m4901/4901\u001b[0m \u001b[32m━━━━━━━━━━━━━━━━━━━━\u001b[0m\u001b[37m\u001b[0m \u001b[1m19s\u001b[0m 4ms/step - loss: 139.6777 - root_mean_squared_error: 11.7970\n",
      "Epoch 91/100\n",
      "\u001b[1m4901/4901\u001b[0m \u001b[32m━━━━━━━━━━━━━━━━━━━━\u001b[0m\u001b[37m\u001b[0m \u001b[1m19s\u001b[0m 4ms/step - loss: 122.5961 - root_mean_squared_error: 11.0511\n",
      "Epoch 92/100\n",
      "\u001b[1m4901/4901\u001b[0m \u001b[32m━━━━━━━━━━━━━━━━━━━━\u001b[0m\u001b[37m\u001b[0m \u001b[1m19s\u001b[0m 4ms/step - loss: 139.7116 - root_mean_squared_error: 11.7512\n",
      "Epoch 93/100\n",
      "\u001b[1m4901/4901\u001b[0m \u001b[32m━━━━━━━━━━━━━━━━━━━━\u001b[0m\u001b[37m\u001b[0m \u001b[1m19s\u001b[0m 4ms/step - loss: 124.1902 - root_mean_squared_error: 11.0847\n",
      "Epoch 94/100\n",
      "\u001b[1m4901/4901\u001b[0m \u001b[32m━━━━━━━━━━━━━━━━━━━━\u001b[0m\u001b[37m\u001b[0m \u001b[1m19s\u001b[0m 4ms/step - loss: 130.4263 - root_mean_squared_error: 11.3541\n",
      "Epoch 95/100\n",
      "\u001b[1m4901/4901\u001b[0m \u001b[32m━━━━━━━━━━━━━━━━━━━━\u001b[0m\u001b[37m\u001b[0m \u001b[1m19s\u001b[0m 4ms/step - loss: 162.4176 - root_mean_squared_error: 12.6890\n",
      "Epoch 96/100\n",
      "\u001b[1m4901/4901\u001b[0m \u001b[32m━━━━━━━━━━━━━━━━━━━━\u001b[0m\u001b[37m\u001b[0m \u001b[1m19s\u001b[0m 4ms/step - loss: 137.1690 - root_mean_squared_error: 11.6558\n",
      "Epoch 97/100\n",
      "\u001b[1m4901/4901\u001b[0m \u001b[32m━━━━━━━━━━━━━━━━━━━━\u001b[0m\u001b[37m\u001b[0m \u001b[1m19s\u001b[0m 4ms/step - loss: 122.7776 - root_mean_squared_error: 11.0490\n",
      "Epoch 98/100\n",
      "\u001b[1m4901/4901\u001b[0m \u001b[32m━━━━━━━━━━━━━━━━━━━━\u001b[0m\u001b[37m\u001b[0m \u001b[1m19s\u001b[0m 4ms/step - loss: 134.5408 - root_mean_squared_error: 11.5641\n",
      "Epoch 99/100\n",
      "\u001b[1m4901/4901\u001b[0m \u001b[32m━━━━━━━━━━━━━━━━━━━━\u001b[0m\u001b[37m\u001b[0m \u001b[1m19s\u001b[0m 4ms/step - loss: 160.1639 - root_mean_squared_error: 12.6127\n",
      "Epoch 100/100\n",
      "\u001b[1m4901/4901\u001b[0m \u001b[32m━━━━━━━━━━━━━━━━━━━━\u001b[0m\u001b[37m\u001b[0m \u001b[1m19s\u001b[0m 4ms/step - loss: 130.8244 - root_mean_squared_error: 11.3919\n"
     ]
    }
   ],
   "source": [
    "nn_model = do_nn_exp()"
   ]
  },
  {
   "cell_type": "code",
   "execution_count": 7,
   "id": "16800056",
   "metadata": {},
   "outputs": [
    {
     "name": "stdout",
     "output_type": "stream",
     "text": [
      "FCM training RMSE: 16.51089644003311\n"
     ]
    }
   ],
   "source": [
    "# TS model\n",
    "# Linear conclusion\n",
    "\n",
    "def ts_relu_wrapper(pred):\n",
    "    return np.maximum(0, pred)\n",
    "\n",
    "# TS with linear conclusion\n",
    "tsl_model = TsModel.TsModel(number_of_rules=25, fuzzification_coefficient=1.2)\n",
    "\n",
    "start_time = time.time()\n",
    "tsl_model.fit(x_train, y_train)\n",
    "time_used = time.time() - start_time"
   ]
  },
  {
   "cell_type": "code",
   "execution_count": 8,
   "id": "fba9a05a",
   "metadata": {},
   "outputs": [
    {
     "name": "stdout",
     "output_type": "stream",
     "text": [
      "(156830, 250)\n",
      "[[2.47605951e-03 0.00000000e+00 0.00000000e+00 ... 0.00000000e+00\n",
      "  0.00000000e+00 0.00000000e+00]\n",
      " [1.59827306e-10 0.00000000e+00 0.00000000e+00 ... 0.00000000e+00\n",
      "  0.00000000e+00 0.00000000e+00]\n",
      " [5.76170593e-04 0.00000000e+00 0.00000000e+00 ... 0.00000000e+00\n",
      "  0.00000000e+00 0.00000000e+00]\n",
      " ...\n",
      " [7.20323957e-07 0.00000000e+00 0.00000000e+00 ... 0.00000000e+00\n",
      "  0.00000000e+00 0.00000000e+00]\n",
      " [6.09715552e-07 0.00000000e+00 0.00000000e+00 ... 0.00000000e+00\n",
      "  0.00000000e+00 0.00000000e+00]\n",
      " [8.92935846e-11 0.00000000e+00 0.00000000e+00 ... 0.00000000e+00\n",
      "  0.00000000e+00 0.00000000e+00]]\n",
      "(156830, 25)\n",
      "[[2.47605951e-03 1.20734407e-05 5.15586974e-03 ... 9.66413975e-06\n",
      "  1.19889223e-05 1.08471952e-02]\n",
      " [1.59827306e-10 2.86123319e-05 4.20745273e-10 ... 8.61839803e-08\n",
      "  3.97070490e-07 1.02699281e-10]\n",
      " [5.76170593e-04 1.21971387e-06 4.05909576e-04 ... 2.63613816e-06\n",
      "  1.08002878e-06 4.28357669e-03]\n",
      " ...\n",
      " [7.20323957e-07 5.98779173e-05 6.53895791e-07 ... 9.94307894e-01\n",
      "  5.91001095e-04 1.78859494e-07]\n",
      " [6.09715552e-07 3.97299301e-06 3.87305287e-07 ... 1.69500414e-05\n",
      "  7.63539364e-04 2.64946456e-08]\n",
      " [8.92935846e-11 4.32398220e-10 9.02260967e-11 ... 3.84537302e-09\n",
      "  6.70262706e-07 6.12906162e-12]]\n",
      "FCM training RMSE: 59.89612827607465\n"
     ]
    }
   ],
   "source": [
    "# TS model\n",
    "# Constant conclusion\n",
    "\n",
    "\n",
    "tsc_model = TsModel_constant.TsModel_constant(number_of_rules=25, fuzzification_coefficient=1.2)\n",
    "\n",
    "start_time = time.time()\n",
    "tsc_model.fit(x_train, y_train)\n",
    "time_used = time.time() - start_time"
   ]
  },
  {
   "cell_type": "code",
   "execution_count": 9,
   "id": "3646ec51",
   "metadata": {},
   "outputs": [
    {
     "name": "stdout",
     "output_type": "stream",
     "text": [
      "GP Train RMSE: 41.281 ± 0.0\n",
      "GP Test RMSE: 42.31 ± 0.0\n",
      "GP R2: 0.881 ± 0.0\n",
      "GP Time: 0.064 ± 0.009\n"
     ]
    }
   ],
   "source": [
    "# GPR model\n",
    "gp_tsl_train_accuracy = []\n",
    "gp_tsl_test_accuracy = []\n",
    "gp_tsl_r2s = []\n",
    "gp_tsl_time = []\n",
    "gpr_tsl_model = None\n",
    "\n",
    "# From ts linear\n",
    "for fold in range(number_of_folds):\n",
    "    \n",
    "    kernel = 1.0 * Matern(length_scale=1.0, nu=1.5)\n",
    "    gpr_tsl_model = GaussianProcessRegressor(kernel=kernel, n_restarts_optimizer=9, normalize_y=False)\n",
    "\n",
    "    start_time = time.time()\n",
    "    gpr_tsl_model.fit(tsl_model.cen, ts_relu_wrapper(tsl_model.predict(tsl_model.cen + 1e-8)))\n",
    "    time_used = time.time() - start_time\n",
    "\n",
    "    train_means = gpr_tsl_model.predict(x_train)\n",
    "    test_means = gpr_tsl_model.predict(x_test)\n",
    "\n",
    "    train_rmse = root_mean_squared_error(y_train, train_means)\n",
    "    test_rmse = root_mean_squared_error(y_test, test_means)\n",
    "\n",
    "    gp_tsl_train_accuracy.append(train_rmse)\n",
    "    gp_tsl_test_accuracy.append(test_rmse)\n",
    "    gp_r2 = r2_score(y_test, test_means)\n",
    "    gp_tsl_r2s.append(gp_r2)\n",
    "    gp_tsl_time.append(time_used)\n",
    "\n",
    "gp_train_accuracy_mean = np.round(np.mean(gp_tsl_train_accuracy), 3)\n",
    "gp_train_accuracy_std = np.round(np.std(gp_tsl_train_accuracy), 3)\n",
    "gp_test_accuracy_mean = np.round(np.mean(gp_tsl_test_accuracy), 3)\n",
    "gp_test_accuracy_std = np.round(np.std(gp_tsl_test_accuracy),3)\n",
    "gp_r2_mean = np.round(np.mean(gp_tsl_r2s),3)\n",
    "gp_r2_std = np.round(np.std(gp_tsl_r2s),3)\n",
    "gp_time_mean = np.round(np.mean(gp_tsl_time),3)\n",
    "gp_time_std = np.round(np.std(gp_tsl_time),3)\n",
    "\n",
    "print(f\"GP Train RMSE: {gp_train_accuracy_mean} ± {gp_train_accuracy_std}\")\n",
    "print(f\"GP Test RMSE: {gp_test_accuracy_mean} ± {gp_test_accuracy_std}\")\n",
    "print(f\"GP R2: {gp_r2_mean} ± {gp_r2_std}\")\n",
    "print(f\"GP Time: {gp_time_mean} ± {gp_time_std}\")\n"
   ]
  },
  {
   "cell_type": "code",
   "execution_count": 10,
   "id": "960ae86d",
   "metadata": {},
   "outputs": [
    {
     "name": "stderr",
     "output_type": "stream",
     "text": [
      "e:\\Users\\PPL\\anaconda3\\envs\\pytorch\\Lib\\site-packages\\sklearn\\gaussian_process\\kernels.py:455: ConvergenceWarning: The optimal value found for dimension 0 of parameter k1__constant_value is close to the specified upper bound 100000.0. Increasing the bound and calling fit again may find a better value.\n",
      "  warnings.warn(\n",
      "e:\\Users\\PPL\\anaconda3\\envs\\pytorch\\Lib\\site-packages\\sklearn\\gaussian_process\\kernels.py:455: ConvergenceWarning: The optimal value found for dimension 0 of parameter k1__constant_value is close to the specified upper bound 100000.0. Increasing the bound and calling fit again may find a better value.\n",
      "  warnings.warn(\n",
      "e:\\Users\\PPL\\anaconda3\\envs\\pytorch\\Lib\\site-packages\\sklearn\\gaussian_process\\kernels.py:455: ConvergenceWarning: The optimal value found for dimension 0 of parameter k1__constant_value is close to the specified upper bound 100000.0. Increasing the bound and calling fit again may find a better value.\n",
      "  warnings.warn(\n",
      "e:\\Users\\PPL\\anaconda3\\envs\\pytorch\\Lib\\site-packages\\sklearn\\gaussian_process\\kernels.py:455: ConvergenceWarning: The optimal value found for dimension 0 of parameter k1__constant_value is close to the specified upper bound 100000.0. Increasing the bound and calling fit again may find a better value.\n",
      "  warnings.warn(\n",
      "e:\\Users\\PPL\\anaconda3\\envs\\pytorch\\Lib\\site-packages\\sklearn\\gaussian_process\\kernels.py:455: ConvergenceWarning: The optimal value found for dimension 0 of parameter k1__constant_value is close to the specified upper bound 100000.0. Increasing the bound and calling fit again may find a better value.\n",
      "  warnings.warn(\n",
      "e:\\Users\\PPL\\anaconda3\\envs\\pytorch\\Lib\\site-packages\\sklearn\\gaussian_process\\kernels.py:455: ConvergenceWarning: The optimal value found for dimension 0 of parameter k1__constant_value is close to the specified upper bound 100000.0. Increasing the bound and calling fit again may find a better value.\n",
      "  warnings.warn(\n",
      "e:\\Users\\PPL\\anaconda3\\envs\\pytorch\\Lib\\site-packages\\sklearn\\gaussian_process\\kernels.py:455: ConvergenceWarning: The optimal value found for dimension 0 of parameter k1__constant_value is close to the specified upper bound 100000.0. Increasing the bound and calling fit again may find a better value.\n",
      "  warnings.warn(\n",
      "e:\\Users\\PPL\\anaconda3\\envs\\pytorch\\Lib\\site-packages\\sklearn\\gaussian_process\\kernels.py:455: ConvergenceWarning: The optimal value found for dimension 0 of parameter k1__constant_value is close to the specified upper bound 100000.0. Increasing the bound and calling fit again may find a better value.\n",
      "  warnings.warn(\n",
      "e:\\Users\\PPL\\anaconda3\\envs\\pytorch\\Lib\\site-packages\\sklearn\\gaussian_process\\kernels.py:455: ConvergenceWarning: The optimal value found for dimension 0 of parameter k1__constant_value is close to the specified upper bound 100000.0. Increasing the bound and calling fit again may find a better value.\n",
      "  warnings.warn(\n",
      "e:\\Users\\PPL\\anaconda3\\envs\\pytorch\\Lib\\site-packages\\sklearn\\gaussian_process\\kernels.py:455: ConvergenceWarning: The optimal value found for dimension 0 of parameter k1__constant_value is close to the specified upper bound 100000.0. Increasing the bound and calling fit again may find a better value.\n",
      "  warnings.warn(\n"
     ]
    },
    {
     "name": "stdout",
     "output_type": "stream",
     "text": [
      "GP Train RMSE: 37.279 ± 0.0\n",
      "GP Test RMSE: 38.156 ± 0.0\n",
      "GP R2: 0.903 ± 0.0\n",
      "GP Time: 0.073 ± 0.006\n"
     ]
    }
   ],
   "source": [
    "# GPR model\n",
    "gp_tsc_train_accuracy = []\n",
    "gp_tsc_test_accuracy = []\n",
    "gp_tsc_r2s = []\n",
    "gp_tsc_time = []\n",
    "gpr_tsc_model = None\n",
    "\n",
    "# From ts constant\n",
    "for fold in range(number_of_folds):\n",
    "    \n",
    "    kernel = 1.0 * Matern(length_scale=1.0, nu=1.5)\n",
    "    gpr_tsc_model = GaussianProcessRegressor(kernel=kernel, n_restarts_optimizer=9, normalize_y=False)\n",
    "\n",
    "    start_time = time.time()\n",
    "    gpr_tsc_model.fit(tsc_model.cen, ts_relu_wrapper(tsc_model.predict(tsc_model.cen + 1e-8)))\n",
    "    time_used = time.time() - start_time\n",
    "\n",
    "    train_means = gpr_tsc_model.predict(x_train)\n",
    "    test_means = gpr_tsc_model.predict(x_test)\n",
    "\n",
    "    train_rmse = root_mean_squared_error(y_train, train_means)\n",
    "    test_rmse = root_mean_squared_error(y_test, test_means)\n",
    "\n",
    "    gp_tsc_train_accuracy.append(train_rmse)\n",
    "    gp_tsc_test_accuracy.append(test_rmse)\n",
    "    gp_r2 = r2_score(y_test, test_means)\n",
    "    gp_tsc_r2s.append(gp_r2)\n",
    "    gp_tsc_time.append(time_used)\n",
    "\n",
    "gp_train_accuracy_mean = np.round(np.mean(gp_tsc_train_accuracy), 3)\n",
    "gp_train_accuracy_std = np.round(np.std(gp_tsc_train_accuracy), 3)\n",
    "gp_test_accuracy_mean = np.round(np.mean(gp_tsc_test_accuracy), 3)\n",
    "gp_test_accuracy_std = np.round(np.std(gp_tsc_test_accuracy),3)\n",
    "gp_r2_mean = np.round(np.mean(gp_tsc_r2s),3)\n",
    "gp_r2_std = np.round(np.std(gp_tsc_r2s),3)\n",
    "gp_time_mean = np.round(np.mean(gp_tsc_time),3)\n",
    "gp_time_std = np.round(np.std(gp_tsc_time),3)\n",
    "\n",
    "print(f\"GP Train RMSE: {gp_train_accuracy_mean} ± {gp_train_accuracy_std}\")\n",
    "print(f\"GP Test RMSE: {gp_test_accuracy_mean} ± {gp_test_accuracy_std}\")\n",
    "print(f\"GP R2: {gp_r2_mean} ± {gp_r2_std}\")\n",
    "print(f\"GP Time: {gp_time_mean} ± {gp_time_std}\")\n"
   ]
  },
  {
   "cell_type": "code",
   "execution_count": 11,
   "id": "0d1d833f",
   "metadata": {},
   "outputs": [
    {
     "name": "stdout",
     "output_type": "stream",
     "text": [
      "\u001b[1m1/1\u001b[0m \u001b[32m━━━━━━━━━━━━━━━━━━━━\u001b[0m\u001b[37m\u001b[0m \u001b[1m0s\u001b[0m 3ms/step\n",
      "\u001b[1m1/1\u001b[0m \u001b[32m━━━━━━━━━━━━━━━━━━━━\u001b[0m\u001b[37m\u001b[0m \u001b[1m0s\u001b[0m 6ms/step\n"
     ]
    },
    {
     "name": "stderr",
     "output_type": "stream",
     "text": [
      "e:\\Users\\PPL\\anaconda3\\envs\\pytorch\\Lib\\site-packages\\sklearn\\gaussian_process\\kernels.py:455: ConvergenceWarning: The optimal value found for dimension 0 of parameter k1__constant_value is close to the specified upper bound 100000.0. Increasing the bound and calling fit again may find a better value.\n",
      "  warnings.warn(\n",
      "e:\\Users\\PPL\\anaconda3\\envs\\pytorch\\Lib\\site-packages\\sklearn\\gaussian_process\\kernels.py:455: ConvergenceWarning: The optimal value found for dimension 0 of parameter k1__constant_value is close to the specified upper bound 100000.0. Increasing the bound and calling fit again may find a better value.\n",
      "  warnings.warn(\n"
     ]
    },
    {
     "name": "stdout",
     "output_type": "stream",
     "text": [
      "\u001b[1m1/1\u001b[0m \u001b[32m━━━━━━━━━━━━━━━━━━━━\u001b[0m\u001b[37m\u001b[0m \u001b[1m0s\u001b[0m 0s/step\n",
      "\u001b[1m1/1\u001b[0m \u001b[32m━━━━━━━━━━━━━━━━━━━━\u001b[0m\u001b[37m\u001b[0m \u001b[1m0s\u001b[0m 0s/step\n"
     ]
    },
    {
     "name": "stderr",
     "output_type": "stream",
     "text": [
      "e:\\Users\\PPL\\anaconda3\\envs\\pytorch\\Lib\\site-packages\\sklearn\\gaussian_process\\kernels.py:455: ConvergenceWarning: The optimal value found for dimension 0 of parameter k1__constant_value is close to the specified upper bound 100000.0. Increasing the bound and calling fit again may find a better value.\n",
      "  warnings.warn(\n",
      "e:\\Users\\PPL\\anaconda3\\envs\\pytorch\\Lib\\site-packages\\sklearn\\gaussian_process\\kernels.py:455: ConvergenceWarning: The optimal value found for dimension 0 of parameter k1__constant_value is close to the specified upper bound 100000.0. Increasing the bound and calling fit again may find a better value.\n",
      "  warnings.warn(\n"
     ]
    },
    {
     "name": "stdout",
     "output_type": "stream",
     "text": [
      "\u001b[1m1/1\u001b[0m \u001b[32m━━━━━━━━━━━━━━━━━━━━\u001b[0m\u001b[37m\u001b[0m \u001b[1m0s\u001b[0m 4ms/step\n",
      "\u001b[1m1/1\u001b[0m \u001b[32m━━━━━━━━━━━━━━━━━━━━\u001b[0m\u001b[37m\u001b[0m \u001b[1m0s\u001b[0m 16ms/step\n"
     ]
    },
    {
     "name": "stderr",
     "output_type": "stream",
     "text": [
      "e:\\Users\\PPL\\anaconda3\\envs\\pytorch\\Lib\\site-packages\\sklearn\\gaussian_process\\kernels.py:455: ConvergenceWarning: The optimal value found for dimension 0 of parameter k1__constant_value is close to the specified upper bound 100000.0. Increasing the bound and calling fit again may find a better value.\n",
      "  warnings.warn(\n",
      "e:\\Users\\PPL\\anaconda3\\envs\\pytorch\\Lib\\site-packages\\sklearn\\gaussian_process\\kernels.py:455: ConvergenceWarning: The optimal value found for dimension 0 of parameter k1__constant_value is close to the specified upper bound 100000.0. Increasing the bound and calling fit again may find a better value.\n",
      "  warnings.warn(\n"
     ]
    },
    {
     "name": "stdout",
     "output_type": "stream",
     "text": [
      "\u001b[1m1/1\u001b[0m \u001b[32m━━━━━━━━━━━━━━━━━━━━\u001b[0m\u001b[37m\u001b[0m \u001b[1m0s\u001b[0m 0s/step\n",
      "\u001b[1m1/1\u001b[0m \u001b[32m━━━━━━━━━━━━━━━━━━━━\u001b[0m\u001b[37m\u001b[0m \u001b[1m0s\u001b[0m 16ms/step\n"
     ]
    },
    {
     "name": "stderr",
     "output_type": "stream",
     "text": [
      "e:\\Users\\PPL\\anaconda3\\envs\\pytorch\\Lib\\site-packages\\sklearn\\gaussian_process\\kernels.py:455: ConvergenceWarning: The optimal value found for dimension 0 of parameter k1__constant_value is close to the specified upper bound 100000.0. Increasing the bound and calling fit again may find a better value.\n",
      "  warnings.warn(\n",
      "e:\\Users\\PPL\\anaconda3\\envs\\pytorch\\Lib\\site-packages\\sklearn\\gaussian_process\\kernels.py:455: ConvergenceWarning: The optimal value found for dimension 0 of parameter k1__constant_value is close to the specified upper bound 100000.0. Increasing the bound and calling fit again may find a better value.\n",
      "  warnings.warn(\n"
     ]
    },
    {
     "name": "stdout",
     "output_type": "stream",
     "text": [
      "\u001b[1m1/1\u001b[0m \u001b[32m━━━━━━━━━━━━━━━━━━━━\u001b[0m\u001b[37m\u001b[0m \u001b[1m0s\u001b[0m 0s/step\n",
      "\u001b[1m1/1\u001b[0m \u001b[32m━━━━━━━━━━━━━━━━━━━━\u001b[0m\u001b[37m\u001b[0m \u001b[1m0s\u001b[0m 11ms/step\n"
     ]
    },
    {
     "name": "stderr",
     "output_type": "stream",
     "text": [
      "e:\\Users\\PPL\\anaconda3\\envs\\pytorch\\Lib\\site-packages\\sklearn\\gaussian_process\\kernels.py:455: ConvergenceWarning: The optimal value found for dimension 0 of parameter k1__constant_value is close to the specified upper bound 100000.0. Increasing the bound and calling fit again may find a better value.\n",
      "  warnings.warn(\n"
     ]
    },
    {
     "name": "stdout",
     "output_type": "stream",
     "text": [
      "GP Train RMSE: 40.837 ± 0.0\n",
      "GP Test RMSE: 41.948 ± 0.0\n",
      "GP R2: 0.883 ± 0.0\n",
      "GP Time: 0.062 ± 0.008\n",
      "TS NN R2: 0.978 ± 0.0\n"
     ]
    },
    {
     "name": "stderr",
     "output_type": "stream",
     "text": [
      "e:\\Users\\PPL\\anaconda3\\envs\\pytorch\\Lib\\site-packages\\sklearn\\gaussian_process\\kernels.py:455: ConvergenceWarning: The optimal value found for dimension 0 of parameter k1__constant_value is close to the specified upper bound 100000.0. Increasing the bound and calling fit again may find a better value.\n",
      "  warnings.warn(\n"
     ]
    }
   ],
   "source": [
    "# GPR model\n",
    "gp_nn_tsl_train_accuracy = []\n",
    "gp_nn_tsl_test_accuracy = []\n",
    "gp_nn_tsl_r2s = []\n",
    "nn_tsl_r2s = []\n",
    "gp_nn_tsl_time = []\n",
    "gpr_nn_tsl_model = None\n",
    "\n",
    "# From NN and ts linear\n",
    "for fold in range(number_of_folds):\n",
    "    \n",
    "    kernel = 1.0 * Matern(length_scale=1.0, nu=1.5)\n",
    "    gpr_nn_tsl_model = GaussianProcessRegressor(kernel=kernel, n_restarts_optimizer=9, normalize_y=False)\n",
    "\n",
    "    start_time = time.time()\n",
    "    inputs = tsl_model.cen\n",
    "    ts_predictions = ts_relu_wrapper(tsl_model.predict(tsl_model.cen + 1e-8))\n",
    "    nn_predictions = nn_model.predict(inputs)\n",
    "    gpr_nn_tsl_model.fit(inputs, nn_predictions)\n",
    "    time_used = time.time() - start_time\n",
    "\n",
    "    train_means = gpr_nn_tsl_model.predict(x_train)\n",
    "    test_means = gpr_nn_tsl_model.predict(x_test)\n",
    "\n",
    "    train_rmse = root_mean_squared_error(y_train, train_means)\n",
    "    test_rmse = root_mean_squared_error(y_test, test_means)\n",
    "\n",
    "    gp_nn_tsl_train_accuracy.append(train_rmse)\n",
    "    gp_nn_tsl_test_accuracy.append(test_rmse)\n",
    "    gp_r2 = r2_score(y_test, test_means)\n",
    "    gp_nn_tsl_r2s.append(gp_r2)\n",
    "    gp_nn_tsl_time.append(time_used)\n",
    "    nn_tsl_r2s.append(r2_score(ts_predictions, nn_predictions))\n",
    "\n",
    "gp_train_accuracy_mean = np.round(np.mean(gp_nn_tsl_train_accuracy), 3)\n",
    "gp_train_accuracy_std = np.round(np.std(gp_nn_tsl_train_accuracy), 3)\n",
    "gp_test_accuracy_mean = np.round(np.mean(gp_nn_tsl_test_accuracy), 3)\n",
    "gp_test_accuracy_std = np.round(np.std(gp_nn_tsl_test_accuracy),3)\n",
    "gp_r2_mean = np.round(np.mean(gp_nn_tsl_r2s),3)\n",
    "gp_r2_std = np.round(np.std(gp_nn_tsl_r2s),3)\n",
    "gp_time_mean = np.round(np.mean(gp_nn_tsl_time),3)\n",
    "gp_time_std = np.round(np.std(gp_nn_tsl_time),3)\n",
    "nn_ts_r2_mean = np.round(np.mean(nn_tsl_r2s),3)\n",
    "nn_ts_r2_std = np.round(np.std(nn_tsl_r2s),3)\n",
    "\n",
    "print(f\"GP Train RMSE: {gp_train_accuracy_mean} ± {gp_train_accuracy_std}\")\n",
    "print(f\"GP Test RMSE: {gp_test_accuracy_mean} ± {gp_test_accuracy_std}\")\n",
    "print(f\"GP R2: {gp_r2_mean} ± {gp_r2_std}\")\n",
    "print(f\"GP Time: {gp_time_mean} ± {gp_time_std}\")\n",
    "print(f\"TS NN R2: {nn_ts_r2_mean} ± {nn_ts_r2_std}\")\n"
   ]
  },
  {
   "cell_type": "code",
   "execution_count": 13,
   "id": "c0f6c458",
   "metadata": {},
   "outputs": [
    {
     "name": "stdout",
     "output_type": "stream",
     "text": [
      "\u001b[1m1/1\u001b[0m \u001b[32m━━━━━━━━━━━━━━━━━━━━\u001b[0m\u001b[37m\u001b[0m \u001b[1m0s\u001b[0m 8ms/step\n",
      "\u001b[1m1/1\u001b[0m \u001b[32m━━━━━━━━━━━━━━━━━━━━\u001b[0m\u001b[37m\u001b[0m \u001b[1m0s\u001b[0m 0s/step\n"
     ]
    },
    {
     "name": "stderr",
     "output_type": "stream",
     "text": [
      "e:\\Users\\PPL\\anaconda3\\envs\\pytorch\\Lib\\site-packages\\sklearn\\gaussian_process\\kernels.py:455: ConvergenceWarning: The optimal value found for dimension 0 of parameter k1__constant_value is close to the specified upper bound 100000.0. Increasing the bound and calling fit again may find a better value.\n",
      "  warnings.warn(\n"
     ]
    },
    {
     "name": "stdout",
     "output_type": "stream",
     "text": [
      "\u001b[1m1/1\u001b[0m \u001b[32m━━━━━━━━━━━━━━━━━━━━\u001b[0m\u001b[37m\u001b[0m \u001b[1m0s\u001b[0m 0s/step\n"
     ]
    },
    {
     "name": "stderr",
     "output_type": "stream",
     "text": [
      "e:\\Users\\PPL\\anaconda3\\envs\\pytorch\\Lib\\site-packages\\sklearn\\gaussian_process\\kernels.py:455: ConvergenceWarning: The optimal value found for dimension 0 of parameter k1__constant_value is close to the specified upper bound 100000.0. Increasing the bound and calling fit again may find a better value.\n",
      "  warnings.warn(\n",
      "e:\\Users\\PPL\\anaconda3\\envs\\pytorch\\Lib\\site-packages\\sklearn\\gaussian_process\\kernels.py:455: ConvergenceWarning: The optimal value found for dimension 0 of parameter k1__constant_value is close to the specified upper bound 100000.0. Increasing the bound and calling fit again may find a better value.\n",
      "  warnings.warn(\n"
     ]
    },
    {
     "name": "stdout",
     "output_type": "stream",
     "text": [
      "\u001b[1m1/1\u001b[0m \u001b[32m━━━━━━━━━━━━━━━━━━━━\u001b[0m\u001b[37m\u001b[0m \u001b[1m0s\u001b[0m 17ms/step\n",
      "\u001b[1m1/1\u001b[0m \u001b[32m━━━━━━━━━━━━━━━━━━━━\u001b[0m\u001b[37m\u001b[0m \u001b[1m0s\u001b[0m 4ms/step\n"
     ]
    },
    {
     "name": "stderr",
     "output_type": "stream",
     "text": [
      "e:\\Users\\PPL\\anaconda3\\envs\\pytorch\\Lib\\site-packages\\sklearn\\gaussian_process\\kernels.py:455: ConvergenceWarning: The optimal value found for dimension 0 of parameter k1__constant_value is close to the specified upper bound 100000.0. Increasing the bound and calling fit again may find a better value.\n",
      "  warnings.warn(\n"
     ]
    },
    {
     "name": "stdout",
     "output_type": "stream",
     "text": [
      "\u001b[1m1/1\u001b[0m \u001b[32m━━━━━━━━━━━━━━━━━━━━\u001b[0m\u001b[37m\u001b[0m \u001b[1m0s\u001b[0m 15ms/step\n"
     ]
    },
    {
     "name": "stderr",
     "output_type": "stream",
     "text": [
      "e:\\Users\\PPL\\anaconda3\\envs\\pytorch\\Lib\\site-packages\\sklearn\\gaussian_process\\kernels.py:455: ConvergenceWarning: The optimal value found for dimension 0 of parameter k1__constant_value is close to the specified upper bound 100000.0. Increasing the bound and calling fit again may find a better value.\n",
      "  warnings.warn(\n"
     ]
    },
    {
     "name": "stdout",
     "output_type": "stream",
     "text": [
      "\u001b[1m1/1\u001b[0m \u001b[32m━━━━━━━━━━━━━━━━━━━━\u001b[0m\u001b[37m\u001b[0m \u001b[1m0s\u001b[0m 14ms/step\n"
     ]
    },
    {
     "name": "stderr",
     "output_type": "stream",
     "text": [
      "e:\\Users\\PPL\\anaconda3\\envs\\pytorch\\Lib\\site-packages\\sklearn\\gaussian_process\\kernels.py:455: ConvergenceWarning: The optimal value found for dimension 0 of parameter k1__constant_value is close to the specified upper bound 100000.0. Increasing the bound and calling fit again may find a better value.\n",
      "  warnings.warn(\n"
     ]
    },
    {
     "name": "stdout",
     "output_type": "stream",
     "text": [
      "\u001b[1m1/1\u001b[0m \u001b[32m━━━━━━━━━━━━━━━━━━━━\u001b[0m\u001b[37m\u001b[0m \u001b[1m0s\u001b[0m 0s/step\n"
     ]
    },
    {
     "name": "stderr",
     "output_type": "stream",
     "text": [
      "e:\\Users\\PPL\\anaconda3\\envs\\pytorch\\Lib\\site-packages\\sklearn\\gaussian_process\\kernels.py:455: ConvergenceWarning: The optimal value found for dimension 0 of parameter k1__constant_value is close to the specified upper bound 100000.0. Increasing the bound and calling fit again may find a better value.\n",
      "  warnings.warn(\n"
     ]
    },
    {
     "name": "stdout",
     "output_type": "stream",
     "text": [
      "\u001b[1m1/1\u001b[0m \u001b[32m━━━━━━━━━━━━━━━━━━━━\u001b[0m\u001b[37m\u001b[0m \u001b[1m0s\u001b[0m 2ms/step\n"
     ]
    },
    {
     "name": "stderr",
     "output_type": "stream",
     "text": [
      "e:\\Users\\PPL\\anaconda3\\envs\\pytorch\\Lib\\site-packages\\sklearn\\gaussian_process\\kernels.py:455: ConvergenceWarning: The optimal value found for dimension 0 of parameter k1__constant_value is close to the specified upper bound 100000.0. Increasing the bound and calling fit again may find a better value.\n",
      "  warnings.warn(\n"
     ]
    },
    {
     "name": "stdout",
     "output_type": "stream",
     "text": [
      "\u001b[1m1/1\u001b[0m \u001b[32m━━━━━━━━━━━━━━━━━━━━\u001b[0m\u001b[37m\u001b[0m \u001b[1m0s\u001b[0m 3ms/step\n"
     ]
    },
    {
     "name": "stderr",
     "output_type": "stream",
     "text": [
      "e:\\Users\\PPL\\anaconda3\\envs\\pytorch\\Lib\\site-packages\\sklearn\\gaussian_process\\kernels.py:455: ConvergenceWarning: The optimal value found for dimension 0 of parameter k1__constant_value is close to the specified upper bound 100000.0. Increasing the bound and calling fit again may find a better value.\n",
      "  warnings.warn(\n"
     ]
    },
    {
     "name": "stdout",
     "output_type": "stream",
     "text": [
      "GP Train RMSE: 40.057 ± 0.0\n",
      "GP Test RMSE: 41.151 ± 0.0\n",
      "GP R2: 0.887 ± 0.0\n",
      "GP Time: 0.091 ± 0.012\n",
      "TS NN R2: 0.989 ± 0.0\n"
     ]
    },
    {
     "name": "stderr",
     "output_type": "stream",
     "text": [
      "e:\\Users\\PPL\\anaconda3\\envs\\pytorch\\Lib\\site-packages\\sklearn\\gaussian_process\\kernels.py:455: ConvergenceWarning: The optimal value found for dimension 0 of parameter k1__constant_value is close to the specified upper bound 100000.0. Increasing the bound and calling fit again may find a better value.\n",
      "  warnings.warn(\n"
     ]
    }
   ],
   "source": [
    "# GPR model\n",
    "gp_nn_tsc_train_accuracy = []\n",
    "gp_nn_tsc_test_accuracy = []\n",
    "gp_nn_tsc_r2s = []\n",
    "nn_tsc_r2s = []\n",
    "gp_nn_tsc_time = []\n",
    "gpr_nn_tsc_model = None\n",
    "\n",
    "# From NN and ts constant\n",
    "for fold in range(number_of_folds):\n",
    "    \n",
    "    kernel = 1.0 * Matern(length_scale=1.0, nu=1.5)\n",
    "    gpr_nn_tsc_model = GaussianProcessRegressor(kernel=kernel, n_restarts_optimizer=9, normalize_y=False)\n",
    "\n",
    "    start_time = time.time()\n",
    "    inputs = tsc_model.cen\n",
    "    ts_predictions = tsc_model.predict(tsc_model.cen + 1e-8)\n",
    "    nn_predictions = nn_model.predict(inputs)\n",
    "    gpr_nn_tsc_model.fit(inputs, nn_predictions)\n",
    "    time_used = time.time() - start_time\n",
    "\n",
    "    train_means = gpr_nn_tsc_model.predict(x_train)\n",
    "    test_means = gpr_nn_tsc_model.predict(x_test)\n",
    "\n",
    "    train_rmse = root_mean_squared_error(y_train, train_means)\n",
    "    test_rmse = root_mean_squared_error(y_test, test_means)\n",
    "\n",
    "    gp_nn_tsc_train_accuracy.append(train_rmse)\n",
    "    gp_nn_tsc_test_accuracy.append(test_rmse)\n",
    "    gp_r2 = r2_score(y_test, test_means)\n",
    "    gp_nn_tsc_r2s.append(gp_r2)\n",
    "    gp_nn_tsc_time.append(time_used)\n",
    "    nn_tsc_r2s.append(r2_score(ts_predictions, nn_predictions))\n",
    "\n",
    "gp_train_accuracy_mean = np.round(np.mean(gp_nn_tsc_train_accuracy), 3)\n",
    "gp_train_accuracy_std = np.round(np.std(gp_nn_tsc_train_accuracy), 3)\n",
    "gp_test_accuracy_mean = np.round(np.mean(gp_nn_tsc_test_accuracy), 3)\n",
    "gp_test_accuracy_std = np.round(np.std(gp_nn_tsc_test_accuracy),3)\n",
    "gp_r2_mean = np.round(np.mean(gp_nn_tsc_r2s),3)\n",
    "gp_r2_std = np.round(np.std(gp_nn_tsc_r2s),3)\n",
    "gp_time_mean = np.round(np.mean(gp_nn_tsc_time),3)\n",
    "gp_time_std = np.round(np.std(gp_nn_tsc_time),3)\n",
    "nn_ts_r2_mean = np.round(np.mean(nn_tsc_r2s),3)\n",
    "nn_ts_r2_std = np.round(np.std(nn_tsc_r2s),3)\n",
    "\n",
    "print(f\"GP Train RMSE: {gp_train_accuracy_mean} ± {gp_train_accuracy_std}\")\n",
    "print(f\"GP Test RMSE: {gp_test_accuracy_mean} ± {gp_test_accuracy_std}\")\n",
    "print(f\"GP R2: {gp_r2_mean} ± {gp_r2_std}\")\n",
    "print(f\"GP Time: {gp_time_mean} ± {gp_time_std}\")\n",
    "print(f\"TS NN R2: {nn_ts_r2_mean} ± {nn_ts_r2_std}\")\n"
   ]
  }
 ],
 "metadata": {
  "kernelspec": {
   "display_name": "Python 3 (ipykernel)",
   "language": "python",
   "name": "python3"
  },
  "language_info": {
   "codemirror_mode": {
    "name": "ipython",
    "version": 3
   },
   "file_extension": ".py",
   "mimetype": "text/x-python",
   "name": "python",
   "nbconvert_exporter": "python",
   "pygments_lexer": "ipython3",
   "version": "3.11.4"
  }
 },
 "nbformat": 4,
 "nbformat_minor": 5
}
