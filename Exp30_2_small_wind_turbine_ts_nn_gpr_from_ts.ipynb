{
 "cells": [
  {
   "cell_type": "code",
   "execution_count": 1,
   "id": "e85e59f8",
   "metadata": {},
   "outputs": [
    {
     "name": "stdout",
     "output_type": "stream",
     "text": [
      "Keras version is 3.1.1\n",
      "Num GPUs Available: 1\n"
     ]
    }
   ],
   "source": [
    "# Get the data for expeirment\n",
    "import pandas as pd \n",
    "import numpy as np\n",
    "import time\n",
    "from sklearn.preprocessing import StandardScaler\n",
    "from sklearn.gaussian_process import GaussianProcessRegressor\n",
    "from sklearn.gaussian_process.kernels import Matern, RBF\n",
    "import seaborn as sns\n",
    "import TsModel\n",
    "import GprModel\n",
    "import TsModel_constant\n",
    "import torch\n",
    "from sklearn.metrics import r2_score, root_mean_squared_error\n",
    "import matplotlib.pyplot as plt\n",
    "import os\n",
    "os.environ[\"KERAS_BACKEND\"] = \"torch\"\n",
    "import keras\n",
    "from keras import layers, models\n",
    "\n",
    "device = torch.device(\"cuda:0\")\n",
    "print(f\"Keras version is {keras.__version__}\")\n",
    "print(f\"Num GPUs Available: {torch.cuda.device_count()}\")\n",
    "plt.rcParams.update({'font.size': 20})"
   ]
  },
  {
   "cell_type": "code",
   "execution_count": 16,
   "id": "fa034de2",
   "metadata": {},
   "outputs": [],
   "source": [
    "exp30_2_results = {\n",
    "    'gp_tsl_train_accuracy':gp_tsl_train_accuracy,\n",
    "    'gp_tsl_test_accuracy':gp_tsl_test_accuracy,\n",
    "    'gp_tsl_r2s':gp_tsl_r2s,\n",
    "    'gp_tsl_time':gp_tsl_time,\n",
    "    'gp_tsc_train_accuracy':gp_tsc_train_accuracy,\n",
    "    'gp_tsc_test_accuracy':gp_tsc_test_accuracy,\n",
    "    'gp_tsc_r2s':gp_tsc_r2s,\n",
    "    'gp_tsc_time':gp_tsc_time,\n",
    "    'gp_nn_tsl_train_accuracy':gp_nn_tsl_train_accuracy,\n",
    "    'gp_nn_tsl_test_accuracy':gp_nn_tsl_test_accuracy,\n",
    "    'gp_nn_tsl_r2s':gp_nn_tsl_r2s,\n",
    "    'nn_tsl_r2s':nn_tsl_r2s,\n",
    "    'gp_nn_tsl_time':gp_nn_tsl_time,\n",
    "}"
   ]
  },
  {
   "cell_type": "code",
   "execution_count": 17,
   "id": "2102da05",
   "metadata": {},
   "outputs": [
    {
     "name": "stdout",
     "output_type": "stream",
     "text": [
      "Stored 'exp30_2_results' (dict)\n"
     ]
    }
   ],
   "source": [
    "#%store exp30_2_results "
   ]
  },
  {
   "cell_type": "code",
   "execution_count": 2,
   "id": "6605d015",
   "metadata": {},
   "outputs": [],
   "source": [
    "# Train and test the solar data set\n",
    "x_train = pd.read_csv('Data/FES/small_wind_turbine_x_train.csv')\n",
    "x_test = pd.read_csv('Data/FES/small_wind_turbine_x_test.csv')\n",
    "y_train = pd.read_csv('Data/FES/small_wind_turbine_y_train.csv')\n",
    "y_test = pd.read_csv('Data/FES/small_wind_turbine_y_test.csv')"
   ]
  },
  {
   "cell_type": "code",
   "execution_count": 3,
   "id": "6f9fe97f",
   "metadata": {},
   "outputs": [],
   "source": [
    "number_of_folds = 10\n",
    "\n",
    "# Source: From the TSmodel\n",
    "def preprocess_data(train_x, test_x, train_y, test_y):\n",
    "    feature_scaler = StandardScaler()\n",
    "    scaled_train_x = feature_scaler.fit_transform(train_x)\n",
    "    scaled_test_x = feature_scaler.transform(test_x)\n",
    "\n",
    "    # target_scaler = StandardScaler()  \n",
    "    # scaled_train_y = target_scaler.fit_transform(train_y)\n",
    "    # scaled_test_y = target_scaler.transform(test_y)    \n",
    "    # return scaled_train_x, scaled_test_x, scaled_train_y, scaled_test_y, feature_scaler, target_scaler    \n",
    "\n",
    "    return scaled_train_x, scaled_test_x, feature_scaler    \n",
    "\n",
    "def build_neural_network_model():\n",
    "    model = models.Sequential()\n",
    "    model.add(layers.Dense(9, activation=keras.activations.tanh))    \n",
    "    model.add(layers.Dense(18, activation=keras.activations.tanh))    \n",
    "    model.add(layers.Dense(1, activation=keras.activations.relu))\n",
    "    return model"
   ]
  },
  {
   "cell_type": "code",
   "execution_count": 4,
   "id": "3da3320a",
   "metadata": {},
   "outputs": [],
   "source": [
    "x_train, x_test, feature_scaler = preprocess_data(x_train, x_test, y_train, y_test)\n",
    "y_train = y_train.to_numpy()\n",
    "y_test = y_test.to_numpy()"
   ]
  },
  {
   "cell_type": "code",
   "execution_count": 13,
   "id": "cd4fc524",
   "metadata": {},
   "outputs": [],
   "source": [
    "def do_nn_exp():\n",
    "    neural_network_model = build_neural_network_model()\n",
    "\n",
    "    neural_network_model.compile(\n",
    "        optimizer=keras.optimizers.Adam(),\n",
    "        loss=keras.losses.MeanSquaredError(),\n",
    "        metrics=[keras.metrics.RootMeanSquaredError()]\n",
    "    )\n",
    "\n",
    "    start_time = time.time()\n",
    "    history = neural_network_model.fit(\n",
    "        x_train, \n",
    "        y_train,\n",
    "        epochs=100, \n",
    "        shuffle=True\n",
    "    )\n",
    "    time_used = time.time() - start_time\n",
    "    \n",
    "    return neural_network_model"
   ]
  },
  {
   "cell_type": "code",
   "execution_count": 14,
   "id": "5b0fedb7",
   "metadata": {},
   "outputs": [
    {
     "name": "stdout",
     "output_type": "stream",
     "text": [
      "Epoch 1/100\n",
      "\u001b[1m4901/4901\u001b[0m \u001b[32m━━━━━━━━━━━━━━━━━━━━\u001b[0m\u001b[37m\u001b[0m \u001b[1m18s\u001b[0m 4ms/step - loss: 14992.1475 - root_mean_squared_error: 122.3602\n",
      "Epoch 2/100\n",
      "\u001b[1m4901/4901\u001b[0m \u001b[32m━━━━━━━━━━━━━━━━━━━━\u001b[0m\u001b[37m\u001b[0m \u001b[1m18s\u001b[0m 4ms/step - loss: 10148.2480 - root_mean_squared_error: 100.6803\n",
      "Epoch 3/100\n",
      "\u001b[1m4901/4901\u001b[0m \u001b[32m━━━━━━━━━━━━━━━━━━━━\u001b[0m\u001b[37m\u001b[0m \u001b[1m18s\u001b[0m 4ms/step - loss: 7406.2417 - root_mean_squared_error: 86.0070\n",
      "Epoch 4/100\n",
      "\u001b[1m4901/4901\u001b[0m \u001b[32m━━━━━━━━━━━━━━━━━━━━\u001b[0m\u001b[37m\u001b[0m \u001b[1m18s\u001b[0m 4ms/step - loss: 5381.4761 - root_mean_squared_error: 73.2978\n",
      "Epoch 5/100\n",
      "\u001b[1m4901/4901\u001b[0m \u001b[32m━━━━━━━━━━━━━━━━━━━━\u001b[0m\u001b[37m\u001b[0m \u001b[1m18s\u001b[0m 4ms/step - loss: 4596.8691 - root_mean_squared_error: 67.6430\n",
      "Epoch 6/100\n",
      "\u001b[1m4901/4901\u001b[0m \u001b[32m━━━━━━━━━━━━━━━━━━━━\u001b[0m\u001b[37m\u001b[0m \u001b[1m18s\u001b[0m 4ms/step - loss: 3550.2556 - root_mean_squared_error: 59.5529\n",
      "Epoch 7/100\n",
      "\u001b[1m4901/4901\u001b[0m \u001b[32m━━━━━━━━━━━━━━━━━━━━\u001b[0m\u001b[37m\u001b[0m \u001b[1m17s\u001b[0m 3ms/step - loss: 2976.3826 - root_mean_squared_error: 54.5053\n",
      "Epoch 8/100\n",
      "\u001b[1m4901/4901\u001b[0m \u001b[32m━━━━━━━━━━━━━━━━━━━━\u001b[0m\u001b[37m\u001b[0m \u001b[1m19s\u001b[0m 4ms/step - loss: 2482.2488 - root_mean_squared_error: 49.7558\n",
      "Epoch 9/100\n",
      "\u001b[1m4901/4901\u001b[0m \u001b[32m━━━━━━━━━━━━━━━━━━━━\u001b[0m\u001b[37m\u001b[0m \u001b[1m18s\u001b[0m 4ms/step - loss: 2050.3608 - root_mean_squared_error: 45.1443\n",
      "Epoch 10/100\n",
      "\u001b[1m4901/4901\u001b[0m \u001b[32m━━━━━━━━━━━━━━━━━━━━\u001b[0m\u001b[37m\u001b[0m \u001b[1m18s\u001b[0m 4ms/step - loss: 2079.2263 - root_mean_squared_error: 45.1768\n",
      "Epoch 11/100\n",
      "\u001b[1m4901/4901\u001b[0m \u001b[32m━━━━━━━━━━━━━━━━━━━━\u001b[0m\u001b[37m\u001b[0m \u001b[1m18s\u001b[0m 4ms/step - loss: 1706.8651 - root_mean_squared_error: 41.2398\n",
      "Epoch 12/100\n",
      "\u001b[1m4901/4901\u001b[0m \u001b[32m━━━━━━━━━━━━━━━━━━━━\u001b[0m\u001b[37m\u001b[0m \u001b[1m17s\u001b[0m 4ms/step - loss: 1334.3678 - root_mean_squared_error: 36.4403\n",
      "Epoch 13/100\n",
      "\u001b[1m4901/4901\u001b[0m \u001b[32m━━━━━━━━━━━━━━━━━━━━\u001b[0m\u001b[37m\u001b[0m \u001b[1m18s\u001b[0m 4ms/step - loss: 1311.0359 - root_mean_squared_error: 36.0972\n",
      "Epoch 14/100\n",
      "\u001b[1m4901/4901\u001b[0m \u001b[32m━━━━━━━━━━━━━━━━━━━━\u001b[0m\u001b[37m\u001b[0m \u001b[1m18s\u001b[0m 4ms/step - loss: 1291.9727 - root_mean_squared_error: 35.8332\n",
      "Epoch 15/100\n",
      "\u001b[1m4901/4901\u001b[0m \u001b[32m━━━━━━━━━━━━━━━━━━━━\u001b[0m\u001b[37m\u001b[0m \u001b[1m17s\u001b[0m 3ms/step - loss: 1041.3247 - root_mean_squared_error: 32.2262\n",
      "Epoch 16/100\n",
      "\u001b[1m4901/4901\u001b[0m \u001b[32m━━━━━━━━━━━━━━━━━━━━\u001b[0m\u001b[37m\u001b[0m \u001b[1m18s\u001b[0m 4ms/step - loss: 911.8187 - root_mean_squared_error: 30.1092\n",
      "Epoch 17/100\n",
      "\u001b[1m4901/4901\u001b[0m \u001b[32m━━━━━━━━━━━━━━━━━━━━\u001b[0m\u001b[37m\u001b[0m \u001b[1m18s\u001b[0m 4ms/step - loss: 1084.8562 - root_mean_squared_error: 32.7227\n",
      "Epoch 18/100\n",
      "\u001b[1m4901/4901\u001b[0m \u001b[32m━━━━━━━━━━━━━━━━━━━━\u001b[0m\u001b[37m\u001b[0m \u001b[1m17s\u001b[0m 3ms/step - loss: 833.0621 - root_mean_squared_error: 28.8176\n",
      "Epoch 19/100\n",
      "\u001b[1m4901/4901\u001b[0m \u001b[32m━━━━━━━━━━━━━━━━━━━━\u001b[0m\u001b[37m\u001b[0m \u001b[1m18s\u001b[0m 4ms/step - loss: 794.0918 - root_mean_squared_error: 28.0380\n",
      "Epoch 20/100\n",
      "\u001b[1m4901/4901\u001b[0m \u001b[32m━━━━━━━━━━━━━━━━━━━━\u001b[0m\u001b[37m\u001b[0m \u001b[1m17s\u001b[0m 3ms/step - loss: 654.4102 - root_mean_squared_error: 25.4665\n",
      "Epoch 21/100\n",
      "\u001b[1m4901/4901\u001b[0m \u001b[32m━━━━━━━━━━━━━━━━━━━━\u001b[0m\u001b[37m\u001b[0m \u001b[1m18s\u001b[0m 4ms/step - loss: 621.7001 - root_mean_squared_error: 24.8342\n",
      "Epoch 22/100\n",
      "\u001b[1m4901/4901\u001b[0m \u001b[32m━━━━━━━━━━━━━━━━━━━━\u001b[0m\u001b[37m\u001b[0m \u001b[1m17s\u001b[0m 4ms/step - loss: 619.1169 - root_mean_squared_error: 24.8408\n",
      "Epoch 23/100\n",
      "\u001b[1m4901/4901\u001b[0m \u001b[32m━━━━━━━━━━━━━━━━━━━━\u001b[0m\u001b[37m\u001b[0m \u001b[1m17s\u001b[0m 4ms/step - loss: 570.2914 - root_mean_squared_error: 23.7450\n",
      "Epoch 24/100\n",
      "\u001b[1m4901/4901\u001b[0m \u001b[32m━━━━━━━━━━━━━━━━━━━━\u001b[0m\u001b[37m\u001b[0m \u001b[1m18s\u001b[0m 4ms/step - loss: 537.9265 - root_mean_squared_error: 23.1484\n",
      "Epoch 25/100\n",
      "\u001b[1m4901/4901\u001b[0m \u001b[32m━━━━━━━━━━━━━━━━━━━━\u001b[0m\u001b[37m\u001b[0m \u001b[1m17s\u001b[0m 4ms/step - loss: 511.9624 - root_mean_squared_error: 22.5418\n",
      "Epoch 26/100\n",
      "\u001b[1m4901/4901\u001b[0m \u001b[32m━━━━━━━━━━━━━━━━━━━━\u001b[0m\u001b[37m\u001b[0m \u001b[1m17s\u001b[0m 3ms/step - loss: 568.2260 - root_mean_squared_error: 23.7562\n",
      "Epoch 27/100\n",
      "\u001b[1m4901/4901\u001b[0m \u001b[32m━━━━━━━━━━━━━━━━━━━━\u001b[0m\u001b[37m\u001b[0m \u001b[1m18s\u001b[0m 4ms/step - loss: 456.1066 - root_mean_squared_error: 21.3139\n",
      "Epoch 28/100\n",
      "\u001b[1m4901/4901\u001b[0m \u001b[32m━━━━━━━━━━━━━━━━━━━━\u001b[0m\u001b[37m\u001b[0m \u001b[1m18s\u001b[0m 4ms/step - loss: 501.7631 - root_mean_squared_error: 22.2922\n",
      "Epoch 29/100\n",
      "\u001b[1m4901/4901\u001b[0m \u001b[32m━━━━━━━━━━━━━━━━━━━━\u001b[0m\u001b[37m\u001b[0m \u001b[1m17s\u001b[0m 3ms/step - loss: 438.0389 - root_mean_squared_error: 20.8612\n",
      "Epoch 30/100\n",
      "\u001b[1m4901/4901\u001b[0m \u001b[32m━━━━━━━━━━━━━━━━━━━━\u001b[0m\u001b[37m\u001b[0m \u001b[1m18s\u001b[0m 4ms/step - loss: 513.6149 - root_mean_squared_error: 22.5415\n",
      "Epoch 31/100\n",
      "\u001b[1m4901/4901\u001b[0m \u001b[32m━━━━━━━━━━━━━━━━━━━━\u001b[0m\u001b[37m\u001b[0m \u001b[1m18s\u001b[0m 4ms/step - loss: 480.9455 - root_mean_squared_error: 21.8450\n",
      "Epoch 32/100\n",
      "\u001b[1m4901/4901\u001b[0m \u001b[32m━━━━━━━━━━━━━━━━━━━━\u001b[0m\u001b[37m\u001b[0m \u001b[1m18s\u001b[0m 4ms/step - loss: 370.0143 - root_mean_squared_error: 19.1016\n",
      "Epoch 33/100\n",
      "\u001b[1m4901/4901\u001b[0m \u001b[32m━━━━━━━━━━━━━━━━━━━━\u001b[0m\u001b[37m\u001b[0m \u001b[1m18s\u001b[0m 4ms/step - loss: 363.5015 - root_mean_squared_error: 19.0122\n",
      "Epoch 34/100\n",
      "\u001b[1m4901/4901\u001b[0m \u001b[32m━━━━━━━━━━━━━━━━━━━━\u001b[0m\u001b[37m\u001b[0m \u001b[1m17s\u001b[0m 3ms/step - loss: 411.0169 - root_mean_squared_error: 20.1601\n",
      "Epoch 35/100\n",
      "\u001b[1m4901/4901\u001b[0m \u001b[32m━━━━━━━━━━━━━━━━━━━━\u001b[0m\u001b[37m\u001b[0m \u001b[1m18s\u001b[0m 4ms/step - loss: 349.0446 - root_mean_squared_error: 18.6344\n",
      "Epoch 36/100\n",
      "\u001b[1m4901/4901\u001b[0m \u001b[32m━━━━━━━━━━━━━━━━━━━━\u001b[0m\u001b[37m\u001b[0m \u001b[1m18s\u001b[0m 4ms/step - loss: 354.3524 - root_mean_squared_error: 18.7284\n",
      "Epoch 37/100\n",
      "\u001b[1m4901/4901\u001b[0m \u001b[32m━━━━━━━━━━━━━━━━━━━━\u001b[0m\u001b[37m\u001b[0m \u001b[1m18s\u001b[0m 4ms/step - loss: 349.5343 - root_mean_squared_error: 18.6396\n",
      "Epoch 38/100\n",
      "\u001b[1m4901/4901\u001b[0m \u001b[32m━━━━━━━━━━━━━━━━━━━━\u001b[0m\u001b[37m\u001b[0m \u001b[1m18s\u001b[0m 4ms/step - loss: 273.9175 - root_mean_squared_error: 16.3673\n",
      "Epoch 39/100\n",
      "\u001b[1m4901/4901\u001b[0m \u001b[32m━━━━━━━━━━━━━━━━━━━━\u001b[0m\u001b[37m\u001b[0m \u001b[1m17s\u001b[0m 3ms/step - loss: 367.3912 - root_mean_squared_error: 19.0226\n",
      "Epoch 40/100\n",
      "\u001b[1m4901/4901\u001b[0m \u001b[32m━━━━━━━━━━━━━━━━━━━━\u001b[0m\u001b[37m\u001b[0m \u001b[1m18s\u001b[0m 4ms/step - loss: 318.3742 - root_mean_squared_error: 17.7770\n",
      "Epoch 41/100\n",
      "\u001b[1m4901/4901\u001b[0m \u001b[32m━━━━━━━━━━━━━━━━━━━━\u001b[0m\u001b[37m\u001b[0m \u001b[1m18s\u001b[0m 4ms/step - loss: 319.6649 - root_mean_squared_error: 17.7487\n",
      "Epoch 42/100\n",
      "\u001b[1m4901/4901\u001b[0m \u001b[32m━━━━━━━━━━━━━━━━━━━━\u001b[0m\u001b[37m\u001b[0m \u001b[1m18s\u001b[0m 4ms/step - loss: 287.4664 - root_mean_squared_error: 16.8911\n",
      "Epoch 43/100\n",
      "\u001b[1m4901/4901\u001b[0m \u001b[32m━━━━━━━━━━━━━━━━━━━━\u001b[0m\u001b[37m\u001b[0m \u001b[1m18s\u001b[0m 4ms/step - loss: 267.0316 - root_mean_squared_error: 16.2635\n",
      "Epoch 44/100\n",
      "\u001b[1m4901/4901\u001b[0m \u001b[32m━━━━━━━━━━━━━━━━━━━━\u001b[0m\u001b[37m\u001b[0m \u001b[1m18s\u001b[0m 4ms/step - loss: 267.6152 - root_mean_squared_error: 16.2925\n",
      "Epoch 45/100\n",
      "\u001b[1m4901/4901\u001b[0m \u001b[32m━━━━━━━━━━━━━━━━━━━━\u001b[0m\u001b[37m\u001b[0m \u001b[1m19s\u001b[0m 4ms/step - loss: 288.9130 - root_mean_squared_error: 16.9020\n",
      "Epoch 46/100\n",
      "\u001b[1m4901/4901\u001b[0m \u001b[32m━━━━━━━━━━━━━━━━━━━━\u001b[0m\u001b[37m\u001b[0m \u001b[1m18s\u001b[0m 4ms/step - loss: 287.5135 - root_mean_squared_error: 16.8617\n",
      "Epoch 47/100\n",
      "\u001b[1m4901/4901\u001b[0m \u001b[32m━━━━━━━━━━━━━━━━━━━━\u001b[0m\u001b[37m\u001b[0m \u001b[1m18s\u001b[0m 4ms/step - loss: 248.2886 - root_mean_squared_error: 15.4147\n",
      "Epoch 48/100\n",
      "\u001b[1m4901/4901\u001b[0m \u001b[32m━━━━━━━━━━━━━━━━━━━━\u001b[0m\u001b[37m\u001b[0m \u001b[1m18s\u001b[0m 4ms/step - loss: 245.3843 - root_mean_squared_error: 15.5514\n",
      "Epoch 49/100\n",
      "\u001b[1m4901/4901\u001b[0m \u001b[32m━━━━━━━━━━━━━━━━━━━━\u001b[0m\u001b[37m\u001b[0m \u001b[1m18s\u001b[0m 4ms/step - loss: 235.2831 - root_mean_squared_error: 15.2635\n",
      "Epoch 50/100\n",
      "\u001b[1m4901/4901\u001b[0m \u001b[32m━━━━━━━━━━━━━━━━━━━━\u001b[0m\u001b[37m\u001b[0m \u001b[1m18s\u001b[0m 4ms/step - loss: 249.5744 - root_mean_squared_error: 15.7366\n",
      "Epoch 51/100\n",
      "\u001b[1m4901/4901\u001b[0m \u001b[32m━━━━━━━━━━━━━━━━━━━━\u001b[0m\u001b[37m\u001b[0m \u001b[1m18s\u001b[0m 4ms/step - loss: 203.4458 - root_mean_squared_error: 14.1495\n",
      "Epoch 52/100\n",
      "\u001b[1m4901/4901\u001b[0m \u001b[32m━━━━━━━━━━━━━━━━━━━━\u001b[0m\u001b[37m\u001b[0m \u001b[1m18s\u001b[0m 4ms/step - loss: 231.4718 - root_mean_squared_error: 15.1270\n",
      "Epoch 53/100\n",
      "\u001b[1m4901/4901\u001b[0m \u001b[32m━━━━━━━━━━━━━━━━━━━━\u001b[0m\u001b[37m\u001b[0m \u001b[1m18s\u001b[0m 4ms/step - loss: 253.1851 - root_mean_squared_error: 15.8822\n",
      "Epoch 54/100\n",
      "\u001b[1m4901/4901\u001b[0m \u001b[32m━━━━━━━━━━━━━━━━━━━━\u001b[0m\u001b[37m\u001b[0m \u001b[1m18s\u001b[0m 4ms/step - loss: 234.5153 - root_mean_squared_error: 15.2185\n",
      "Epoch 55/100\n",
      "\u001b[1m4901/4901\u001b[0m \u001b[32m━━━━━━━━━━━━━━━━━━━━\u001b[0m\u001b[37m\u001b[0m \u001b[1m18s\u001b[0m 4ms/step - loss: 213.0824 - root_mean_squared_error: 14.5453\n",
      "Epoch 56/100\n",
      "\u001b[1m4901/4901\u001b[0m \u001b[32m━━━━━━━━━━━━━━━━━━━━\u001b[0m\u001b[37m\u001b[0m \u001b[1m18s\u001b[0m 4ms/step - loss: 207.9009 - root_mean_squared_error: 14.2074\n",
      "Epoch 57/100\n",
      "\u001b[1m4901/4901\u001b[0m \u001b[32m━━━━━━━━━━━━━━━━━━━━\u001b[0m\u001b[37m\u001b[0m \u001b[1m27s\u001b[0m 5ms/step - loss: 215.1598 - root_mean_squared_error: 14.5931\n",
      "Epoch 58/100\n",
      "\u001b[1m4901/4901\u001b[0m \u001b[32m━━━━━━━━━━━━━━━━━━━━\u001b[0m\u001b[37m\u001b[0m \u001b[1m40s\u001b[0m 8ms/step - loss: 253.8087 - root_mean_squared_error: 15.7694\n",
      "Epoch 59/100\n",
      "\u001b[1m4901/4901\u001b[0m \u001b[32m━━━━━━━━━━━━━━━━━━━━\u001b[0m\u001b[37m\u001b[0m \u001b[1m39s\u001b[0m 8ms/step - loss: 201.4550 - root_mean_squared_error: 14.1530\n",
      "Epoch 60/100\n",
      "\u001b[1m4901/4901\u001b[0m \u001b[32m━━━━━━━━━━━━━━━━━━━━\u001b[0m\u001b[37m\u001b[0m \u001b[1m42s\u001b[0m 8ms/step - loss: 209.9808 - root_mean_squared_error: 14.4147\n",
      "Epoch 61/100\n",
      "\u001b[1m4901/4901\u001b[0m \u001b[32m━━━━━━━━━━━━━━━━━━━━\u001b[0m\u001b[37m\u001b[0m \u001b[1m38s\u001b[0m 8ms/step - loss: 180.6930 - root_mean_squared_error: 13.3365\n",
      "Epoch 62/100\n",
      "\u001b[1m4901/4901\u001b[0m \u001b[32m━━━━━━━━━━━━━━━━━━━━\u001b[0m\u001b[37m\u001b[0m \u001b[1m41s\u001b[0m 8ms/step - loss: 201.5131 - root_mean_squared_error: 14.0652\n",
      "Epoch 63/100\n",
      "\u001b[1m4901/4901\u001b[0m \u001b[32m━━━━━━━━━━━━━━━━━━━━\u001b[0m\u001b[37m\u001b[0m \u001b[1m43s\u001b[0m 9ms/step - loss: 229.4671 - root_mean_squared_error: 15.0078\n",
      "Epoch 64/100\n",
      "\u001b[1m4901/4901\u001b[0m \u001b[32m━━━━━━━━━━━━━━━━━━━━\u001b[0m\u001b[37m\u001b[0m \u001b[1m42s\u001b[0m 9ms/step - loss: 211.8519 - root_mean_squared_error: 14.4779\n",
      "Epoch 65/100\n",
      "\u001b[1m4901/4901\u001b[0m \u001b[32m━━━━━━━━━━━━━━━━━━━━\u001b[0m\u001b[37m\u001b[0m \u001b[1m22s\u001b[0m 4ms/step - loss: 200.2481 - root_mean_squared_error: 14.0980\n",
      "Epoch 66/100\n",
      "\u001b[1m4901/4901\u001b[0m \u001b[32m━━━━━━━━━━━━━━━━━━━━\u001b[0m\u001b[37m\u001b[0m \u001b[1m19s\u001b[0m 4ms/step - loss: 183.9524 - root_mean_squared_error: 13.4836\n",
      "Epoch 67/100\n",
      "\u001b[1m4901/4901\u001b[0m \u001b[32m━━━━━━━━━━━━━━━━━━━━\u001b[0m\u001b[37m\u001b[0m \u001b[1m18s\u001b[0m 4ms/step - loss: 210.4686 - root_mean_squared_error: 14.4315\n",
      "Epoch 68/100\n",
      "\u001b[1m4901/4901\u001b[0m \u001b[32m━━━━━━━━━━━━━━━━━━━━\u001b[0m\u001b[37m\u001b[0m \u001b[1m18s\u001b[0m 4ms/step - loss: 194.4625 - root_mean_squared_error: 13.9053\n",
      "Epoch 69/100\n",
      "\u001b[1m4901/4901\u001b[0m \u001b[32m━━━━━━━━━━━━━━━━━━━━\u001b[0m\u001b[37m\u001b[0m \u001b[1m19s\u001b[0m 4ms/step - loss: 252.7576 - root_mean_squared_error: 15.5656\n",
      "Epoch 70/100\n",
      "\u001b[1m4901/4901\u001b[0m \u001b[32m━━━━━━━━━━━━━━━━━━━━\u001b[0m\u001b[37m\u001b[0m \u001b[1m18s\u001b[0m 4ms/step - loss: 245.6132 - root_mean_squared_error: 15.4286\n",
      "Epoch 71/100\n",
      "\u001b[1m4901/4901\u001b[0m \u001b[32m━━━━━━━━━━━━━━━━━━━━\u001b[0m\u001b[37m\u001b[0m \u001b[1m18s\u001b[0m 4ms/step - loss: 161.8522 - root_mean_squared_error: 12.6805\n",
      "Epoch 72/100\n",
      "\u001b[1m4901/4901\u001b[0m \u001b[32m━━━━━━━━━━━━━━━━━━━━\u001b[0m\u001b[37m\u001b[0m \u001b[1m17s\u001b[0m 4ms/step - loss: 231.0785 - root_mean_squared_error: 15.0424\n",
      "Epoch 73/100\n",
      "\u001b[1m4901/4901\u001b[0m \u001b[32m━━━━━━━━━━━━━━━━━━━━\u001b[0m\u001b[37m\u001b[0m \u001b[1m18s\u001b[0m 4ms/step - loss: 246.8120 - root_mean_squared_error: 15.5295\n",
      "Epoch 74/100\n",
      "\u001b[1m4901/4901\u001b[0m \u001b[32m━━━━━━━━━━━━━━━━━━━━\u001b[0m\u001b[37m\u001b[0m \u001b[1m18s\u001b[0m 4ms/step - loss: 190.0107 - root_mean_squared_error: 13.7198\n",
      "Epoch 75/100\n",
      "\u001b[1m4901/4901\u001b[0m \u001b[32m━━━━━━━━━━━━━━━━━━━━\u001b[0m\u001b[37m\u001b[0m \u001b[1m18s\u001b[0m 4ms/step - loss: 183.0149 - root_mean_squared_error: 13.4050\n",
      "Epoch 76/100\n",
      "\u001b[1m4901/4901\u001b[0m \u001b[32m━━━━━━━━━━━━━━━━━━━━\u001b[0m\u001b[37m\u001b[0m \u001b[1m18s\u001b[0m 4ms/step - loss: 171.8046 - root_mean_squared_error: 13.0310\n",
      "Epoch 77/100\n",
      "\u001b[1m4901/4901\u001b[0m \u001b[32m━━━━━━━━━━━━━━━━━━━━\u001b[0m\u001b[37m\u001b[0m \u001b[1m18s\u001b[0m 4ms/step - loss: 180.0296 - root_mean_squared_error: 13.3623\n",
      "Epoch 78/100\n",
      "\u001b[1m4901/4901\u001b[0m \u001b[32m━━━━━━━━━━━━━━━━━━━━\u001b[0m\u001b[37m\u001b[0m \u001b[1m18s\u001b[0m 4ms/step - loss: 198.2633 - root_mean_squared_error: 13.8002\n",
      "Epoch 79/100\n",
      "\u001b[1m4901/4901\u001b[0m \u001b[32m━━━━━━━━━━━━━━━━━━━━\u001b[0m\u001b[37m\u001b[0m \u001b[1m18s\u001b[0m 4ms/step - loss: 226.7656 - root_mean_squared_error: 14.7679\n",
      "Epoch 80/100\n",
      "\u001b[1m4901/4901\u001b[0m \u001b[32m━━━━━━━━━━━━━━━━━━━━\u001b[0m\u001b[37m\u001b[0m \u001b[1m19s\u001b[0m 4ms/step - loss: 166.1302 - root_mean_squared_error: 12.8443\n",
      "Epoch 81/100\n",
      "\u001b[1m4901/4901\u001b[0m \u001b[32m━━━━━━━━━━━━━━━━━━━━\u001b[0m\u001b[37m\u001b[0m \u001b[1m19s\u001b[0m 4ms/step - loss: 193.5351 - root_mean_squared_error: 13.8180\n",
      "Epoch 82/100\n",
      "\u001b[1m4901/4901\u001b[0m \u001b[32m━━━━━━━━━━━━━━━━━━━━\u001b[0m\u001b[37m\u001b[0m \u001b[1m21s\u001b[0m 4ms/step - loss: 192.9226 - root_mean_squared_error: 13.8157\n",
      "Epoch 83/100\n",
      "\u001b[1m4901/4901\u001b[0m \u001b[32m━━━━━━━━━━━━━━━━━━━━\u001b[0m\u001b[37m\u001b[0m \u001b[1m23s\u001b[0m 5ms/step - loss: 161.9865 - root_mean_squared_error: 12.6798\n",
      "Epoch 84/100\n",
      "\u001b[1m4901/4901\u001b[0m \u001b[32m━━━━━━━━━━━━━━━━━━━━\u001b[0m\u001b[37m\u001b[0m \u001b[1m19s\u001b[0m 4ms/step - loss: 154.4821 - root_mean_squared_error: 12.3762\n",
      "Epoch 85/100\n",
      "\u001b[1m4901/4901\u001b[0m \u001b[32m━━━━━━━━━━━━━━━━━━━━\u001b[0m\u001b[37m\u001b[0m \u001b[1m19s\u001b[0m 4ms/step - loss: 164.9982 - root_mean_squared_error: 12.7835\n",
      "Epoch 86/100\n",
      "\u001b[1m4901/4901\u001b[0m \u001b[32m━━━━━━━━━━━━━━━━━━━━\u001b[0m\u001b[37m\u001b[0m \u001b[1m18s\u001b[0m 4ms/step - loss: 130.6738 - root_mean_squared_error: 11.4130\n",
      "Epoch 87/100\n",
      "\u001b[1m4901/4901\u001b[0m \u001b[32m━━━━━━━━━━━━━━━━━━━━\u001b[0m\u001b[37m\u001b[0m \u001b[1m18s\u001b[0m 4ms/step - loss: 179.2753 - root_mean_squared_error: 13.3023\n",
      "Epoch 88/100\n",
      "\u001b[1m4901/4901\u001b[0m \u001b[32m━━━━━━━━━━━━━━━━━━━━\u001b[0m\u001b[37m\u001b[0m \u001b[1m19s\u001b[0m 4ms/step - loss: 149.1821 - root_mean_squared_error: 12.1294\n",
      "Epoch 89/100\n",
      "\u001b[1m4901/4901\u001b[0m \u001b[32m━━━━━━━━━━━━━━━━━━━━\u001b[0m\u001b[37m\u001b[0m \u001b[1m18s\u001b[0m 4ms/step - loss: 139.1555 - root_mean_squared_error: 11.7370\n",
      "Epoch 90/100\n",
      "\u001b[1m4901/4901\u001b[0m \u001b[32m━━━━━━━━━━━━━━━━━━━━\u001b[0m\u001b[37m\u001b[0m \u001b[1m18s\u001b[0m 4ms/step - loss: 144.5959 - root_mean_squared_error: 11.9771\n",
      "Epoch 91/100\n",
      "\u001b[1m4901/4901\u001b[0m \u001b[32m━━━━━━━━━━━━━━━━━━━━\u001b[0m\u001b[37m\u001b[0m \u001b[1m20s\u001b[0m 4ms/step - loss: 139.2463 - root_mean_squared_error: 11.7328\n",
      "Epoch 92/100\n",
      "\u001b[1m4901/4901\u001b[0m \u001b[32m━━━━━━━━━━━━━━━━━━━━\u001b[0m\u001b[37m\u001b[0m \u001b[1m18s\u001b[0m 4ms/step - loss: 138.4317 - root_mean_squared_error: 11.7238\n",
      "Epoch 93/100\n",
      "\u001b[1m4901/4901\u001b[0m \u001b[32m━━━━━━━━━━━━━━━━━━━━\u001b[0m\u001b[37m\u001b[0m \u001b[1m19s\u001b[0m 4ms/step - loss: 113.2286 - root_mean_squared_error: 10.5897\n",
      "Epoch 94/100\n",
      "\u001b[1m4901/4901\u001b[0m \u001b[32m━━━━━━━━━━━━━━━━━━━━\u001b[0m\u001b[37m\u001b[0m \u001b[1m18s\u001b[0m 4ms/step - loss: 129.6992 - root_mean_squared_error: 11.3610\n",
      "Epoch 95/100\n",
      "\u001b[1m4901/4901\u001b[0m \u001b[32m━━━━━━━━━━━━━━━━━━━━\u001b[0m\u001b[37m\u001b[0m \u001b[1m18s\u001b[0m 4ms/step - loss: 155.9820 - root_mean_squared_error: 12.4699\n",
      "Epoch 96/100\n",
      "\u001b[1m4901/4901\u001b[0m \u001b[32m━━━━━━━━━━━━━━━━━━━━\u001b[0m\u001b[37m\u001b[0m \u001b[1m18s\u001b[0m 4ms/step - loss: 140.6422 - root_mean_squared_error: 11.8022\n",
      "Epoch 97/100\n",
      "\u001b[1m4901/4901\u001b[0m \u001b[32m━━━━━━━━━━━━━━━━━━━━\u001b[0m\u001b[37m\u001b[0m \u001b[1m18s\u001b[0m 4ms/step - loss: 149.7299 - root_mean_squared_error: 12.1789\n",
      "Epoch 98/100\n",
      "\u001b[1m4901/4901\u001b[0m \u001b[32m━━━━━━━━━━━━━━━━━━━━\u001b[0m\u001b[37m\u001b[0m \u001b[1m18s\u001b[0m 4ms/step - loss: 169.0930 - root_mean_squared_error: 12.9319\n",
      "Epoch 99/100\n",
      "\u001b[1m4901/4901\u001b[0m \u001b[32m━━━━━━━━━━━━━━━━━━━━\u001b[0m\u001b[37m\u001b[0m \u001b[1m19s\u001b[0m 4ms/step - loss: 152.5600 - root_mean_squared_error: 12.2997\n",
      "Epoch 100/100\n",
      "\u001b[1m4901/4901\u001b[0m \u001b[32m━━━━━━━━━━━━━━━━━━━━\u001b[0m\u001b[37m\u001b[0m \u001b[1m19s\u001b[0m 4ms/step - loss: 148.7474 - root_mean_squared_error: 12.1480\n"
     ]
    }
   ],
   "source": [
    "nn_model = do_nn_exp()"
   ]
  },
  {
   "cell_type": "code",
   "execution_count": 10,
   "id": "16800056",
   "metadata": {},
   "outputs": [
    {
     "name": "stdout",
     "output_type": "stream",
     "text": [
      "FCM training RMSE: 18.009862959525147\n"
     ]
    }
   ],
   "source": [
    "# TS model\n",
    "# Linear conclusion\n",
    "\n",
    "def ts_relu_wrapper(pred):\n",
    "    return np.maximum(0, pred)\n",
    "\n",
    "# TS with linear conclusion\n",
    "tsl_model = TsModel.TsModel(number_of_rules=25, fuzzification_coefficient=1.2)\n",
    "\n",
    "start_time = time.time()\n",
    "tsl_model.fit(x_train, y_train)\n",
    "time_used = time.time() - start_time"
   ]
  },
  {
   "cell_type": "code",
   "execution_count": 8,
   "id": "fba9a05a",
   "metadata": {},
   "outputs": [
    {
     "name": "stdout",
     "output_type": "stream",
     "text": [
      "(156830, 250)\n",
      "[[1.00291236e-05 0.00000000e+00 0.00000000e+00 ... 0.00000000e+00\n",
      "  0.00000000e+00 0.00000000e+00]\n",
      " [6.18903397e-02 0.00000000e+00 0.00000000e+00 ... 0.00000000e+00\n",
      "  0.00000000e+00 0.00000000e+00]\n",
      " [3.35838705e-06 0.00000000e+00 0.00000000e+00 ... 0.00000000e+00\n",
      "  0.00000000e+00 0.00000000e+00]\n",
      " ...\n",
      " [6.49188947e-05 0.00000000e+00 0.00000000e+00 ... 0.00000000e+00\n",
      "  0.00000000e+00 0.00000000e+00]\n",
      " [5.11619604e-05 0.00000000e+00 0.00000000e+00 ... 0.00000000e+00\n",
      "  0.00000000e+00 0.00000000e+00]\n",
      " [1.29403555e-06 0.00000000e+00 0.00000000e+00 ... 0.00000000e+00\n",
      "  0.00000000e+00 0.00000000e+00]]\n",
      "(156830, 25)\n",
      "[[1.00291236e-05 1.06301311e-01 7.18777331e-06 ... 2.69185954e-03\n",
      "  4.80988098e-06 9.20827024e-06]\n",
      " [6.18903397e-02 2.16325127e-10 9.89626327e-05 ... 4.49841434e-09\n",
      "  3.45561850e-07 5.77556323e-05]\n",
      " [3.35838705e-06 6.99867117e-01 4.45664667e-06 ... 1.72199648e-03\n",
      "  3.62516114e-06 6.14252794e-07]\n",
      " ...\n",
      " [6.49188947e-05 1.53340762e-07 3.91083108e-04 ... 2.76815403e-06\n",
      "  1.17376205e-02 1.40257076e-06]\n",
      " [5.11619604e-05 2.29635321e-07 9.04669644e-05 ... 1.00945902e-05\n",
      "  2.50370447e-01 5.44690069e-04]\n",
      " [1.29403555e-06 6.04215349e-09 1.26185005e-06 ... 2.84760888e-07\n",
      "  2.01889009e-03 3.23106879e-05]]\n",
      "FCM training RMSE: 49.02664838504556\n"
     ]
    }
   ],
   "source": [
    "# TS model\n",
    "# Constant conclusion\n",
    "\n",
    "\n",
    "tsc_model = TsModel_constant.TsModel_constant(number_of_rules=25, fuzzification_coefficient=1.2)\n",
    "\n",
    "start_time = time.time()\n",
    "tsc_model.fit(x_train, y_train)\n",
    "time_used = time.time() - start_time"
   ]
  },
  {
   "cell_type": "code",
   "execution_count": 8,
   "id": "d3200aca",
   "metadata": {},
   "outputs": [],
   "source": [
    "def get_tsl_model(x_train, y_train):\n",
    "    tsl_model = TsModel.TsModel(number_of_rules=25, fuzzification_coefficient=1.2)\n",
    "    tsl_model.fit(x_train, y_train)\n",
    "    return tsl_model\n",
    "\n",
    "def get_tsc_model(x_train, y_train):\n",
    "    tsc_model = TsModel_constant.TsModel_constant(number_of_rules=25, fuzzification_coefficient=1.2)\n",
    "    tsc_model.fit(x_train, y_train)\n",
    "    return tsc_model"
   ]
  },
  {
   "cell_type": "code",
   "execution_count": 5,
   "id": "9f4e6845",
   "metadata": {},
   "outputs": [
    {
     "name": "stderr",
     "output_type": "stream",
     "text": [
      "e:\\Users\\PPL\\anaconda3\\envs\\pytorch\\Lib\\site-packages\\sklearn\\gaussian_process\\_gpr.py:663: ConvergenceWarning: lbfgs failed to converge (status=2):\n",
      "ABNORMAL_TERMINATION_IN_LNSRCH.\n",
      "\n",
      "Increase the number of iterations (max_iter) or scale the data as shown in:\n",
      "    https://scikit-learn.org/stable/modules/preprocessing.html\n",
      "  _check_optimize_result(\"lbfgs\", opt_res)\n",
      "e:\\Users\\PPL\\anaconda3\\envs\\pytorch\\Lib\\site-packages\\sklearn\\gaussian_process\\kernels.py:455: ConvergenceWarning: The optimal value found for dimension 0 of parameter k1__constant_value is close to the specified upper bound 100000.0. Increasing the bound and calling fit again may find a better value.\n",
      "  warnings.warn(\n",
      "e:\\Users\\PPL\\anaconda3\\envs\\pytorch\\Lib\\site-packages\\sklearn\\gaussian_process\\_gpr.py:663: ConvergenceWarning: lbfgs failed to converge (status=2):\n",
      "ABNORMAL_TERMINATION_IN_LNSRCH.\n",
      "\n",
      "Increase the number of iterations (max_iter) or scale the data as shown in:\n",
      "    https://scikit-learn.org/stable/modules/preprocessing.html\n",
      "  _check_optimize_result(\"lbfgs\", opt_res)\n",
      "e:\\Users\\PPL\\anaconda3\\envs\\pytorch\\Lib\\site-packages\\sklearn\\gaussian_process\\kernels.py:455: ConvergenceWarning: The optimal value found for dimension 0 of parameter k1__constant_value is close to the specified upper bound 100000.0. Increasing the bound and calling fit again may find a better value.\n",
      "  warnings.warn(\n",
      "e:\\Users\\PPL\\anaconda3\\envs\\pytorch\\Lib\\site-packages\\sklearn\\gaussian_process\\kernels.py:455: ConvergenceWarning: The optimal value found for dimension 0 of parameter k1__constant_value is close to the specified upper bound 100000.0. Increasing the bound and calling fit again may find a better value.\n",
      "  warnings.warn(\n",
      "e:\\Users\\PPL\\anaconda3\\envs\\pytorch\\Lib\\site-packages\\sklearn\\gaussian_process\\kernels.py:445: ConvergenceWarning: The optimal value found for dimension 0 of parameter k2__length_scale is close to the specified lower bound 1e-05. Decreasing the bound and calling fit again may find a better value.\n",
      "  warnings.warn(\n",
      "e:\\Users\\PPL\\anaconda3\\envs\\pytorch\\Lib\\site-packages\\sklearn\\gaussian_process\\kernels.py:455: ConvergenceWarning: The optimal value found for dimension 0 of parameter k1__constant_value is close to the specified upper bound 100000.0. Increasing the bound and calling fit again may find a better value.\n",
      "  warnings.warn(\n",
      "e:\\Users\\PPL\\anaconda3\\envs\\pytorch\\Lib\\site-packages\\sklearn\\gaussian_process\\kernels.py:455: ConvergenceWarning: The optimal value found for dimension 0 of parameter k1__constant_value is close to the specified upper bound 100000.0. Increasing the bound and calling fit again may find a better value.\n",
      "  warnings.warn(\n"
     ]
    },
    {
     "name": "stdout",
     "output_type": "stream",
     "text": [
      "GP Train RMSE: 67.979 ± 52.825\n",
      "GP Test RMSE: 69.018 ± 53.051\n",
      "GP R2: 0.496 ± 0.534\n",
      "GP Time: 104.475 ± 34.704\n"
     ]
    }
   ],
   "source": [
    "# GPR model\n",
    "gp_train_accuracy = []\n",
    "gp_test_accuracy = []\n",
    "gp_r2s = []\n",
    "gp_time = []\n",
    "gpr_model = None\n",
    "\n",
    "for fold in range(number_of_folds):\n",
    "    \n",
    "    kernel = 1.0 * Matern(length_scale=1.0, nu=1.5)\n",
    "    gpr_model = GaussianProcessRegressor(kernel=kernel, n_restarts_optimizer=9, normalize_y=False)\n",
    "    indices = np.random.choice(x_train.shape[0], 2000, replace=False)      \n",
    "\n",
    "    start_time = time.time()\n",
    "    gpr_model.fit(x_train[indices,:], y_train[indices,:])\n",
    "    time_used = time.time() - start_time\n",
    "\n",
    "    train_means = gpr_model.predict(x_train)\n",
    "    test_means = gpr_model.predict(x_test)\n",
    "\n",
    "    train_rmse = root_mean_squared_error(y_train, train_means)\n",
    "    test_rmse = root_mean_squared_error(y_test, test_means)\n",
    "\n",
    "    gp_train_accuracy.append(train_rmse)\n",
    "    gp_test_accuracy.append(test_rmse)\n",
    "    gp_r2 = r2_score(y_test, test_means)\n",
    "    gp_r2s.append(gp_r2)\n",
    "    gp_time.append(time_used)\n",
    "\n",
    "gp_train_accuracy_mean = np.round(np.mean(gp_train_accuracy), 3)\n",
    "gp_train_accuracy_std = np.round(np.std(gp_train_accuracy), 3)\n",
    "gp_test_accuracy_mean = np.round(np.mean(gp_test_accuracy), 3)\n",
    "gp_test_accuracy_std = np.round(np.std(gp_test_accuracy),3)\n",
    "gp_r2_mean = np.round(np.mean(gp_r2s),3)\n",
    "gp_r2_std = np.round(np.std(gp_r2s),3)\n",
    "gp_time_mean = np.round(np.mean(gp_time),3)\n",
    "gp_time_std = np.round(np.std(gp_time),3)\n",
    "\n",
    "print(f\"GP Train RMSE: {gp_train_accuracy_mean} ± {gp_train_accuracy_std}\")\n",
    "print(f\"GP Test RMSE: {gp_test_accuracy_mean} ± {gp_test_accuracy_std}\")\n",
    "print(f\"GP R2: {gp_r2_mean} ± {gp_r2_std}\")\n",
    "print(f\"GP Time: {gp_time_mean} ± {gp_time_std}\")\n"
   ]
  },
  {
   "cell_type": "code",
   "execution_count": 11,
   "id": "3646ec51",
   "metadata": {},
   "outputs": [
    {
     "name": "stdout",
     "output_type": "stream",
     "text": [
      "FCM training RMSE: 15.656994414269844\n"
     ]
    },
    {
     "name": "stderr",
     "output_type": "stream",
     "text": [
      "e:\\Users\\PPL\\anaconda3\\envs\\pytorch\\Lib\\site-packages\\sklearn\\gaussian_process\\kernels.py:455: ConvergenceWarning: The optimal value found for dimension 0 of parameter k1__constant_value is close to the specified upper bound 100000.0. Increasing the bound and calling fit again may find a better value.\n",
      "  warnings.warn(\n"
     ]
    },
    {
     "name": "stdout",
     "output_type": "stream",
     "text": [
      "FCM training RMSE: 18.260463988299175\n"
     ]
    },
    {
     "name": "stderr",
     "output_type": "stream",
     "text": [
      "e:\\Users\\PPL\\anaconda3\\envs\\pytorch\\Lib\\site-packages\\sklearn\\gaussian_process\\kernels.py:455: ConvergenceWarning: The optimal value found for dimension 0 of parameter k1__constant_value is close to the specified upper bound 100000.0. Increasing the bound and calling fit again may find a better value.\n",
      "  warnings.warn(\n"
     ]
    },
    {
     "name": "stdout",
     "output_type": "stream",
     "text": [
      "FCM training RMSE: 15.919076879090703\n"
     ]
    },
    {
     "name": "stderr",
     "output_type": "stream",
     "text": [
      "e:\\Users\\PPL\\anaconda3\\envs\\pytorch\\Lib\\site-packages\\sklearn\\gaussian_process\\kernels.py:455: ConvergenceWarning: The optimal value found for dimension 0 of parameter k1__constant_value is close to the specified upper bound 100000.0. Increasing the bound and calling fit again may find a better value.\n",
      "  warnings.warn(\n"
     ]
    },
    {
     "name": "stdout",
     "output_type": "stream",
     "text": [
      "FCM training RMSE: 16.439108732099832\n"
     ]
    },
    {
     "name": "stderr",
     "output_type": "stream",
     "text": [
      "e:\\Users\\PPL\\anaconda3\\envs\\pytorch\\Lib\\site-packages\\sklearn\\gaussian_process\\kernels.py:455: ConvergenceWarning: The optimal value found for dimension 0 of parameter k1__constant_value is close to the specified upper bound 100000.0. Increasing the bound and calling fit again may find a better value.\n",
      "  warnings.warn(\n"
     ]
    },
    {
     "name": "stdout",
     "output_type": "stream",
     "text": [
      "FCM training RMSE: 16.498631225188326\n",
      "FCM training RMSE: 14.81749399627513\n"
     ]
    },
    {
     "name": "stderr",
     "output_type": "stream",
     "text": [
      "e:\\Users\\PPL\\anaconda3\\envs\\pytorch\\Lib\\site-packages\\sklearn\\gaussian_process\\kernels.py:455: ConvergenceWarning: The optimal value found for dimension 0 of parameter k1__constant_value is close to the specified upper bound 100000.0. Increasing the bound and calling fit again may find a better value.\n",
      "  warnings.warn(\n"
     ]
    },
    {
     "name": "stdout",
     "output_type": "stream",
     "text": [
      "FCM training RMSE: 14.74524608481604\n"
     ]
    },
    {
     "name": "stderr",
     "output_type": "stream",
     "text": [
      "e:\\Users\\PPL\\anaconda3\\envs\\pytorch\\Lib\\site-packages\\sklearn\\gaussian_process\\kernels.py:455: ConvergenceWarning: The optimal value found for dimension 0 of parameter k1__constant_value is close to the specified upper bound 100000.0. Increasing the bound and calling fit again may find a better value.\n",
      "  warnings.warn(\n"
     ]
    },
    {
     "name": "stdout",
     "output_type": "stream",
     "text": [
      "FCM training RMSE: 15.917653454731841\n"
     ]
    },
    {
     "name": "stderr",
     "output_type": "stream",
     "text": [
      "e:\\Users\\PPL\\anaconda3\\envs\\pytorch\\Lib\\site-packages\\sklearn\\gaussian_process\\kernels.py:455: ConvergenceWarning: The optimal value found for dimension 0 of parameter k1__constant_value is close to the specified upper bound 100000.0. Increasing the bound and calling fit again may find a better value.\n",
      "  warnings.warn(\n"
     ]
    },
    {
     "name": "stdout",
     "output_type": "stream",
     "text": [
      "FCM training RMSE: 15.799455777472495\n"
     ]
    },
    {
     "name": "stderr",
     "output_type": "stream",
     "text": [
      "e:\\Users\\PPL\\anaconda3\\envs\\pytorch\\Lib\\site-packages\\sklearn\\gaussian_process\\kernels.py:455: ConvergenceWarning: The optimal value found for dimension 0 of parameter k1__constant_value is close to the specified upper bound 100000.0. Increasing the bound and calling fit again may find a better value.\n",
      "  warnings.warn(\n"
     ]
    },
    {
     "name": "stdout",
     "output_type": "stream",
     "text": [
      "FCM training RMSE: 15.855706421520086\n"
     ]
    },
    {
     "name": "stderr",
     "output_type": "stream",
     "text": [
      "e:\\Users\\PPL\\anaconda3\\envs\\pytorch\\Lib\\site-packages\\sklearn\\gaussian_process\\kernels.py:455: ConvergenceWarning: The optimal value found for dimension 0 of parameter k1__constant_value is close to the specified upper bound 100000.0. Increasing the bound and calling fit again may find a better value.\n",
      "  warnings.warn(\n"
     ]
    },
    {
     "name": "stdout",
     "output_type": "stream",
     "text": [
      "GP Train RMSE: 36.159 ± 4.089\n",
      "GP Test RMSE: 36.979 ± 4.244\n",
      "GP R2: 0.908 ± 0.022\n",
      "GP Time: 0.131 ± 0.047\n"
     ]
    }
   ],
   "source": [
    "# GPR with TSL\n",
    "gp_tsl_train_accuracy = []\n",
    "gp_tsl_test_accuracy = []\n",
    "gp_tsl_r2s = []\n",
    "gp_tsl_time = []\n",
    "gpr_tsl_model = None\n",
    "\n",
    "# From ts linear\n",
    "for fold in range(number_of_folds):\n",
    "    \n",
    "    kernel = 1.0 * Matern(length_scale=1.0, nu=1.5)\n",
    "    gpr_tsl_model = GaussianProcessRegressor(kernel=kernel, n_restarts_optimizer=9, normalize_y=False)\n",
    "\n",
    "    tsl_model = get_tsl_model(x_train, y_train)\n",
    "    start_time = time.time()\n",
    "    gpr_tsl_model.fit(tsl_model.cen, ts_relu_wrapper(tsl_model.predict(tsl_model.cen + 1e-8)))\n",
    "    time_used = time.time() - start_time\n",
    "\n",
    "    train_means = gpr_tsl_model.predict(x_train)\n",
    "    test_means = gpr_tsl_model.predict(x_test)\n",
    "\n",
    "    train_rmse = root_mean_squared_error(y_train, train_means)\n",
    "    test_rmse = root_mean_squared_error(y_test, test_means)\n",
    "\n",
    "    gp_tsl_train_accuracy.append(train_rmse)\n",
    "    gp_tsl_test_accuracy.append(test_rmse)\n",
    "    gp_r2 = r2_score(y_test, test_means)\n",
    "    gp_tsl_r2s.append(gp_r2)\n",
    "    gp_tsl_time.append(time_used)\n",
    "\n",
    "gp_train_accuracy_mean = np.round(np.mean(gp_tsl_train_accuracy), 3)\n",
    "gp_train_accuracy_std = np.round(np.std(gp_tsl_train_accuracy), 3)\n",
    "gp_test_accuracy_mean = np.round(np.mean(gp_tsl_test_accuracy), 3)\n",
    "gp_test_accuracy_std = np.round(np.std(gp_tsl_test_accuracy),3)\n",
    "gp_r2_mean = np.round(np.mean(gp_tsl_r2s),3)\n",
    "gp_r2_std = np.round(np.std(gp_tsl_r2s),3)\n",
    "gp_time_mean = np.round(np.mean(gp_tsl_time),3)\n",
    "gp_time_std = np.round(np.std(gp_tsl_time),3)\n",
    "\n",
    "print(f\"GP Train RMSE: {gp_train_accuracy_mean} ± {gp_train_accuracy_std}\")\n",
    "print(f\"GP Test RMSE: {gp_test_accuracy_mean} ± {gp_test_accuracy_std}\")\n",
    "print(f\"GP R2: {gp_r2_mean} ± {gp_r2_std}\")\n",
    "print(f\"GP Time: {gp_time_mean} ± {gp_time_std}\")\n"
   ]
  },
  {
   "cell_type": "code",
   "execution_count": 12,
   "id": "960ae86d",
   "metadata": {},
   "outputs": [
    {
     "name": "stdout",
     "output_type": "stream",
     "text": [
      "(156830, 250)\n",
      "[[1.79589173e-05 0.00000000e+00 0.00000000e+00 ... 0.00000000e+00\n",
      "  0.00000000e+00 0.00000000e+00]\n",
      " [7.98579749e-05 0.00000000e+00 0.00000000e+00 ... 0.00000000e+00\n",
      "  0.00000000e+00 0.00000000e+00]\n",
      " [2.41331020e-07 0.00000000e+00 0.00000000e+00 ... 0.00000000e+00\n",
      "  0.00000000e+00 0.00000000e+00]\n",
      " ...\n",
      " [1.14223042e-06 0.00000000e+00 0.00000000e+00 ... 0.00000000e+00\n",
      "  0.00000000e+00 0.00000000e+00]\n",
      " [4.39778495e-08 0.00000000e+00 0.00000000e+00 ... 0.00000000e+00\n",
      "  0.00000000e+00 0.00000000e+00]\n",
      " [8.45607749e-09 0.00000000e+00 0.00000000e+00 ... 0.00000000e+00\n",
      "  0.00000000e+00 0.00000000e+00]]\n",
      "(156830, 25)\n",
      "[[1.79589173e-05 3.73822372e-02 1.12486129e-05 ... 2.48320683e-03\n",
      "  1.74317215e-05 1.40697628e-02]\n",
      " [7.98579749e-05 1.12721194e-09 2.05054346e-07 ... 1.03274156e-09\n",
      "  9.99812744e-01 3.72236477e-10]\n",
      " [2.41331020e-07 1.16968190e-04 1.50204481e-06 ... 1.82371701e-04\n",
      "  3.27427688e-07 1.28213810e-03]\n",
      " ...\n",
      " [1.14223042e-06 8.45791302e-08 9.69195289e-01 ... 1.49176774e-06\n",
      "  1.18107970e-05 2.72389192e-07]\n",
      " [4.39778495e-08 1.99534851e-09 9.06772509e-07 ... 6.53968640e-08\n",
      "  3.43408167e-06 3.15047945e-09]\n",
      " [8.45607749e-09 2.53994429e-10 1.50395192e-07 ... 8.67413526e-09\n",
      "  2.94134856e-07 5.41995104e-10]]\n",
      "FCM training RMSE: 61.39670342810568\n"
     ]
    },
    {
     "name": "stderr",
     "output_type": "stream",
     "text": [
      "e:\\Users\\PPL\\anaconda3\\envs\\pytorch\\Lib\\site-packages\\sklearn\\gaussian_process\\kernels.py:455: ConvergenceWarning: The optimal value found for dimension 0 of parameter k1__constant_value is close to the specified upper bound 100000.0. Increasing the bound and calling fit again may find a better value.\n",
      "  warnings.warn(\n"
     ]
    },
    {
     "name": "stdout",
     "output_type": "stream",
     "text": [
      "(156830, 250)\n",
      "[[4.27889607e-01 0.00000000e+00 0.00000000e+00 ... 0.00000000e+00\n",
      "  0.00000000e+00 0.00000000e+00]\n",
      " [5.66803205e-12 0.00000000e+00 0.00000000e+00 ... 0.00000000e+00\n",
      "  0.00000000e+00 0.00000000e+00]\n",
      " [4.77269285e-03 0.00000000e+00 0.00000000e+00 ... 0.00000000e+00\n",
      "  0.00000000e+00 0.00000000e+00]\n",
      " ...\n",
      " [6.34264268e-09 0.00000000e+00 0.00000000e+00 ... 0.00000000e+00\n",
      "  0.00000000e+00 0.00000000e+00]\n",
      " [2.65707070e-09 0.00000000e+00 0.00000000e+00 ... 0.00000000e+00\n",
      "  0.00000000e+00 0.00000000e+00]\n",
      " [3.66655965e-13 0.00000000e+00 0.00000000e+00 ... 0.00000000e+00\n",
      "  0.00000000e+00 0.00000000e+00]]\n",
      "(156830, 25)\n",
      "[[4.27889607e-01 4.53526534e-02 2.47611797e-03 ... 9.23870967e-06\n",
      "  1.56926438e-05 3.27752390e-02]\n",
      " [5.66803205e-12 2.27339885e-12 1.59806783e-10 ... 9.39876212e-07\n",
      "  3.46943538e-05 4.54692707e-10]\n",
      " [4.77269285e-03 8.71779025e-01 5.76103343e-04 ... 6.08115148e-07\n",
      "  3.85582586e-07 2.13752361e-04]\n",
      " ...\n",
      " [6.34264268e-09 8.74793342e-09 7.20260565e-07 ... 2.21169212e-05\n",
      "  7.77012384e-07 7.20696387e-08]\n",
      " [2.65707070e-09 2.47009208e-09 6.09640602e-07 ... 1.87015482e-04\n",
      "  7.97712073e-07 3.00539103e-08]\n",
      " [3.66655965e-13 3.82534317e-13 8.92803315e-11 ... 5.71190707e-09\n",
      "  2.24198623e-10 5.27526610e-12]]\n",
      "FCM training RMSE: 59.896872692230716\n"
     ]
    },
    {
     "name": "stderr",
     "output_type": "stream",
     "text": [
      "e:\\Users\\PPL\\anaconda3\\envs\\pytorch\\Lib\\site-packages\\sklearn\\gaussian_process\\kernels.py:455: ConvergenceWarning: The optimal value found for dimension 0 of parameter k1__constant_value is close to the specified upper bound 100000.0. Increasing the bound and calling fit again may find a better value.\n",
      "  warnings.warn(\n"
     ]
    },
    {
     "name": "stdout",
     "output_type": "stream",
     "text": [
      "(156830, 250)\n",
      "[[4.47693388e-06 0.00000000e+00 0.00000000e+00 ... 0.00000000e+00\n",
      "  0.00000000e+00 0.00000000e+00]\n",
      " [3.54183132e-08 0.00000000e+00 0.00000000e+00 ... 0.00000000e+00\n",
      "  0.00000000e+00 0.00000000e+00]\n",
      " [1.83846856e-07 0.00000000e+00 0.00000000e+00 ... 0.00000000e+00\n",
      "  0.00000000e+00 0.00000000e+00]\n",
      " ...\n",
      " [1.40345690e-05 0.00000000e+00 0.00000000e+00 ... 0.00000000e+00\n",
      "  0.00000000e+00 0.00000000e+00]\n",
      " [9.89832081e-01 0.00000000e+00 0.00000000e+00 ... 0.00000000e+00\n",
      "  0.00000000e+00 0.00000000e+00]\n",
      " [9.99998800e-01 0.00000000e+00 0.00000000e+00 ... 0.00000000e+00\n",
      "  0.00000000e+00 0.00000000e+00]]\n",
      "(156830, 25)\n",
      "[[4.47693388e-06 1.07001200e-03 1.23163686e-03 ... 8.11561448e-02\n",
      "  6.01408202e-06 6.45305091e-07]\n",
      " [3.54183132e-08 4.16241517e-10 1.00030251e-10 ... 3.18962308e-12\n",
      "  3.98068813e-07 6.86594486e-11]\n",
      " [1.83846856e-07 1.57139729e-04 4.39941806e-02 ... 1.78218064e-03\n",
      "  4.97951173e-07 1.71293072e-07]\n",
      " ...\n",
      " [1.40345690e-05 1.29418104e-06 1.07908393e-06 ... 4.26792591e-09\n",
      "  5.91121424e-04 3.85204070e-06]\n",
      " [9.89832081e-01 9.67481102e-07 8.06426853e-08 ... 1.72344190e-09\n",
      "  7.64186156e-04 4.48202560e-07]\n",
      " [9.99998800e-01 1.77750153e-10 1.28014550e-11 ... 2.35420601e-13\n",
      "  6.72398754e-07 2.19380469e-11]]\n",
      "FCM training RMSE: 59.50733250370747\n"
     ]
    },
    {
     "name": "stderr",
     "output_type": "stream",
     "text": [
      "e:\\Users\\PPL\\anaconda3\\envs\\pytorch\\Lib\\site-packages\\sklearn\\gaussian_process\\kernels.py:455: ConvergenceWarning: The optimal value found for dimension 0 of parameter k1__constant_value is close to the specified upper bound 100000.0. Increasing the bound and calling fit again may find a better value.\n",
      "  warnings.warn(\n"
     ]
    },
    {
     "name": "stdout",
     "output_type": "stream",
     "text": [
      "(156830, 250)\n",
      "[[3.56750060e-09 0.00000000e+00 0.00000000e+00 ... 0.00000000e+00\n",
      "  0.00000000e+00 0.00000000e+00]\n",
      " [5.21506693e-15 0.00000000e+00 0.00000000e+00 ... 0.00000000e+00\n",
      "  0.00000000e+00 0.00000000e+00]\n",
      " [5.54998122e-10 0.00000000e+00 0.00000000e+00 ... 0.00000000e+00\n",
      "  0.00000000e+00 0.00000000e+00]\n",
      " ...\n",
      " [9.55631630e-12 0.00000000e+00 0.00000000e+00 ... 0.00000000e+00\n",
      "  0.00000000e+00 0.00000000e+00]\n",
      " [7.69606711e-13 0.00000000e+00 0.00000000e+00 ... 0.00000000e+00\n",
      "  0.00000000e+00 0.00000000e+00]\n",
      " [2.36017526e-14 0.00000000e+00 0.00000000e+00 ... 0.00000000e+00\n",
      "  0.00000000e+00 0.00000000e+00]]\n",
      "(156830, 25)\n",
      "[[3.56750060e-09 6.34926590e-06 7.94297913e-06 ... 5.42002955e-06\n",
      "  8.32467839e-07 1.00430520e-05]\n",
      " [5.21506693e-15 8.24774001e-08 2.87294282e-05 ... 2.53274629e-08\n",
      "  6.35223132e-11 9.99933075e-01]\n",
      " [5.54998122e-10 7.33554598e-06 3.36029937e-06 ... 1.33404846e-06\n",
      "  1.00652354e-06 1.52328816e-06]\n",
      " ...\n",
      " [9.55631630e-12 9.78962167e-01 6.52919418e-05 ... 4.01062528e-05\n",
      "  3.98063544e-06 8.56455034e-06]\n",
      " [7.69606711e-13 1.11874077e-06 2.86950884e-07 ... 9.99639886e-01\n",
      "  3.10862907e-08 3.96213108e-06]\n",
      " [2.36017526e-14 5.51021156e-08 6.75093088e-09 ... 9.99962966e-01\n",
      "  3.27707879e-10 1.09241087e-07]]\n",
      "FCM training RMSE: 49.03274821182004\n"
     ]
    },
    {
     "name": "stderr",
     "output_type": "stream",
     "text": [
      "e:\\Users\\PPL\\anaconda3\\envs\\pytorch\\Lib\\site-packages\\sklearn\\gaussian_process\\kernels.py:455: ConvergenceWarning: The optimal value found for dimension 0 of parameter k1__constant_value is close to the specified upper bound 100000.0. Increasing the bound and calling fit again may find a better value.\n",
      "  warnings.warn(\n"
     ]
    },
    {
     "name": "stdout",
     "output_type": "stream",
     "text": [
      "(156830, 250)\n",
      "[[6.97536808e-06 0.00000000e+00 0.00000000e+00 ... 0.00000000e+00\n",
      "  0.00000000e+00 0.00000000e+00]\n",
      " [9.22925323e-07 0.00000000e+00 0.00000000e+00 ... 0.00000000e+00\n",
      "  0.00000000e+00 0.00000000e+00]\n",
      " [5.62270983e-07 0.00000000e+00 0.00000000e+00 ... 0.00000000e+00\n",
      "  0.00000000e+00 0.00000000e+00]\n",
      " ...\n",
      " [2.45235729e-05 0.00000000e+00 0.00000000e+00 ... 0.00000000e+00\n",
      "  0.00000000e+00 0.00000000e+00]\n",
      " [1.22451828e-05 0.00000000e+00 0.00000000e+00 ... 0.00000000e+00\n",
      "  0.00000000e+00 0.00000000e+00]\n",
      " [8.52647883e-08 0.00000000e+00 0.00000000e+00 ... 0.00000000e+00\n",
      "  0.00000000e+00 0.00000000e+00]]\n",
      "(156830, 25)\n",
      "[[6.97536808e-06 8.28910010e-03 7.63075621e-02 ... 4.79683513e-02\n",
      "  8.24034598e-01 3.98891632e-03]\n",
      " [9.22925323e-07 6.64130883e-10 2.52615709e-11 ... 2.32480014e-12\n",
      "  1.04184657e-11 2.54605648e-10]\n",
      " [5.62270983e-07 8.07328474e-05 1.24397660e-02 ... 9.05266005e-01\n",
      "  2.63131173e-03 1.26640981e-03]\n",
      " ...\n",
      " [2.45235729e-05 1.53486827e-07 7.37397989e-08 ... 8.91950985e-09\n",
      "  1.00157139e-08 2.20942360e-07]\n",
      " [1.22451828e-05 1.79015961e-08 2.92547568e-09 ... 1.72357915e-10\n",
      "  3.68378796e-10 3.34986068e-09]\n",
      " [8.52647883e-08 4.73781969e-10 1.09720368e-10 ... 5.98867769e-12\n",
      "  1.11964399e-11 9.09159358e-11]]\n",
      "FCM training RMSE: 61.78610468150841\n"
     ]
    },
    {
     "name": "stderr",
     "output_type": "stream",
     "text": [
      "e:\\Users\\PPL\\anaconda3\\envs\\pytorch\\Lib\\site-packages\\sklearn\\gaussian_process\\kernels.py:455: ConvergenceWarning: The optimal value found for dimension 0 of parameter k1__constant_value is close to the specified upper bound 100000.0. Increasing the bound and calling fit again may find a better value.\n",
      "  warnings.warn(\n"
     ]
    },
    {
     "name": "stdout",
     "output_type": "stream",
     "text": [
      "(156830, 250)\n",
      "[[2.41351511e-04 0.00000000e+00 0.00000000e+00 ... 0.00000000e+00\n",
      "  0.00000000e+00 0.00000000e+00]\n",
      " [2.10084398e-08 0.00000000e+00 0.00000000e+00 ... 0.00000000e+00\n",
      "  0.00000000e+00 0.00000000e+00]\n",
      " [4.42870855e-05 0.00000000e+00 0.00000000e+00 ... 0.00000000e+00\n",
      "  0.00000000e+00 0.00000000e+00]\n",
      " ...\n",
      " [4.57667474e-05 0.00000000e+00 0.00000000e+00 ... 0.00000000e+00\n",
      "  0.00000000e+00 0.00000000e+00]\n",
      " [1.84986899e-05 0.00000000e+00 0.00000000e+00 ... 0.00000000e+00\n",
      "  0.00000000e+00 0.00000000e+00]\n",
      " [4.80026681e-09 0.00000000e+00 0.00000000e+00 ... 0.00000000e+00\n",
      "  0.00000000e+00 0.00000000e+00]]\n",
      "(156830, 25)\n",
      "[[2.41351511e-04 1.39060311e-06 1.14676083e-05 ... 1.65637273e-05\n",
      "  1.31904192e-05 1.31242017e-05]\n",
      " [2.10084398e-08 1.36620722e-10 4.16458908e-06 ... 9.99857885e-01\n",
      "  8.25997389e-07 5.45763510e-05]\n",
      " [4.42870855e-05 6.11445651e-07 4.71363815e-07 ... 9.63091057e-07\n",
      "  1.79093901e-06 2.03967739e-06]\n",
      " ...\n",
      " [4.57667474e-05 3.75060726e-06 2.34376723e-06 ... 9.34896296e-06\n",
      "  5.78694229e-04 6.23305926e-05]\n",
      " [1.84986899e-05 2.96212916e-07 1.52940551e-03 ... 3.77120695e-05\n",
      "  5.41405243e-04 2.62822935e-06]\n",
      " [4.80026681e-09 1.53858316e-11 5.24516422e-08 ... 4.81534704e-09\n",
      "  5.14681078e-07 3.04200264e-10]]\n",
      "FCM training RMSE: 62.11711081608614\n"
     ]
    },
    {
     "name": "stderr",
     "output_type": "stream",
     "text": [
      "e:\\Users\\PPL\\anaconda3\\envs\\pytorch\\Lib\\site-packages\\sklearn\\gaussian_process\\kernels.py:455: ConvergenceWarning: The optimal value found for dimension 0 of parameter k1__constant_value is close to the specified upper bound 100000.0. Increasing the bound and calling fit again may find a better value.\n",
      "  warnings.warn(\n"
     ]
    },
    {
     "name": "stdout",
     "output_type": "stream",
     "text": [
      "(156830, 250)\n",
      "[[1.53586119e-04 0.00000000e+00 0.00000000e+00 ... 0.00000000e+00\n",
      "  0.00000000e+00 0.00000000e+00]\n",
      " [2.20198007e-08 0.00000000e+00 0.00000000e+00 ... 0.00000000e+00\n",
      "  0.00000000e+00 0.00000000e+00]\n",
      " [9.74365368e-05 0.00000000e+00 0.00000000e+00 ... 0.00000000e+00\n",
      "  0.00000000e+00 0.00000000e+00]\n",
      " ...\n",
      " [1.13081608e-06 0.00000000e+00 0.00000000e+00 ... 0.00000000e+00\n",
      "  0.00000000e+00 0.00000000e+00]\n",
      " [2.89085249e-05 0.00000000e+00 0.00000000e+00 ... 0.00000000e+00\n",
      "  0.00000000e+00 0.00000000e+00]\n",
      " [2.23581221e-09 0.00000000e+00 0.00000000e+00 ... 0.00000000e+00\n",
      "  0.00000000e+00 0.00000000e+00]]\n",
      "(156830, 25)\n",
      "[[1.53586119e-04 8.03232619e-06 7.74842906e-06 ... 3.23281197e-03\n",
      "  4.64016089e-06 5.92051130e-06]\n",
      " [2.20198007e-08 5.59739756e-05 6.79816511e-07 ... 5.83864656e-10\n",
      "  3.07682326e-08 1.41336815e-06]\n",
      " [9.74365368e-05 4.41108114e-06 3.58662063e-06 ... 4.95115935e-03\n",
      "  3.33619839e-06 2.46893208e-06]\n",
      " ...\n",
      " [1.13081608e-06 1.63508519e-06 1.37542323e-05 ... 6.00035723e-09\n",
      "  4.07202816e-05 8.70741564e-07]\n",
      " [2.89085249e-05 4.33813867e-06 2.25338202e-03 ... 5.44392193e-08\n",
      "  3.15282914e-02 1.10228088e-04]\n",
      " [2.23581221e-09 1.49235103e-10 6.99289779e-07 ... 2.07850769e-12\n",
      "  3.66844851e-07 1.18360936e-09]]\n",
      "FCM training RMSE: 49.058154982418124\n"
     ]
    },
    {
     "name": "stderr",
     "output_type": "stream",
     "text": [
      "e:\\Users\\PPL\\anaconda3\\envs\\pytorch\\Lib\\site-packages\\sklearn\\gaussian_process\\kernels.py:455: ConvergenceWarning: The optimal value found for dimension 0 of parameter k1__constant_value is close to the specified upper bound 100000.0. Increasing the bound and calling fit again may find a better value.\n",
      "  warnings.warn(\n"
     ]
    },
    {
     "name": "stdout",
     "output_type": "stream",
     "text": [
      "(156830, 250)\n",
      "[[6.16706993e-09 0.00000000e+00 0.00000000e+00 ... 0.00000000e+00\n",
      "  0.00000000e+00 0.00000000e+00]\n",
      " [1.11375667e-14 0.00000000e+00 0.00000000e+00 ... 0.00000000e+00\n",
      "  0.00000000e+00 0.00000000e+00]\n",
      " [1.08499470e-10 0.00000000e+00 0.00000000e+00 ... 0.00000000e+00\n",
      "  0.00000000e+00 0.00000000e+00]\n",
      " ...\n",
      " [8.93248121e-12 0.00000000e+00 0.00000000e+00 ... 0.00000000e+00\n",
      "  0.00000000e+00 0.00000000e+00]\n",
      " [7.29172043e-12 0.00000000e+00 0.00000000e+00 ... 0.00000000e+00\n",
      "  0.00000000e+00 0.00000000e+00]\n",
      " [1.09540384e-15 0.00000000e+00 0.00000000e+00 ... 0.00000000e+00\n",
      "  0.00000000e+00 0.00000000e+00]]\n",
      "(156830, 25)\n",
      "[[6.16706993e-09 2.76429967e-03 8.18502034e-02 ... 2.51835782e-03\n",
      "  1.00863449e-05 1.58448223e-05]\n",
      " [1.11375667e-14 2.06626400e-10 6.84805159e-11 ... 8.30927510e-10\n",
      "  1.37115606e-06 1.00370823e-05]\n",
      " [1.08499470e-10 5.01267499e-02 3.62959992e-03 ... 1.84763252e-04\n",
      "  3.68244358e-07 9.69072466e-08]\n",
      " ...\n",
      " [8.93248121e-12 1.12419625e-06 8.93571294e-08 ... 1.27442153e-06\n",
      "  3.19857537e-05 3.81800098e-07]\n",
      " [7.29172043e-12 5.56338506e-08 3.94978168e-08 ... 6.49326905e-07\n",
      "  6.81367078e-05 2.44503786e-05]\n",
      " [1.09540384e-15 9.29226046e-12 7.08962434e-12 ... 1.25531390e-10\n",
      "  2.44099944e-09 8.76578823e-09]]\n",
      "FCM training RMSE: 61.330618813940305\n"
     ]
    },
    {
     "name": "stderr",
     "output_type": "stream",
     "text": [
      "e:\\Users\\PPL\\anaconda3\\envs\\pytorch\\Lib\\site-packages\\sklearn\\gaussian_process\\kernels.py:455: ConvergenceWarning: The optimal value found for dimension 0 of parameter k1__constant_value is close to the specified upper bound 100000.0. Increasing the bound and calling fit again may find a better value.\n",
      "  warnings.warn(\n"
     ]
    },
    {
     "name": "stdout",
     "output_type": "stream",
     "text": [
      "(156830, 250)\n",
      "[[2.23093828e-04 0.00000000e+00 0.00000000e+00 ... 0.00000000e+00\n",
      "  0.00000000e+00 0.00000000e+00]\n",
      " [1.22529153e-06 0.00000000e+00 0.00000000e+00 ... 0.00000000e+00\n",
      "  0.00000000e+00 0.00000000e+00]\n",
      " [1.00836638e-05 0.00000000e+00 0.00000000e+00 ... 0.00000000e+00\n",
      "  0.00000000e+00 0.00000000e+00]\n",
      " ...\n",
      " [2.59954148e-06 0.00000000e+00 0.00000000e+00 ... 0.00000000e+00\n",
      "  0.00000000e+00 0.00000000e+00]\n",
      " [6.84508791e-07 0.00000000e+00 0.00000000e+00 ... 0.00000000e+00\n",
      "  0.00000000e+00 0.00000000e+00]\n",
      " [2.01232470e-08 0.00000000e+00 0.00000000e+00 ... 0.00000000e+00\n",
      "  0.00000000e+00 0.00000000e+00]]\n",
      "(156830, 25)\n",
      "[[2.23093828e-04 4.49472223e-03 1.20559486e-05 ... 1.24262365e-05\n",
      "  1.21287189e-05 6.85419067e-06]\n",
      " [1.22529153e-06 2.77981935e-09 1.63865273e-02 ... 9.83285899e-01\n",
      "  2.22317322e-04 2.81164763e-07]\n",
      " [1.00836638e-05 2.08580597e-03 1.39718324e-06 ... 7.83604189e-07\n",
      "  4.83183977e-07 7.22491092e-07]\n",
      " ...\n",
      " [2.59954148e-06 2.31475838e-07 1.76870499e-05 ... 8.55628373e-06\n",
      "  6.73145872e-07 4.32961267e-05]\n",
      " [6.84508791e-07 3.21086584e-09 1.83237656e-07 ... 5.61164583e-06\n",
      "  5.36876221e-08 9.99656846e-01]\n",
      " [2.01232470e-08 1.30810535e-10 9.72723824e-09 ... 2.16092616e-07\n",
      "  5.25916385e-09 9.99914847e-01]]\n",
      "FCM training RMSE: 67.44636043065067\n"
     ]
    },
    {
     "name": "stderr",
     "output_type": "stream",
     "text": [
      "e:\\Users\\PPL\\anaconda3\\envs\\pytorch\\Lib\\site-packages\\sklearn\\gaussian_process\\kernels.py:455: ConvergenceWarning: The optimal value found for dimension 0 of parameter k1__constant_value is close to the specified upper bound 100000.0. Increasing the bound and calling fit again may find a better value.\n",
      "  warnings.warn(\n"
     ]
    },
    {
     "name": "stdout",
     "output_type": "stream",
     "text": [
      "(156830, 250)\n",
      "[[1.22332961e-05 0.00000000e+00 0.00000000e+00 ... 0.00000000e+00\n",
      "  0.00000000e+00 0.00000000e+00]\n",
      " [8.55300436e-05 0.00000000e+00 0.00000000e+00 ... 0.00000000e+00\n",
      "  0.00000000e+00 0.00000000e+00]\n",
      " [6.51521526e-07 0.00000000e+00 0.00000000e+00 ... 0.00000000e+00\n",
      "  0.00000000e+00 0.00000000e+00]\n",
      " ...\n",
      " [2.53274719e-05 0.00000000e+00 0.00000000e+00 ... 0.00000000e+00\n",
      "  0.00000000e+00 0.00000000e+00]\n",
      " [2.32864951e-05 0.00000000e+00 0.00000000e+00 ... 0.00000000e+00\n",
      "  0.00000000e+00 0.00000000e+00]\n",
      " [6.36934868e-09 0.00000000e+00 0.00000000e+00 ... 0.00000000e+00\n",
      "  0.00000000e+00 0.00000000e+00]]\n",
      "(156830, 25)\n",
      "[[1.22332961e-05 8.95622068e-06 1.05623981e-05 ... 3.96968245e-04\n",
      "  2.55279762e-04 1.70312043e-05]\n",
      " [8.55300436e-05 4.12390611e-07 6.31649458e-07 ... 2.59499931e-06\n",
      "  1.52074441e-07 2.65169285e-02]\n",
      " [6.51521526e-07 5.35674097e-07 2.10133458e-07 ... 4.57518450e-06\n",
      "  1.45546990e-05 5.17349706e-07]\n",
      " ...\n",
      " [2.53274719e-05 5.47319849e-04 3.27672211e-06 ... 6.39784377e-07\n",
      "  1.21967662e-05 4.19817038e-06]\n",
      " [2.32864951e-05 1.03842500e-01 8.89172387e-01 ... 1.91597442e-05\n",
      "  8.71988952e-05 9.23553980e-06]\n",
      " [6.36934868e-09 2.43381479e-05 9.99971415e-01 ... 6.79117973e-09\n",
      "  6.97999698e-08 4.84223989e-09]]\n",
      "FCM training RMSE: 61.33455352428634\n"
     ]
    },
    {
     "name": "stderr",
     "output_type": "stream",
     "text": [
      "e:\\Users\\PPL\\anaconda3\\envs\\pytorch\\Lib\\site-packages\\sklearn\\gaussian_process\\kernels.py:455: ConvergenceWarning: The optimal value found for dimension 0 of parameter k1__constant_value is close to the specified upper bound 100000.0. Increasing the bound and calling fit again may find a better value.\n",
      "  warnings.warn(\n"
     ]
    },
    {
     "name": "stdout",
     "output_type": "stream",
     "text": [
      "GP Train RMSE: 37.757 ± 2.359\n",
      "GP Test RMSE: 38.665 ± 2.529\n",
      "GP R2: 0.9 ± 0.013\n",
      "GP Time: 0.18 ± 0.02\n"
     ]
    }
   ],
   "source": [
    "# GPR with tsc\n",
    "gp_tsc_train_accuracy = []\n",
    "gp_tsc_test_accuracy = []\n",
    "gp_tsc_r2s = []\n",
    "gp_tsc_time = []\n",
    "gpr_tsc_model = None\n",
    "\n",
    "# From ts constant\n",
    "for fold in range(number_of_folds):\n",
    "    \n",
    "    kernel = 1.0 * Matern(length_scale=1.0, nu=1.5)\n",
    "    gpr_tsc_model = GaussianProcessRegressor(kernel=kernel, n_restarts_optimizer=9, normalize_y=False)\n",
    "    tsc_model = get_tsc_model(x_train, y_train)\n",
    "    start_time = time.time()\n",
    "    gpr_tsc_model.fit(tsc_model.cen, ts_relu_wrapper(tsc_model.predict(tsc_model.cen + 1e-8)))\n",
    "    time_used = time.time() - start_time\n",
    "\n",
    "    train_means = gpr_tsc_model.predict(x_train)\n",
    "    test_means = gpr_tsc_model.predict(x_test)\n",
    "\n",
    "    train_rmse = root_mean_squared_error(y_train, train_means)\n",
    "    test_rmse = root_mean_squared_error(y_test, test_means)\n",
    "\n",
    "    gp_tsc_train_accuracy.append(train_rmse)\n",
    "    gp_tsc_test_accuracy.append(test_rmse)\n",
    "    gp_r2 = r2_score(y_test, test_means)\n",
    "    gp_tsc_r2s.append(gp_r2)\n",
    "    gp_tsc_time.append(time_used)\n",
    "\n",
    "gp_train_accuracy_mean = np.round(np.mean(gp_tsc_train_accuracy), 3)\n",
    "gp_train_accuracy_std = np.round(np.std(gp_tsc_train_accuracy), 3)\n",
    "gp_test_accuracy_mean = np.round(np.mean(gp_tsc_test_accuracy), 3)\n",
    "gp_test_accuracy_std = np.round(np.std(gp_tsc_test_accuracy),3)\n",
    "gp_r2_mean = np.round(np.mean(gp_tsc_r2s),3)\n",
    "gp_r2_std = np.round(np.std(gp_tsc_r2s),3)\n",
    "gp_time_mean = np.round(np.mean(gp_tsc_time),3)\n",
    "gp_time_std = np.round(np.std(gp_tsc_time),3)\n",
    "\n",
    "print(f\"GP Train RMSE: {gp_train_accuracy_mean} ± {gp_train_accuracy_std}\")\n",
    "print(f\"GP Test RMSE: {gp_test_accuracy_mean} ± {gp_test_accuracy_std}\")\n",
    "print(f\"GP R2: {gp_r2_mean} ± {gp_r2_std}\")\n",
    "print(f\"GP Time: {gp_time_mean} ± {gp_time_std}\")\n"
   ]
  },
  {
   "cell_type": "code",
   "execution_count": 15,
   "id": "0d1d833f",
   "metadata": {},
   "outputs": [
    {
     "name": "stdout",
     "output_type": "stream",
     "text": [
      "FCM training RMSE: 15.919071599764736\n",
      "\u001b[1m1/1\u001b[0m \u001b[32m━━━━━━━━━━━━━━━━━━━━\u001b[0m\u001b[37m\u001b[0m \u001b[1m0s\u001b[0m 1ms/step\n"
     ]
    },
    {
     "name": "stderr",
     "output_type": "stream",
     "text": [
      "e:\\Users\\PPL\\anaconda3\\envs\\pytorch\\Lib\\site-packages\\sklearn\\gaussian_process\\kernels.py:455: ConvergenceWarning: The optimal value found for dimension 0 of parameter k1__constant_value is close to the specified upper bound 100000.0. Increasing the bound and calling fit again may find a better value.\n",
      "  warnings.warn(\n"
     ]
    },
    {
     "name": "stdout",
     "output_type": "stream",
     "text": [
      "FCM training RMSE: 15.918554580830921\n",
      "\u001b[1m1/1\u001b[0m \u001b[32m━━━━━━━━━━━━━━━━━━━━\u001b[0m\u001b[37m\u001b[0m \u001b[1m0s\u001b[0m 0s/step\n"
     ]
    },
    {
     "name": "stderr",
     "output_type": "stream",
     "text": [
      "e:\\Users\\PPL\\anaconda3\\envs\\pytorch\\Lib\\site-packages\\sklearn\\gaussian_process\\kernels.py:455: ConvergenceWarning: The optimal value found for dimension 0 of parameter k1__constant_value is close to the specified upper bound 100000.0. Increasing the bound and calling fit again may find a better value.\n",
      "  warnings.warn(\n"
     ]
    },
    {
     "name": "stdout",
     "output_type": "stream",
     "text": [
      "FCM training RMSE: 16.065626610082866\n",
      "\u001b[1m1/1\u001b[0m \u001b[32m━━━━━━━━━━━━━━━━━━━━\u001b[0m\u001b[37m\u001b[0m \u001b[1m0s\u001b[0m 8ms/step\n"
     ]
    },
    {
     "name": "stderr",
     "output_type": "stream",
     "text": [
      "e:\\Users\\PPL\\anaconda3\\envs\\pytorch\\Lib\\site-packages\\sklearn\\gaussian_process\\kernels.py:455: ConvergenceWarning: The optimal value found for dimension 0 of parameter k1__constant_value is close to the specified upper bound 100000.0. Increasing the bound and calling fit again may find a better value.\n",
      "  warnings.warn(\n"
     ]
    },
    {
     "name": "stdout",
     "output_type": "stream",
     "text": [
      "FCM training RMSE: 15.935448400851232\n",
      "\u001b[1m1/1\u001b[0m \u001b[32m━━━━━━━━━━━━━━━━━━━━\u001b[0m\u001b[37m\u001b[0m \u001b[1m0s\u001b[0m 0s/step\n"
     ]
    },
    {
     "name": "stderr",
     "output_type": "stream",
     "text": [
      "e:\\Users\\PPL\\anaconda3\\envs\\pytorch\\Lib\\site-packages\\sklearn\\gaussian_process\\kernels.py:455: ConvergenceWarning: The optimal value found for dimension 0 of parameter k1__constant_value is close to the specified upper bound 100000.0. Increasing the bound and calling fit again may find a better value.\n",
      "  warnings.warn(\n"
     ]
    },
    {
     "name": "stdout",
     "output_type": "stream",
     "text": [
      "FCM training RMSE: 18.13732224415607\n",
      "\u001b[1m1/1\u001b[0m \u001b[32m━━━━━━━━━━━━━━━━━━━━\u001b[0m\u001b[37m\u001b[0m \u001b[1m0s\u001b[0m 2ms/step\n"
     ]
    },
    {
     "name": "stderr",
     "output_type": "stream",
     "text": [
      "e:\\Users\\PPL\\anaconda3\\envs\\pytorch\\Lib\\site-packages\\sklearn\\gaussian_process\\kernels.py:455: ConvergenceWarning: The optimal value found for dimension 0 of parameter k1__constant_value is close to the specified upper bound 100000.0. Increasing the bound and calling fit again may find a better value.\n",
      "  warnings.warn(\n"
     ]
    },
    {
     "name": "stdout",
     "output_type": "stream",
     "text": [
      "FCM training RMSE: 15.964478392409239\n",
      "\u001b[1m1/1\u001b[0m \u001b[32m━━━━━━━━━━━━━━━━━━━━\u001b[0m\u001b[37m\u001b[0m \u001b[1m0s\u001b[0m 0s/step\n"
     ]
    },
    {
     "name": "stderr",
     "output_type": "stream",
     "text": [
      "e:\\Users\\PPL\\anaconda3\\envs\\pytorch\\Lib\\site-packages\\sklearn\\gaussian_process\\kernels.py:455: ConvergenceWarning: The optimal value found for dimension 0 of parameter k1__constant_value is close to the specified upper bound 100000.0. Increasing the bound and calling fit again may find a better value.\n",
      "  warnings.warn(\n"
     ]
    },
    {
     "name": "stdout",
     "output_type": "stream",
     "text": [
      "FCM training RMSE: 16.597526172865102\n",
      "\u001b[1m1/1\u001b[0m \u001b[32m━━━━━━━━━━━━━━━━━━━━\u001b[0m\u001b[37m\u001b[0m \u001b[1m0s\u001b[0m 0s/step\n"
     ]
    },
    {
     "name": "stderr",
     "output_type": "stream",
     "text": [
      "e:\\Users\\PPL\\anaconda3\\envs\\pytorch\\Lib\\site-packages\\sklearn\\gaussian_process\\kernels.py:455: ConvergenceWarning: The optimal value found for dimension 0 of parameter k1__constant_value is close to the specified upper bound 100000.0. Increasing the bound and calling fit again may find a better value.\n",
      "  warnings.warn(\n"
     ]
    },
    {
     "name": "stdout",
     "output_type": "stream",
     "text": [
      "FCM training RMSE: 16.04694323475332\n",
      "\u001b[1m1/1\u001b[0m \u001b[32m━━━━━━━━━━━━━━━━━━━━\u001b[0m\u001b[37m\u001b[0m \u001b[1m0s\u001b[0m 0s/step\n"
     ]
    },
    {
     "name": "stderr",
     "output_type": "stream",
     "text": [
      "e:\\Users\\PPL\\anaconda3\\envs\\pytorch\\Lib\\site-packages\\sklearn\\gaussian_process\\kernels.py:455: ConvergenceWarning: The optimal value found for dimension 0 of parameter k1__constant_value is close to the specified upper bound 100000.0. Increasing the bound and calling fit again may find a better value.\n",
      "  warnings.warn(\n"
     ]
    },
    {
     "name": "stdout",
     "output_type": "stream",
     "text": [
      "FCM training RMSE: 16.027818562166825\n",
      "\u001b[1m1/1\u001b[0m \u001b[32m━━━━━━━━━━━━━━━━━━━━\u001b[0m\u001b[37m\u001b[0m \u001b[1m0s\u001b[0m 8ms/step\n",
      "FCM training RMSE: 15.934658446652826\n",
      "\u001b[1m1/1\u001b[0m \u001b[32m━━━━━━━━━━━━━━━━━━━━\u001b[0m\u001b[37m\u001b[0m \u001b[1m0s\u001b[0m 0s/step\n",
      "GP Train RMSE: 37.573 ± 3.296\n",
      "GP Test RMSE: 38.528 ± 3.456\n",
      "GP R2: 0.901 ± 0.018\n",
      "GP Time: 0.074 ± 0.008\n",
      "TS NN R2: 0.998 ± 0.001\n"
     ]
    },
    {
     "name": "stderr",
     "output_type": "stream",
     "text": [
      "e:\\Users\\PPL\\anaconda3\\envs\\pytorch\\Lib\\site-packages\\sklearn\\gaussian_process\\kernels.py:455: ConvergenceWarning: The optimal value found for dimension 0 of parameter k1__constant_value is close to the specified upper bound 100000.0. Increasing the bound and calling fit again may find a better value.\n",
      "  warnings.warn(\n"
     ]
    }
   ],
   "source": [
    "# GPR with NN and FCM\n",
    "gp_nn_tsl_train_accuracy = []\n",
    "gp_nn_tsl_test_accuracy = []\n",
    "gp_nn_tsl_r2s = []\n",
    "nn_tsl_r2s = []\n",
    "gp_nn_tsl_time = []\n",
    "gpr_nn_tsl_model = None\n",
    "\n",
    "# From NN and ts linear\n",
    "for fold in range(number_of_folds):\n",
    "    \n",
    "    kernel = 1.0 * Matern(length_scale=1.0, nu=1.5)\n",
    "    gpr_nn_tsl_model = GaussianProcessRegressor(kernel=kernel, n_restarts_optimizer=9, normalize_y=False)\n",
    "    tsl_model = get_tsl_model(x_train, y_train)\n",
    "    nn_model\n",
    "\n",
    "    start_time = time.time()\n",
    "    inputs = tsl_model.cen\n",
    "    ts_predictions = ts_relu_wrapper(tsl_model.predict(tsl_model.cen + 1e-8))\n",
    "    nn_predictions = nn_model.predict(inputs)\n",
    "    gpr_nn_tsl_model.fit(inputs, nn_predictions)\n",
    "    time_used = time.time() - start_time\n",
    "\n",
    "    train_means = gpr_nn_tsl_model.predict(x_train)\n",
    "    test_means = gpr_nn_tsl_model.predict(x_test)\n",
    "\n",
    "    train_rmse = root_mean_squared_error(y_train, train_means)\n",
    "    test_rmse = root_mean_squared_error(y_test, test_means)\n",
    "\n",
    "    gp_nn_tsl_train_accuracy.append(train_rmse)\n",
    "    gp_nn_tsl_test_accuracy.append(test_rmse)\n",
    "    gp_r2 = r2_score(y_test, test_means)\n",
    "    gp_nn_tsl_r2s.append(gp_r2)\n",
    "    gp_nn_tsl_time.append(time_used)\n",
    "    nn_tsl_r2s.append(r2_score(ts_predictions, nn_predictions))\n",
    "\n",
    "gp_train_accuracy_mean = np.round(np.mean(gp_nn_tsl_train_accuracy), 3)\n",
    "gp_train_accuracy_std = np.round(np.std(gp_nn_tsl_train_accuracy), 3)\n",
    "gp_test_accuracy_mean = np.round(np.mean(gp_nn_tsl_test_accuracy), 3)\n",
    "gp_test_accuracy_std = np.round(np.std(gp_nn_tsl_test_accuracy),3)\n",
    "gp_r2_mean = np.round(np.mean(gp_nn_tsl_r2s),3)\n",
    "gp_r2_std = np.round(np.std(gp_nn_tsl_r2s),3)\n",
    "gp_time_mean = np.round(np.mean(gp_nn_tsl_time),3)\n",
    "gp_time_std = np.round(np.std(gp_nn_tsl_time),3)\n",
    "nn_ts_r2_mean = np.round(np.mean(nn_tsl_r2s),3)\n",
    "nn_ts_r2_std = np.round(np.std(nn_tsl_r2s),3)\n",
    "\n",
    "print(f\"GP Train RMSE: {gp_train_accuracy_mean} ± {gp_train_accuracy_std}\")\n",
    "print(f\"GP Test RMSE: {gp_test_accuracy_mean} ± {gp_test_accuracy_std}\")\n",
    "print(f\"GP R2: {gp_r2_mean} ± {gp_r2_std}\")\n",
    "print(f\"GP Time: {gp_time_mean} ± {gp_time_std}\")\n",
    "print(f\"TS NN R2: {nn_ts_r2_mean} ± {nn_ts_r2_std}\")\n"
   ]
  }
 ],
 "metadata": {
  "kernelspec": {
   "display_name": "Python 3 (ipykernel)",
   "language": "python",
   "name": "python3"
  },
  "language_info": {
   "codemirror_mode": {
    "name": "ipython",
    "version": 3
   },
   "file_extension": ".py",
   "mimetype": "text/x-python",
   "name": "python",
   "nbconvert_exporter": "python",
   "pygments_lexer": "ipython3",
   "version": "3.11.4"
  }
 },
 "nbformat": 4,
 "nbformat_minor": 5
}
