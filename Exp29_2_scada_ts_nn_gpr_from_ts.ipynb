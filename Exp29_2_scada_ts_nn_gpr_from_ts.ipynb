{
 "cells": [
  {
   "cell_type": "code",
   "execution_count": 1,
   "id": "e85e59f8",
   "metadata": {},
   "outputs": [
    {
     "name": "stdout",
     "output_type": "stream",
     "text": [
      "Keras version is 3.1.1\n",
      "Num GPUs Available: 1\n"
     ]
    }
   ],
   "source": [
    "# Get the data for expeirment\n",
    "import pandas as pd \n",
    "import numpy as np\n",
    "import time\n",
    "from sklearn.preprocessing import StandardScaler\n",
    "from sklearn.gaussian_process import GaussianProcessRegressor\n",
    "from sklearn.gaussian_process.kernels import Matern, RBF\n",
    "import seaborn as sns\n",
    "import TsModel\n",
    "import GprModel\n",
    "import TsModel_constant\n",
    "import torch\n",
    "from sklearn.metrics import r2_score, root_mean_squared_error\n",
    "import matplotlib.pyplot as plt\n",
    "import os\n",
    "os.environ[\"KERAS_BACKEND\"] = \"torch\"\n",
    "import keras\n",
    "from keras import layers, models\n",
    "\n",
    "device = torch.device(\"cuda:0\")\n",
    "print(f\"Keras version is {keras.__version__}\")\n",
    "print(f\"Num GPUs Available: {torch.cuda.device_count()}\")\n",
    "plt.rcParams.update({'font.size': 20})"
   ]
  },
  {
   "cell_type": "code",
   "execution_count": 19,
   "id": "fa034de2",
   "metadata": {},
   "outputs": [],
   "source": [
    "exp29_2_results = {\n",
    "    'gp_train_accuracy':gp_train_accuracy,\n",
    "    'gp_test_accuracy':gp_test_accuracy,\n",
    "    'gp_r2s':gp_r2s,\n",
    "    'gp_time':gp_time,\n",
    "    'gp_tsl_train_accuracy':gp_tsl_train_accuracy,\n",
    "    'gp_tsl_test_accuracy':gp_tsl_test_accuracy,\n",
    "    'gp_tsl_r2s':gp_tsl_r2s,\n",
    "    'gp_tsl_time':gp_tsl_time,\n",
    "    'gp_tsc_train_accuracy':gp_tsc_train_accuracy,\n",
    "    'gp_tsc_test_accuracy':gp_tsc_test_accuracy,\n",
    "    'gp_tsc_r2s':gp_tsc_r2s,\n",
    "    'gp_tsc_time':gp_tsc_time,\n",
    "    'gp_nn_tsl_train_accuracy':gp_nn_tsl_train_accuracy,\n",
    "    'gp_nn_tsl_test_accuracy':gp_nn_tsl_test_accuracy,\n",
    "    'gp_nn_tsl_r2s':gp_nn_tsl_r2s,\n",
    "    'nn_tsl_r2s':nn_tsl_r2s,\n",
    "    'gp_nn_tsl_time':gp_nn_tsl_time,\n",
    "}"
   ]
  },
  {
   "cell_type": "code",
   "execution_count": 20,
   "id": "2102da05",
   "metadata": {},
   "outputs": [
    {
     "name": "stdout",
     "output_type": "stream",
     "text": [
      "Stored 'exp29_2_results' (dict)\n"
     ]
    }
   ],
   "source": [
    "#%store exp29_2_results "
   ]
  },
  {
   "cell_type": "code",
   "execution_count": 7,
   "id": "6605d015",
   "metadata": {},
   "outputs": [],
   "source": [
    "# Train and test the solar data set\n",
    "x_train = pd.read_csv('Data/FES/scada_wind_turbine_x_train.csv')\n",
    "x_test = pd.read_csv('Data/FES/scada_wind_turbine_x_test.csv')\n",
    "y_train = pd.read_csv('Data/FES/scada_wind_turbine_y_train.csv')\n",
    "y_test = pd.read_csv('Data/FES/scada_wind_turbine_y_test.csv')"
   ]
  },
  {
   "cell_type": "code",
   "execution_count": 5,
   "id": "6f9fe97f",
   "metadata": {},
   "outputs": [],
   "source": [
    "number_of_folds = 10\n",
    "\n",
    "# Source: From the TSmodel\n",
    "def preprocess_data(train_x, test_x, train_y, test_y):\n",
    "    feature_scaler = StandardScaler()\n",
    "    scaled_train_x = feature_scaler.fit_transform(train_x)\n",
    "    scaled_test_x = feature_scaler.transform(test_x)\n",
    "\n",
    "    # target_scaler = StandardScaler()  \n",
    "    # scaled_train_y = target_scaler.fit_transform(train_y)\n",
    "    # scaled_test_y = target_scaler.transform(test_y)    \n",
    "    # return scaled_train_x, scaled_test_x, scaled_train_y, scaled_test_y, feature_scaler, target_scaler    \n",
    "\n",
    "    return scaled_train_x, scaled_test_x, feature_scaler    \n",
    "\n",
    "def build_neural_network_model():\n",
    "    model = models.Sequential()\n",
    "    model.add(layers.Dense(10, activation=keras.activations.relu))    \n",
    "    model.add(layers.Dense(15, activation=keras.activations.relu))    \n",
    "    model.add(layers.Dense(1, activation=keras.activations.relu))\n",
    "    return model"
   ]
  },
  {
   "cell_type": "code",
   "execution_count": 8,
   "id": "3da3320a",
   "metadata": {},
   "outputs": [],
   "source": [
    "x_train, x_test, feature_scaler = preprocess_data(x_train, x_test, y_train, y_test)\n",
    "y_train = y_train.to_numpy()\n",
    "y_test = y_test.to_numpy()"
   ]
  },
  {
   "cell_type": "code",
   "execution_count": 12,
   "id": "5b0fedb7",
   "metadata": {},
   "outputs": [],
   "source": [
    "nn_model = keras.saving.load_model('scada_nn_model.keras')"
   ]
  },
  {
   "cell_type": "code",
   "execution_count": 13,
   "id": "16800056",
   "metadata": {},
   "outputs": [
    {
     "name": "stdout",
     "output_type": "stream",
     "text": [
      "FCM training RMSE: 379.4636436316665\n"
     ]
    }
   ],
   "source": [
    "# TS model\n",
    "# Linear conclusion\n",
    "\n",
    "def ts_relu_wrapper(pred):\n",
    "    return np.maximum(0, pred)\n",
    "\n",
    "def get_tsl_model(x_train, y_train):\n",
    "    tsl_model = TsModel.TsModel(number_of_rules=25, fuzzification_coefficient=1.2)\n",
    "    tsl_model.fit(x_train, y_train)\n",
    "    return tsl_model\n",
    "\n",
    "def get_tsc_model(x_train, y_train):\n",
    "    tsc_model = TsModel_constant.TsModel_constant(number_of_rules=25, fuzzification_coefficient=1.2)\n",
    "    tsc_model.fit(x_train, y_train)\n",
    "    return tsc_model\n",
    "\n",
    "# TS with linear conclusion\n",
    "tsl_model = TsModel.TsModel(number_of_rules=25, fuzzification_coefficient=1.2)\n",
    "\n",
    "start_time = time.time()\n",
    "tsl_model.fit(x_train, y_train)\n",
    "time_used = time.time() - start_time"
   ]
  },
  {
   "cell_type": "code",
   "execution_count": 14,
   "id": "fba9a05a",
   "metadata": {},
   "outputs": [
    {
     "name": "stdout",
     "output_type": "stream",
     "text": [
      "(35331, 100)\n",
      "[[3.71096360e-10 0.00000000e+00 0.00000000e+00 ... 0.00000000e+00\n",
      "  0.00000000e+00 0.00000000e+00]\n",
      " [1.06037868e-12 0.00000000e+00 0.00000000e+00 ... 0.00000000e+00\n",
      "  0.00000000e+00 0.00000000e+00]\n",
      " [1.23823993e-12 0.00000000e+00 0.00000000e+00 ... 0.00000000e+00\n",
      "  0.00000000e+00 0.00000000e+00]\n",
      " ...\n",
      " [7.65081988e-08 0.00000000e+00 0.00000000e+00 ... 0.00000000e+00\n",
      "  0.00000000e+00 0.00000000e+00]\n",
      " [1.22349076e-12 0.00000000e+00 0.00000000e+00 ... 0.00000000e+00\n",
      "  0.00000000e+00 0.00000000e+00]\n",
      " [3.91152189e-05 0.00000000e+00 0.00000000e+00 ... 0.00000000e+00\n",
      "  0.00000000e+00 0.00000000e+00]]\n",
      "(35331, 25)\n",
      "[[3.71096360e-10 1.57123435e-12 1.91716488e-07 ... 1.57166833e-14\n",
      "  2.02712704e-11 2.02304628e-13]\n",
      " [1.06037868e-12 3.87409458e-04 7.03767334e-11 ... 1.56565747e-12\n",
      "  8.27843950e-14 5.97751208e-11]\n",
      " [1.23823993e-12 4.32761132e-04 4.00053396e-11 ... 1.82050417e-12\n",
      "  8.83509231e-14 1.60736774e-10]\n",
      " ...\n",
      " [7.65081988e-08 6.26370453e-12 5.54621887e-11 ... 2.49613140e-12\n",
      "  2.81491580e-05 3.78318968e-11]\n",
      " [1.22349076e-12 1.22727344e-04 4.04466682e-11 ... 1.45929372e-12\n",
      "  8.37493376e-14 1.36972731e-10]\n",
      " [3.91152189e-05 2.80658316e-03 4.75621297e-05 ... 2.62995056e-06\n",
      "  1.47172912e-06 2.94739035e-03]]\n",
      "FCM training RMSE: 401.37581978819634\n"
     ]
    }
   ],
   "source": [
    "# TS model\n",
    "# Constant conclusion\n",
    "\n",
    "\n",
    "tsc_model = TsModel_constant.TsModel_constant(number_of_rules=25, fuzzification_coefficient=1.2)\n",
    "\n",
    "start_time = time.time()\n",
    "tsc_model.fit(x_train, y_train)\n",
    "time_used = time.time() - start_time"
   ]
  },
  {
   "cell_type": "code",
   "execution_count": 15,
   "id": "371b52c5",
   "metadata": {},
   "outputs": [
    {
     "name": "stderr",
     "output_type": "stream",
     "text": [
      "e:\\Users\\PPL\\anaconda3\\envs\\pytorch\\Lib\\site-packages\\sklearn\\gaussian_process\\kernels.py:455: ConvergenceWarning: The optimal value found for dimension 0 of parameter k1__constant_value is close to the specified upper bound 100000.0. Increasing the bound and calling fit again may find a better value.\n",
      "  warnings.warn(\n",
      "e:\\Users\\PPL\\anaconda3\\envs\\pytorch\\Lib\\site-packages\\sklearn\\gaussian_process\\kernels.py:455: ConvergenceWarning: The optimal value found for dimension 0 of parameter k1__constant_value is close to the specified upper bound 100000.0. Increasing the bound and calling fit again may find a better value.\n",
      "  warnings.warn(\n",
      "e:\\Users\\PPL\\anaconda3\\envs\\pytorch\\Lib\\site-packages\\sklearn\\gaussian_process\\kernels.py:445: ConvergenceWarning: The optimal value found for dimension 0 of parameter k2__length_scale is close to the specified lower bound 1e-05. Decreasing the bound and calling fit again may find a better value.\n",
      "  warnings.warn(\n",
      "e:\\Users\\PPL\\anaconda3\\envs\\pytorch\\Lib\\site-packages\\sklearn\\gaussian_process\\kernels.py:455: ConvergenceWarning: The optimal value found for dimension 0 of parameter k1__constant_value is close to the specified upper bound 100000.0. Increasing the bound and calling fit again may find a better value.\n",
      "  warnings.warn(\n",
      "e:\\Users\\PPL\\anaconda3\\envs\\pytorch\\Lib\\site-packages\\sklearn\\gaussian_process\\kernels.py:445: ConvergenceWarning: The optimal value found for dimension 0 of parameter k2__length_scale is close to the specified lower bound 1e-05. Decreasing the bound and calling fit again may find a better value.\n",
      "  warnings.warn(\n",
      "e:\\Users\\PPL\\anaconda3\\envs\\pytorch\\Lib\\site-packages\\sklearn\\gaussian_process\\kernels.py:455: ConvergenceWarning: The optimal value found for dimension 0 of parameter k1__constant_value is close to the specified upper bound 100000.0. Increasing the bound and calling fit again may find a better value.\n",
      "  warnings.warn(\n",
      "e:\\Users\\PPL\\anaconda3\\envs\\pytorch\\Lib\\site-packages\\sklearn\\gaussian_process\\kernels.py:445: ConvergenceWarning: The optimal value found for dimension 0 of parameter k2__length_scale is close to the specified lower bound 1e-05. Decreasing the bound and calling fit again may find a better value.\n",
      "  warnings.warn(\n",
      "e:\\Users\\PPL\\anaconda3\\envs\\pytorch\\Lib\\site-packages\\sklearn\\gaussian_process\\kernels.py:455: ConvergenceWarning: The optimal value found for dimension 0 of parameter k1__constant_value is close to the specified upper bound 100000.0. Increasing the bound and calling fit again may find a better value.\n",
      "  warnings.warn(\n",
      "e:\\Users\\PPL\\anaconda3\\envs\\pytorch\\Lib\\site-packages\\sklearn\\gaussian_process\\kernels.py:455: ConvergenceWarning: The optimal value found for dimension 0 of parameter k1__constant_value is close to the specified upper bound 100000.0. Increasing the bound and calling fit again may find a better value.\n",
      "  warnings.warn(\n",
      "e:\\Users\\PPL\\anaconda3\\envs\\pytorch\\Lib\\site-packages\\sklearn\\gaussian_process\\kernels.py:445: ConvergenceWarning: The optimal value found for dimension 0 of parameter k2__length_scale is close to the specified lower bound 1e-05. Decreasing the bound and calling fit again may find a better value.\n",
      "  warnings.warn(\n",
      "e:\\Users\\PPL\\anaconda3\\envs\\pytorch\\Lib\\site-packages\\sklearn\\gaussian_process\\kernels.py:455: ConvergenceWarning: The optimal value found for dimension 0 of parameter k1__constant_value is close to the specified upper bound 100000.0. Increasing the bound and calling fit again may find a better value.\n",
      "  warnings.warn(\n",
      "e:\\Users\\PPL\\anaconda3\\envs\\pytorch\\Lib\\site-packages\\sklearn\\gaussian_process\\kernels.py:455: ConvergenceWarning: The optimal value found for dimension 0 of parameter k1__constant_value is close to the specified upper bound 100000.0. Increasing the bound and calling fit again may find a better value.\n",
      "  warnings.warn(\n",
      "e:\\Users\\PPL\\anaconda3\\envs\\pytorch\\Lib\\site-packages\\sklearn\\gaussian_process\\kernels.py:445: ConvergenceWarning: The optimal value found for dimension 0 of parameter k2__length_scale is close to the specified lower bound 1e-05. Decreasing the bound and calling fit again may find a better value.\n",
      "  warnings.warn(\n",
      "e:\\Users\\PPL\\anaconda3\\envs\\pytorch\\Lib\\site-packages\\sklearn\\gaussian_process\\kernels.py:455: ConvergenceWarning: The optimal value found for dimension 0 of parameter k1__constant_value is close to the specified upper bound 100000.0. Increasing the bound and calling fit again may find a better value.\n",
      "  warnings.warn(\n",
      "e:\\Users\\PPL\\anaconda3\\envs\\pytorch\\Lib\\site-packages\\sklearn\\gaussian_process\\kernels.py:445: ConvergenceWarning: The optimal value found for dimension 0 of parameter k2__length_scale is close to the specified lower bound 1e-05. Decreasing the bound and calling fit again may find a better value.\n",
      "  warnings.warn(\n",
      "e:\\Users\\PPL\\anaconda3\\envs\\pytorch\\Lib\\site-packages\\sklearn\\gaussian_process\\kernels.py:455: ConvergenceWarning: The optimal value found for dimension 0 of parameter k1__constant_value is close to the specified upper bound 100000.0. Increasing the bound and calling fit again may find a better value.\n",
      "  warnings.warn(\n",
      "e:\\Users\\PPL\\anaconda3\\envs\\pytorch\\Lib\\site-packages\\sklearn\\gaussian_process\\kernels.py:445: ConvergenceWarning: The optimal value found for dimension 0 of parameter k2__length_scale is close to the specified lower bound 1e-05. Decreasing the bound and calling fit again may find a better value.\n",
      "  warnings.warn(\n"
     ]
    },
    {
     "name": "stdout",
     "output_type": "stream",
     "text": [
      "GP Train RMSE: 1696.311 ± 300.857\n",
      "GP Test RMSE: 1760.012 ± 307.6\n",
      "GP R2: -0.847 ± 0.481\n",
      "GP Time: 10.719 ± 2.755\n"
     ]
    }
   ],
   "source": [
    "# GPR model\n",
    "gp_train_accuracy = []\n",
    "gp_test_accuracy = []\n",
    "gp_r2s = []\n",
    "gp_time = []\n",
    "gpr_model = None\n",
    "\n",
    "for fold in range(number_of_folds):\n",
    "    \n",
    "    kernel = 1.0 * Matern(length_scale=1.0, nu=1.5)\n",
    "    gpr_model = GaussianProcessRegressor(kernel=kernel, n_restarts_optimizer=9, normalize_y=False)\n",
    "    indices = np.random.choice(x_train.shape[0], 2000, replace=False)      \n",
    "\n",
    "    start_time = time.time()\n",
    "    gpr_model.fit(x_train[indices,:], y_train[indices,:])\n",
    "    time_used = time.time() - start_time\n",
    "\n",
    "    train_means = gpr_model.predict(x_train)\n",
    "    test_means = gpr_model.predict(x_test)\n",
    "\n",
    "    train_rmse = root_mean_squared_error(y_train, train_means)\n",
    "    test_rmse = root_mean_squared_error(y_test, test_means)\n",
    "\n",
    "    gp_train_accuracy.append(train_rmse)\n",
    "    gp_test_accuracy.append(test_rmse)\n",
    "    gp_r2 = r2_score(y_test, test_means)\n",
    "    gp_r2s.append(gp_r2)\n",
    "    gp_time.append(time_used)\n",
    "\n",
    "gp_train_accuracy_mean = np.round(np.mean(gp_train_accuracy), 3)\n",
    "gp_train_accuracy_std = np.round(np.std(gp_train_accuracy), 3)\n",
    "gp_test_accuracy_mean = np.round(np.mean(gp_test_accuracy), 3)\n",
    "gp_test_accuracy_std = np.round(np.std(gp_test_accuracy),3)\n",
    "gp_r2_mean = np.round(np.mean(gp_r2s),3)\n",
    "gp_r2_std = np.round(np.std(gp_r2s),3)\n",
    "gp_time_mean = np.round(np.mean(gp_time),3)\n",
    "gp_time_std = np.round(np.std(gp_time),3)\n",
    "\n",
    "print(f\"GP Train RMSE: {gp_train_accuracy_mean} ± {gp_train_accuracy_std}\")\n",
    "print(f\"GP Test RMSE: {gp_test_accuracy_mean} ± {gp_test_accuracy_std}\")\n",
    "print(f\"GP R2: {gp_r2_mean} ± {gp_r2_std}\")\n",
    "print(f\"GP Time: {gp_time_mean} ± {gp_time_std}\")\n"
   ]
  },
  {
   "cell_type": "code",
   "execution_count": 16,
   "id": "3646ec51",
   "metadata": {},
   "outputs": [
    {
     "name": "stdout",
     "output_type": "stream",
     "text": [
      "FCM training RMSE: 379.42981494006057\n"
     ]
    },
    {
     "name": "stderr",
     "output_type": "stream",
     "text": [
      "e:\\Users\\PPL\\anaconda3\\envs\\pytorch\\Lib\\site-packages\\sklearn\\gaussian_process\\kernels.py:455: ConvergenceWarning: The optimal value found for dimension 0 of parameter k1__constant_value is close to the specified upper bound 100000.0. Increasing the bound and calling fit again may find a better value.\n",
      "  warnings.warn(\n"
     ]
    },
    {
     "name": "stdout",
     "output_type": "stream",
     "text": [
      "FCM training RMSE: 379.52379549858887\n"
     ]
    },
    {
     "name": "stderr",
     "output_type": "stream",
     "text": [
      "e:\\Users\\PPL\\anaconda3\\envs\\pytorch\\Lib\\site-packages\\sklearn\\gaussian_process\\kernels.py:455: ConvergenceWarning: The optimal value found for dimension 0 of parameter k1__constant_value is close to the specified upper bound 100000.0. Increasing the bound and calling fit again may find a better value.\n",
      "  warnings.warn(\n"
     ]
    },
    {
     "name": "stdout",
     "output_type": "stream",
     "text": [
      "FCM training RMSE: 379.49923032489966\n"
     ]
    },
    {
     "name": "stderr",
     "output_type": "stream",
     "text": [
      "e:\\Users\\PPL\\anaconda3\\envs\\pytorch\\Lib\\site-packages\\sklearn\\gaussian_process\\kernels.py:455: ConvergenceWarning: The optimal value found for dimension 0 of parameter k1__constant_value is close to the specified upper bound 100000.0. Increasing the bound and calling fit again may find a better value.\n",
      "  warnings.warn(\n"
     ]
    },
    {
     "name": "stdout",
     "output_type": "stream",
     "text": [
      "FCM training RMSE: 379.4928901728984\n"
     ]
    },
    {
     "name": "stderr",
     "output_type": "stream",
     "text": [
      "e:\\Users\\PPL\\anaconda3\\envs\\pytorch\\Lib\\site-packages\\sklearn\\gaussian_process\\kernels.py:455: ConvergenceWarning: The optimal value found for dimension 0 of parameter k1__constant_value is close to the specified upper bound 100000.0. Increasing the bound and calling fit again may find a better value.\n",
      "  warnings.warn(\n"
     ]
    },
    {
     "name": "stdout",
     "output_type": "stream",
     "text": [
      "FCM training RMSE: 379.4112027815971\n"
     ]
    },
    {
     "name": "stderr",
     "output_type": "stream",
     "text": [
      "e:\\Users\\PPL\\anaconda3\\envs\\pytorch\\Lib\\site-packages\\sklearn\\gaussian_process\\kernels.py:455: ConvergenceWarning: The optimal value found for dimension 0 of parameter k1__constant_value is close to the specified upper bound 100000.0. Increasing the bound and calling fit again may find a better value.\n",
      "  warnings.warn(\n"
     ]
    },
    {
     "name": "stdout",
     "output_type": "stream",
     "text": [
      "FCM training RMSE: 379.533437615712\n"
     ]
    },
    {
     "name": "stderr",
     "output_type": "stream",
     "text": [
      "e:\\Users\\PPL\\anaconda3\\envs\\pytorch\\Lib\\site-packages\\sklearn\\gaussian_process\\kernels.py:455: ConvergenceWarning: The optimal value found for dimension 0 of parameter k1__constant_value is close to the specified upper bound 100000.0. Increasing the bound and calling fit again may find a better value.\n",
      "  warnings.warn(\n"
     ]
    },
    {
     "name": "stdout",
     "output_type": "stream",
     "text": [
      "FCM training RMSE: 379.34087262243014\n"
     ]
    },
    {
     "name": "stderr",
     "output_type": "stream",
     "text": [
      "e:\\Users\\PPL\\anaconda3\\envs\\pytorch\\Lib\\site-packages\\sklearn\\gaussian_process\\kernels.py:455: ConvergenceWarning: The optimal value found for dimension 0 of parameter k1__constant_value is close to the specified upper bound 100000.0. Increasing the bound and calling fit again may find a better value.\n",
      "  warnings.warn(\n"
     ]
    },
    {
     "name": "stdout",
     "output_type": "stream",
     "text": [
      "FCM training RMSE: 379.4319423684678\n"
     ]
    },
    {
     "name": "stderr",
     "output_type": "stream",
     "text": [
      "e:\\Users\\PPL\\anaconda3\\envs\\pytorch\\Lib\\site-packages\\sklearn\\gaussian_process\\kernels.py:455: ConvergenceWarning: The optimal value found for dimension 0 of parameter k1__constant_value is close to the specified upper bound 100000.0. Increasing the bound and calling fit again may find a better value.\n",
      "  warnings.warn(\n"
     ]
    },
    {
     "name": "stdout",
     "output_type": "stream",
     "text": [
      "FCM training RMSE: 379.4552641422193\n"
     ]
    },
    {
     "name": "stderr",
     "output_type": "stream",
     "text": [
      "e:\\Users\\PPL\\anaconda3\\envs\\pytorch\\Lib\\site-packages\\sklearn\\gaussian_process\\kernels.py:455: ConvergenceWarning: The optimal value found for dimension 0 of parameter k1__constant_value is close to the specified upper bound 100000.0. Increasing the bound and calling fit again may find a better value.\n",
      "  warnings.warn(\n"
     ]
    },
    {
     "name": "stdout",
     "output_type": "stream",
     "text": [
      "FCM training RMSE: 379.42023806815797\n",
      "GP Train RMSE: 385.156 ± 0.291\n",
      "GP Test RMSE: 398.365 ± 0.304\n",
      "GP R2: 0.908 ± 0.0\n",
      "GP Time: 0.029 ± 0.013\n"
     ]
    },
    {
     "name": "stderr",
     "output_type": "stream",
     "text": [
      "e:\\Users\\PPL\\anaconda3\\envs\\pytorch\\Lib\\site-packages\\sklearn\\gaussian_process\\kernels.py:455: ConvergenceWarning: The optimal value found for dimension 0 of parameter k1__constant_value is close to the specified upper bound 100000.0. Increasing the bound and calling fit again may find a better value.\n",
      "  warnings.warn(\n"
     ]
    }
   ],
   "source": [
    "# GPR model\n",
    "gp_tsl_train_accuracy = []\n",
    "gp_tsl_test_accuracy = []\n",
    "gp_tsl_r2s = []\n",
    "gp_tsl_time = []\n",
    "gpr_tsl_model = None\n",
    "\n",
    "# From ts linear\n",
    "for fold in range(number_of_folds):\n",
    "    \n",
    "    kernel = 1.0 * Matern(length_scale=1.0, nu=1.5)\n",
    "    gpr_tsl_model = GaussianProcessRegressor(kernel=kernel, n_restarts_optimizer=9, normalize_y=False)\n",
    "    tsl_model = get_tsl_model(x_train, y_train)\n",
    "\n",
    "    start_time = time.time()\n",
    "    gpr_tsl_model.fit(tsl_model.cen, ts_relu_wrapper(tsl_model.predict(tsl_model.cen + 1e-8)))\n",
    "    time_used = time.time() - start_time\n",
    "\n",
    "    train_means = gpr_tsl_model.predict(x_train)\n",
    "    test_means = gpr_tsl_model.predict(x_test)\n",
    "\n",
    "    train_rmse = root_mean_squared_error(y_train, train_means)\n",
    "    test_rmse = root_mean_squared_error(y_test, test_means)\n",
    "\n",
    "    gp_tsl_train_accuracy.append(train_rmse)\n",
    "    gp_tsl_test_accuracy.append(test_rmse)\n",
    "    gp_r2 = r2_score(y_test, test_means)\n",
    "    gp_tsl_r2s.append(gp_r2)\n",
    "    gp_tsl_time.append(time_used)\n",
    "\n",
    "gp_train_accuracy_mean = np.round(np.mean(gp_tsl_train_accuracy), 3)\n",
    "gp_train_accuracy_std = np.round(np.std(gp_tsl_train_accuracy), 3)\n",
    "gp_test_accuracy_mean = np.round(np.mean(gp_tsl_test_accuracy), 3)\n",
    "gp_test_accuracy_std = np.round(np.std(gp_tsl_test_accuracy),3)\n",
    "gp_r2_mean = np.round(np.mean(gp_tsl_r2s),3)\n",
    "gp_r2_std = np.round(np.std(gp_tsl_r2s),3)\n",
    "gp_time_mean = np.round(np.mean(gp_tsl_time),3)\n",
    "gp_time_std = np.round(np.std(gp_tsl_time),3)\n",
    "\n",
    "print(f\"GP Train RMSE: {gp_train_accuracy_mean} ± {gp_train_accuracy_std}\")\n",
    "print(f\"GP Test RMSE: {gp_test_accuracy_mean} ± {gp_test_accuracy_std}\")\n",
    "print(f\"GP R2: {gp_r2_mean} ± {gp_r2_std}\")\n",
    "print(f\"GP Time: {gp_time_mean} ± {gp_time_std}\")\n"
   ]
  },
  {
   "cell_type": "code",
   "execution_count": 17,
   "id": "960ae86d",
   "metadata": {},
   "outputs": [
    {
     "name": "stdout",
     "output_type": "stream",
     "text": [
      "(35331, 100)\n",
      "[[4.07882928e-13 0.00000000e+00 0.00000000e+00 ... 0.00000000e+00\n",
      "  0.00000000e+00 0.00000000e+00]\n",
      " [9.98799551e-01 0.00000000e+00 0.00000000e+00 ... 0.00000000e+00\n",
      "  0.00000000e+00 0.00000000e+00]\n",
      " [9.99610945e-01 0.00000000e+00 0.00000000e+00 ... 0.00000000e+00\n",
      "  0.00000000e+00 0.00000000e+00]\n",
      " ...\n",
      " [1.74393068e-11 0.00000000e+00 0.00000000e+00 ... 0.00000000e+00\n",
      "  0.00000000e+00 0.00000000e+00]\n",
      " [9.94788760e-01 0.00000000e+00 0.00000000e+00 ... 0.00000000e+00\n",
      "  0.00000000e+00 0.00000000e+00]\n",
      " [6.22154931e-03 0.00000000e+00 0.00000000e+00 ... 0.00000000e+00\n",
      "  0.00000000e+00 0.00000000e+00]]\n",
      "(35331, 25)\n",
      "[[4.07882928e-13 5.41530145e-11 8.45439940e-15 ... 3.77581788e-12\n",
      "  2.81401561e-14 5.03620403e-12]\n",
      " [9.98799551e-01 1.07546373e-11 1.79892703e-10 ... 1.18689228e-03\n",
      "  6.96310839e-10 9.34932528e-13]\n",
      " [9.99610945e-01 5.94938269e-12 1.52241963e-10 ... 3.83160015e-04\n",
      "  9.02783661e-10 4.63597481e-13]\n",
      " ...\n",
      " [1.74393068e-11 1.78064100e-07 2.16418781e-11 ... 3.92435496e-11\n",
      "  8.11114960e-11 1.22157731e-05]\n",
      " [9.94788760e-01 4.78905774e-11 1.00829255e-09 ... 5.18719959e-03\n",
      "  6.28400390e-09 3.58769937e-12]\n",
      " [6.22154931e-03 3.12588423e-05 8.75366499e-05 ... 2.14405062e-02\n",
      "  3.01840756e-03 1.19678037e-06]]\n",
      "FCM training RMSE: 404.7818851017289\n"
     ]
    },
    {
     "name": "stderr",
     "output_type": "stream",
     "text": [
      "e:\\Users\\PPL\\anaconda3\\envs\\pytorch\\Lib\\site-packages\\sklearn\\gaussian_process\\kernels.py:455: ConvergenceWarning: The optimal value found for dimension 0 of parameter k1__constant_value is close to the specified upper bound 100000.0. Increasing the bound and calling fit again may find a better value.\n",
      "  warnings.warn(\n"
     ]
    },
    {
     "name": "stdout",
     "output_type": "stream",
     "text": [
      "(35331, 100)\n",
      "[[1.67947247e-10 0.00000000e+00 0.00000000e+00 ... 0.00000000e+00\n",
      "  0.00000000e+00 0.00000000e+00]\n",
      " [2.04496926e-10 0.00000000e+00 0.00000000e+00 ... 0.00000000e+00\n",
      "  0.00000000e+00 0.00000000e+00]\n",
      " [3.74495744e-11 0.00000000e+00 0.00000000e+00 ... 0.00000000e+00\n",
      "  0.00000000e+00 0.00000000e+00]\n",
      " ...\n",
      " [8.12580565e-10 0.00000000e+00 0.00000000e+00 ... 0.00000000e+00\n",
      "  0.00000000e+00 0.00000000e+00]\n",
      " [5.04157613e-10 0.00000000e+00 0.00000000e+00 ... 0.00000000e+00\n",
      "  0.00000000e+00 0.00000000e+00]\n",
      " [1.46721609e-04 0.00000000e+00 0.00000000e+00 ... 0.00000000e+00\n",
      "  0.00000000e+00 0.00000000e+00]]\n",
      "(35331, 25)\n",
      "[[1.67947247e-10 2.14282820e-14 6.18975556e-16 ... 3.41682532e-15\n",
      "  4.07056954e-08 9.99999079e-01]\n",
      " [2.04496926e-10 1.62552003e-12 4.12181617e-11 ... 2.17032049e-06\n",
      "  1.62177595e-11 1.39926202e-12]\n",
      " [3.74495744e-11 7.11035060e-13 2.53487845e-11 ... 5.45367834e-07\n",
      "  2.52097876e-12 2.28471348e-13]\n",
      " ...\n",
      " [8.12580565e-10 6.30316255e-07 1.97393149e-10 ... 4.04369215e-11\n",
      "  5.69013759e-10 6.75654084e-10]\n",
      " [5.04157613e-10 8.85099010e-12 2.68515088e-10 ... 3.21629631e-06\n",
      "  3.17830949e-11 2.78601897e-12]\n",
      " [1.46721609e-04 2.16095993e-04 3.92467003e-04 ... 5.02026175e-04\n",
      "  7.65734118e-06 8.70549811e-07]]\n",
      "FCM training RMSE: 406.9716711178113\n"
     ]
    },
    {
     "name": "stderr",
     "output_type": "stream",
     "text": [
      "e:\\Users\\PPL\\anaconda3\\envs\\pytorch\\Lib\\site-packages\\sklearn\\gaussian_process\\kernels.py:455: ConvergenceWarning: The optimal value found for dimension 0 of parameter k1__constant_value is close to the specified upper bound 100000.0. Increasing the bound and calling fit again may find a better value.\n",
      "  warnings.warn(\n"
     ]
    },
    {
     "name": "stdout",
     "output_type": "stream",
     "text": [
      "(35331, 100)\n",
      "[[2.39608307e-14 0.00000000e+00 0.00000000e+00 ... 0.00000000e+00\n",
      "  0.00000000e+00 0.00000000e+00]\n",
      " [2.70727530e-10 0.00000000e+00 0.00000000e+00 ... 0.00000000e+00\n",
      "  0.00000000e+00 0.00000000e+00]\n",
      " [2.57704773e-10 0.00000000e+00 0.00000000e+00 ... 0.00000000e+00\n",
      "  0.00000000e+00 0.00000000e+00]\n",
      " ...\n",
      " [8.29590214e-12 0.00000000e+00 0.00000000e+00 ... 0.00000000e+00\n",
      "  0.00000000e+00 0.00000000e+00]\n",
      " [1.55303895e-09 0.00000000e+00 0.00000000e+00 ... 0.00000000e+00\n",
      "  0.00000000e+00 0.00000000e+00]\n",
      " [8.86673596e-05 0.00000000e+00 0.00000000e+00 ... 0.00000000e+00\n",
      "  0.00000000e+00 0.00000000e+00]]\n",
      "(35331, 25)\n",
      "[[2.39608307e-14 1.22504721e-10 6.83016592e-13 ... 8.10452904e-12\n",
      "  6.42059643e-14 2.38155060e-11]\n",
      " [2.70727530e-10 9.07764989e-07 3.80022039e-13 ... 1.14440489e-12\n",
      "  7.24862621e-08 8.38698234e-11]\n",
      " [2.57704773e-10 3.05355207e-07 2.17350770e-13 ... 6.44240368e-13\n",
      "  2.43452541e-08 6.95463948e-11]\n",
      " ...\n",
      " [8.29590214e-12 2.84318226e-11 9.99968991e-01 ... 1.66201003e-05\n",
      "  1.48681018e-12 2.05147893e-08]\n",
      " [1.55303895e-09 2.74412306e-06 1.50162684e-12 ... 4.52299321e-12\n",
      "  1.16064659e-07 5.23387038e-10]\n",
      " [8.86673596e-05 5.46941243e-03 3.22540183e-07 ... 1.01268888e-06\n",
      "  4.65281999e-05 1.11959916e-03]]\n",
      "FCM training RMSE: 404.6439271456996\n"
     ]
    },
    {
     "name": "stderr",
     "output_type": "stream",
     "text": [
      "e:\\Users\\PPL\\anaconda3\\envs\\pytorch\\Lib\\site-packages\\sklearn\\gaussian_process\\kernels.py:455: ConvergenceWarning: The optimal value found for dimension 0 of parameter k1__constant_value is close to the specified upper bound 100000.0. Increasing the bound and calling fit again may find a better value.\n",
      "  warnings.warn(\n"
     ]
    },
    {
     "name": "stdout",
     "output_type": "stream",
     "text": [
      "(35331, 100)\n",
      "[[1.63549017e-04 0.00000000e+00 0.00000000e+00 ... 0.00000000e+00\n",
      "  0.00000000e+00 0.00000000e+00]\n",
      " [3.31093997e-12 0.00000000e+00 0.00000000e+00 ... 0.00000000e+00\n",
      "  0.00000000e+00 0.00000000e+00]\n",
      " [6.14938519e-13 0.00000000e+00 0.00000000e+00 ... 0.00000000e+00\n",
      "  0.00000000e+00 0.00000000e+00]\n",
      " ...\n",
      " [8.55075976e-10 0.00000000e+00 0.00000000e+00 ... 0.00000000e+00\n",
      "  0.00000000e+00 0.00000000e+00]\n",
      " [7.82301057e-12 0.00000000e+00 0.00000000e+00 ... 0.00000000e+00\n",
      "  0.00000000e+00 0.00000000e+00]\n",
      " [1.02040909e-05 0.00000000e+00 0.00000000e+00 ... 0.00000000e+00\n",
      "  0.00000000e+00 0.00000000e+00]]\n",
      "(35331, 25)\n",
      "[[1.63549017e-04 6.78642162e-14 3.90731268e-12 ... 6.05324190e-12\n",
      "  1.26519167e-08 3.92047167e-13]\n",
      " [3.31093997e-12 1.95870424e-06 7.34236859e-14 ... 1.25616099e-11\n",
      "  7.97994027e-12 9.99989913e-01]\n",
      " [6.14938519e-13 4.87560595e-07 2.00586607e-14 ... 5.78694847e-12\n",
      "  1.99201303e-12 9.99998067e-01]\n",
      " ...\n",
      " [8.55075976e-10 1.80176604e-11 1.98514388e-05 ... 3.32249450e-08\n",
      "  4.16550167e-09 3.80071146e-11]\n",
      " [7.82301057e-12 2.90631811e-06 2.46305124e-13 ... 7.76673952e-11\n",
      "  2.62982793e-11 9.99969182e-01]\n",
      " [1.02040909e-05 1.11961943e-03 1.52390637e-06 ... 1.08231310e-02\n",
      "  1.13057449e-04 1.11738287e-02]]\n",
      "FCM training RMSE: 405.53297631651446\n"
     ]
    },
    {
     "name": "stderr",
     "output_type": "stream",
     "text": [
      "e:\\Users\\PPL\\anaconda3\\envs\\pytorch\\Lib\\site-packages\\sklearn\\gaussian_process\\kernels.py:455: ConvergenceWarning: The optimal value found for dimension 0 of parameter k1__constant_value is close to the specified upper bound 100000.0. Increasing the bound and calling fit again may find a better value.\n",
      "  warnings.warn(\n"
     ]
    },
    {
     "name": "stdout",
     "output_type": "stream",
     "text": [
      "(35331, 100)\n",
      "[[3.43587240e-15 0.00000000e+00 0.00000000e+00 ... 0.00000000e+00\n",
      "  0.00000000e+00 0.00000000e+00]\n",
      " [2.17069159e-06 0.00000000e+00 0.00000000e+00 ... 0.00000000e+00\n",
      "  0.00000000e+00 0.00000000e+00]\n",
      " [5.45440305e-07 0.00000000e+00 0.00000000e+00 ... 0.00000000e+00\n",
      "  0.00000000e+00 0.00000000e+00]\n",
      " ...\n",
      " [4.03567694e-11 0.00000000e+00 0.00000000e+00 ... 0.00000000e+00\n",
      "  0.00000000e+00 0.00000000e+00]\n",
      " [3.21669505e-06 0.00000000e+00 0.00000000e+00 ... 0.00000000e+00\n",
      "  0.00000000e+00 0.00000000e+00]\n",
      " [5.03684404e-04 0.00000000e+00 0.00000000e+00 ... 0.00000000e+00\n",
      "  0.00000000e+00 0.00000000e+00]]\n",
      "(35331, 25)\n",
      "[[3.43587240e-15 3.47940406e-08 2.17249961e-16 ... 1.29667776e-14\n",
      "  1.68850991e-10 1.85526066e-15]\n",
      " [2.17069159e-06 9.84613763e-12 9.10491959e-12 ... 8.22678545e-11\n",
      "  2.04583275e-10 8.79093874e-11]\n",
      " [5.45440305e-07 2.00374012e-12 3.77398004e-12 ... 6.90340348e-11\n",
      "  3.74619527e-11 7.27483753e-11]\n",
      " ...\n",
      " [4.03567694e-11 2.53680320e-09 6.39626630e-11 ... 5.50452734e-09\n",
      "  8.10818593e-10 6.58297983e-10]\n",
      " [3.21669505e-06 2.57280297e-11 3.89000567e-11 ... 8.85980664e-10\n",
      "  5.04317609e-10 8.23992301e-10]\n",
      " [5.03684404e-04 1.72611170e-05 1.87419122e-05 ... 9.20759910e-01\n",
      "  1.47196504e-04 9.81413793e-03]]\n",
      "FCM training RMSE: 406.9808462832028\n"
     ]
    },
    {
     "name": "stderr",
     "output_type": "stream",
     "text": [
      "e:\\Users\\PPL\\anaconda3\\envs\\pytorch\\Lib\\site-packages\\sklearn\\gaussian_process\\kernels.py:455: ConvergenceWarning: The optimal value found for dimension 0 of parameter k1__constant_value is close to the specified upper bound 100000.0. Increasing the bound and calling fit again may find a better value.\n",
      "  warnings.warn(\n"
     ]
    },
    {
     "name": "stdout",
     "output_type": "stream",
     "text": [
      "(35331, 100)\n",
      "[[1.62823281e-13 0.00000000e+00 0.00000000e+00 ... 0.00000000e+00\n",
      "  0.00000000e+00 0.00000000e+00]\n",
      " [9.99609137e-14 0.00000000e+00 0.00000000e+00 ... 0.00000000e+00\n",
      "  0.00000000e+00 0.00000000e+00]\n",
      " [3.98185902e-14 0.00000000e+00 0.00000000e+00 ... 0.00000000e+00\n",
      "  0.00000000e+00 0.00000000e+00]\n",
      " ...\n",
      " [9.98642757e-01 0.00000000e+00 0.00000000e+00 ... 0.00000000e+00\n",
      "  0.00000000e+00 0.00000000e+00]\n",
      " [3.65704824e-13 0.00000000e+00 0.00000000e+00 ... 0.00000000e+00\n",
      "  0.00000000e+00 0.00000000e+00]\n",
      " [2.78036668e-07 0.00000000e+00 0.00000000e+00 ... 0.00000000e+00\n",
      "  0.00000000e+00 0.00000000e+00]]\n",
      "(35331, 25)\n",
      "[[1.62823281e-13 2.68108439e-08 2.29983178e-12 ... 9.99836952e-01\n",
      "  1.12838409e-13 9.37251995e-11]\n",
      " [9.99609137e-14 1.62807223e-10 3.46336585e-13 ... 5.34248030e-12\n",
      "  4.73547131e-10 1.20525461e-12]\n",
      " [3.98185902e-14 4.77984225e-11 1.36561968e-13 ... 1.22610214e-12\n",
      "  6.06637661e-10 4.47031430e-13]\n",
      " ...\n",
      " [9.98642757e-01 5.93703601e-10 3.47969323e-05 ... 2.04082743e-10\n",
      "  8.16279733e-10 1.91327469e-07]\n",
      " [3.65704824e-13 4.86356432e-10 1.27681704e-12 ... 1.15185818e-11\n",
      "  5.81357774e-09 4.25290740e-12]\n",
      " [2.78036668e-07 9.84763538e-05 1.04616302e-06 ... 1.13419649e-06\n",
      "  6.21513971e-01 2.87291305e-06]]\n",
      "FCM training RMSE: 404.9169748886176\n"
     ]
    },
    {
     "name": "stderr",
     "output_type": "stream",
     "text": [
      "e:\\Users\\PPL\\anaconda3\\envs\\pytorch\\Lib\\site-packages\\sklearn\\gaussian_process\\kernels.py:455: ConvergenceWarning: The optimal value found for dimension 0 of parameter k1__constant_value is close to the specified upper bound 100000.0. Increasing the bound and calling fit again may find a better value.\n",
      "  warnings.warn(\n"
     ]
    },
    {
     "name": "stdout",
     "output_type": "stream",
     "text": [
      "(35331, 100)\n",
      "[[6.25539716e-15 0.00000000e+00 0.00000000e+00 ... 0.00000000e+00\n",
      "  0.00000000e+00 0.00000000e+00]\n",
      " [2.69589783e-11 0.00000000e+00 0.00000000e+00 ... 0.00000000e+00\n",
      "  0.00000000e+00 0.00000000e+00]\n",
      " [1.69357399e-11 0.00000000e+00 0.00000000e+00 ... 0.00000000e+00\n",
      "  0.00000000e+00 0.00000000e+00]\n",
      " ...\n",
      " [2.03508210e-12 0.00000000e+00 0.00000000e+00 ... 0.00000000e+00\n",
      "  0.00000000e+00 0.00000000e+00]\n",
      " [1.01051653e-10 0.00000000e+00 0.00000000e+00 ... 0.00000000e+00\n",
      "  0.00000000e+00 0.00000000e+00]\n",
      " [2.66648212e-06 0.00000000e+00 0.00000000e+00 ... 0.00000000e+00\n",
      "  0.00000000e+00 0.00000000e+00]]\n",
      "(35331, 25)\n",
      "[[6.25539716e-15 8.22848856e-12 9.49999470e-04 ... 8.08434509e-14\n",
      "  2.18122753e-07 4.21976266e-12]\n",
      " [2.69589783e-11 1.13356705e-12 3.68360204e-11 ... 1.03806774e-09\n",
      "  4.59421286e-10 4.55128618e-10]\n",
      " [1.69357399e-11 6.37166022e-13 1.43471487e-11 ... 1.51042793e-09\n",
      "  1.91038927e-10 5.56328739e-10]\n",
      " ...\n",
      " [2.03508210e-12 1.66282888e-05 2.36841159e-10 ... 3.08699855e-11\n",
      "  1.74445497e-10 2.66819066e-09]\n",
      " [1.01051653e-10 4.48177007e-12 1.04275338e-10 ... 9.58166417e-09\n",
      "  1.45675408e-09 4.26552007e-09]\n",
      " [2.66648212e-06 1.01268403e-06 5.47077834e-06 ... 3.02701697e-03\n",
      "  8.31929943e-05 1.23010471e-01]]\n",
      "FCM training RMSE: 404.6430103786804\n"
     ]
    },
    {
     "name": "stderr",
     "output_type": "stream",
     "text": [
      "e:\\Users\\PPL\\anaconda3\\envs\\pytorch\\Lib\\site-packages\\sklearn\\gaussian_process\\kernels.py:455: ConvergenceWarning: The optimal value found for dimension 0 of parameter k1__constant_value is close to the specified upper bound 100000.0. Increasing the bound and calling fit again may find a better value.\n",
      "  warnings.warn(\n"
     ]
    },
    {
     "name": "stdout",
     "output_type": "stream",
     "text": [
      "(35331, 100)\n",
      "[[1.56316080e-03 0.00000000e+00 0.00000000e+00 ... 0.00000000e+00\n",
      "  0.00000000e+00 0.00000000e+00]\n",
      " [4.62720202e-11 0.00000000e+00 0.00000000e+00 ... 0.00000000e+00\n",
      "  0.00000000e+00 0.00000000e+00]\n",
      " [1.38855348e-11 0.00000000e+00 0.00000000e+00 ... 0.00000000e+00\n",
      "  0.00000000e+00 0.00000000e+00]\n",
      " ...\n",
      " [3.74468033e-10 0.00000000e+00 0.00000000e+00 ... 0.00000000e+00\n",
      "  0.00000000e+00 0.00000000e+00]\n",
      " [1.13709031e-10 0.00000000e+00 0.00000000e+00 ... 0.00000000e+00\n",
      "  0.00000000e+00 0.00000000e+00]\n",
      " [3.52573834e-06 0.00000000e+00 0.00000000e+00 ... 0.00000000e+00\n",
      "  0.00000000e+00 0.00000000e+00]]\n",
      "(35331, 25)\n",
      "[[1.56316080e-03 9.41737703e-13 2.54628001e-07 ... 3.76535575e-05\n",
      "  6.02528457e-15 1.63526161e-13]\n",
      " [4.62720202e-11 2.32622291e-13 2.27894818e-10 ... 1.18500518e-11\n",
      "  1.13941014e-11 8.23323679e-10]\n",
      " [1.38855348e-11 1.16398465e-13 8.53441411e-11 ... 4.27670580e-12\n",
      "  6.04691734e-12 1.19806627e-09]\n",
      " ...\n",
      " [3.74468033e-10 9.99918289e-01 9.15754266e-10 ... 1.97435204e-09\n",
      "  7.61994765e-12 2.54049942e-10]\n",
      " [1.13709031e-10 9.08677965e-13 7.32826674e-10 ... 3.48531548e-11\n",
      "  4.06524028e-11 8.89418765e-09]\n",
      " [3.52573834e-06 1.94355936e-07 4.65697585e-05 ... 2.24141026e-06\n",
      "  1.00579792e-06 9.04210054e-03]]\n",
      "FCM training RMSE: 404.0725024755084\n"
     ]
    },
    {
     "name": "stderr",
     "output_type": "stream",
     "text": [
      "e:\\Users\\PPL\\anaconda3\\envs\\pytorch\\Lib\\site-packages\\sklearn\\gaussian_process\\kernels.py:455: ConvergenceWarning: The optimal value found for dimension 0 of parameter k1__constant_value is close to the specified upper bound 100000.0. Increasing the bound and calling fit again may find a better value.\n",
      "  warnings.warn(\n"
     ]
    },
    {
     "name": "stdout",
     "output_type": "stream",
     "text": [
      "(35331, 100)\n",
      "[[3.15744607e-11 0.00000000e+00 0.00000000e+00 ... 0.00000000e+00\n",
      "  0.00000000e+00 0.00000000e+00]\n",
      " [3.70692904e-12 0.00000000e+00 0.00000000e+00 ... 0.00000000e+00\n",
      "  0.00000000e+00 0.00000000e+00]\n",
      " [2.39059781e-12 0.00000000e+00 0.00000000e+00 ... 0.00000000e+00\n",
      "  0.00000000e+00 0.00000000e+00]\n",
      " ...\n",
      " [2.99798380e-05 0.00000000e+00 0.00000000e+00 ... 0.00000000e+00\n",
      "  0.00000000e+00 0.00000000e+00]\n",
      " [1.30371109e-11 0.00000000e+00 0.00000000e+00 ... 0.00000000e+00\n",
      "  0.00000000e+00 0.00000000e+00]\n",
      " [1.47363753e-06 0.00000000e+00 0.00000000e+00 ... 0.00000000e+00\n",
      "  0.00000000e+00 0.00000000e+00]]\n",
      "(35331, 25)\n",
      "[[3.15744607e-11 1.64166242e-11 2.58920633e-13 ... 7.98495942e-08\n",
      "  7.01883064e-12 9.87435455e-14]\n",
      " [3.70692904e-12 1.14002788e-09 1.72634988e-07 ... 4.90915396e-09\n",
      "  1.03772600e-11 7.00246681e-10]\n",
      " [2.39059781e-12 1.55251676e-09 6.43439327e-08 ... 2.31680107e-09\n",
      "  8.09366468e-12 7.43231501e-10]\n",
      " ...\n",
      " [2.99798380e-05 3.24685677e-09 1.73162993e-12 ... 1.44287412e-10\n",
      "  7.76645573e-06 9.82734790e-12]\n",
      " [1.30371109e-11 9.18600858e-09 2.38255619e-07 ... 1.40581090e-08\n",
      "  4.44474130e-11 3.46879937e-09]\n",
      " [1.47363753e-06 1.11302538e-01 4.35787867e-05 ... 2.94804106e-04\n",
      "  1.20538692e-05 8.73875374e-05]]\n",
      "FCM training RMSE: 403.1939526003009\n"
     ]
    },
    {
     "name": "stderr",
     "output_type": "stream",
     "text": [
      "e:\\Users\\PPL\\anaconda3\\envs\\pytorch\\Lib\\site-packages\\sklearn\\gaussian_process\\kernels.py:455: ConvergenceWarning: The optimal value found for dimension 0 of parameter k1__constant_value is close to the specified upper bound 100000.0. Increasing the bound and calling fit again may find a better value.\n",
      "  warnings.warn(\n"
     ]
    },
    {
     "name": "stdout",
     "output_type": "stream",
     "text": [
      "(35331, 100)\n",
      "[[5.25652609e-11 0.00000000e+00 0.00000000e+00 ... 0.00000000e+00\n",
      "  0.00000000e+00 0.00000000e+00]\n",
      " [3.09512439e-07 0.00000000e+00 0.00000000e+00 ... 0.00000000e+00\n",
      "  0.00000000e+00 0.00000000e+00]\n",
      " [9.64594499e-08 0.00000000e+00 0.00000000e+00 ... 0.00000000e+00\n",
      "  0.00000000e+00 0.00000000e+00]\n",
      " ...\n",
      " [7.06040259e-11 0.00000000e+00 0.00000000e+00 ... 0.00000000e+00\n",
      "  0.00000000e+00 0.00000000e+00]\n",
      " [9.93177302e-07 0.00000000e+00 0.00000000e+00 ... 0.00000000e+00\n",
      "  0.00000000e+00 0.00000000e+00]\n",
      " [8.35235358e-03 0.00000000e+00 0.00000000e+00 ... 0.00000000e+00\n",
      "  0.00000000e+00 0.00000000e+00]]\n",
      "(35331, 25)\n",
      "[[5.25652609e-11 2.02999625e-13 8.46928824e-07 ... 4.13958644e-13\n",
      "  1.12296521e-09 7.86063027e-15]\n",
      " [3.09512439e-07 1.36764085e-12 1.49804678e-10 ... 9.99212169e-01\n",
      "  5.82326078e-09 1.32128702e-10]\n",
      " [9.64594499e-08 8.14202447e-13 3.87268807e-11 ... 9.99759137e-01\n",
      "  1.73111164e-09 1.03708272e-10]\n",
      " ...\n",
      " [7.06040259e-11 1.68838327e-05 9.89182366e-11 ... 1.48170639e-11\n",
      "  1.16016268e-10 1.69893643e-11]\n",
      " [9.93177302e-07 6.55328254e-12 3.25226739e-10 ... 9.96674795e-01\n",
      "  1.58785293e-08 7.16791915e-10]\n",
      " [8.35235358e-03 1.01128986e-05 1.74052367e-05 ... 9.22413223e-03\n",
      "  7.10065855e-04 1.04869616e-04]]\n",
      "FCM training RMSE: 403.3612622874717\n",
      "GP Train RMSE: 384.791 ± 0.227\n",
      "GP Test RMSE: 398.12 ± 0.367\n",
      "GP R2: 0.908 ± 0.0\n",
      "GP Time: 0.03 ± 0.009\n"
     ]
    },
    {
     "name": "stderr",
     "output_type": "stream",
     "text": [
      "e:\\Users\\PPL\\anaconda3\\envs\\pytorch\\Lib\\site-packages\\sklearn\\gaussian_process\\kernels.py:455: ConvergenceWarning: The optimal value found for dimension 0 of parameter k1__constant_value is close to the specified upper bound 100000.0. Increasing the bound and calling fit again may find a better value.\n",
      "  warnings.warn(\n"
     ]
    }
   ],
   "source": [
    "# GPR model\n",
    "gp_tsc_train_accuracy = []\n",
    "gp_tsc_test_accuracy = []\n",
    "gp_tsc_r2s = []\n",
    "gp_tsc_time = []\n",
    "gpr_tsc_model = None\n",
    "\n",
    "# From ts constant\n",
    "for fold in range(number_of_folds):\n",
    "    \n",
    "    kernel = 1.0 * Matern(length_scale=1.0, nu=1.5)\n",
    "    gpr_tsc_model = GaussianProcessRegressor(kernel=kernel, n_restarts_optimizer=9, normalize_y=False)\n",
    "    tsc_model = get_tsc_model(x_train, y_train)\n",
    "\n",
    "    start_time = time.time()\n",
    "    gpr_tsc_model.fit(tsc_model.cen, ts_relu_wrapper(tsc_model.predict(tsc_model.cen + 1e-8)))\n",
    "    time_used = time.time() - start_time\n",
    "\n",
    "    train_means = gpr_tsc_model.predict(x_train)\n",
    "    test_means = gpr_tsc_model.predict(x_test)\n",
    "\n",
    "    train_rmse = root_mean_squared_error(y_train, train_means)\n",
    "    test_rmse = root_mean_squared_error(y_test, test_means)\n",
    "\n",
    "    gp_tsc_train_accuracy.append(train_rmse)\n",
    "    gp_tsc_test_accuracy.append(test_rmse)\n",
    "    gp_r2 = r2_score(y_test, test_means)\n",
    "    gp_tsc_r2s.append(gp_r2)\n",
    "    gp_tsc_time.append(time_used)\n",
    "\n",
    "gp_train_accuracy_mean = np.round(np.mean(gp_tsc_train_accuracy), 3)\n",
    "gp_train_accuracy_std = np.round(np.std(gp_tsc_train_accuracy), 3)\n",
    "gp_test_accuracy_mean = np.round(np.mean(gp_tsc_test_accuracy), 3)\n",
    "gp_test_accuracy_std = np.round(np.std(gp_tsc_test_accuracy),3)\n",
    "gp_r2_mean = np.round(np.mean(gp_tsc_r2s),3)\n",
    "gp_r2_std = np.round(np.std(gp_tsc_r2s),3)\n",
    "gp_time_mean = np.round(np.mean(gp_tsc_time),3)\n",
    "gp_time_std = np.round(np.std(gp_tsc_time),3)\n",
    "\n",
    "print(f\"GP Train RMSE: {gp_train_accuracy_mean} ± {gp_train_accuracy_std}\")\n",
    "print(f\"GP Test RMSE: {gp_test_accuracy_mean} ± {gp_test_accuracy_std}\")\n",
    "print(f\"GP R2: {gp_r2_mean} ± {gp_r2_std}\")\n",
    "print(f\"GP Time: {gp_time_mean} ± {gp_time_std}\")\n"
   ]
  },
  {
   "cell_type": "code",
   "execution_count": 18,
   "id": "0d1d833f",
   "metadata": {},
   "outputs": [
    {
     "name": "stdout",
     "output_type": "stream",
     "text": [
      "FCM training RMSE: 379.4260278444021\n",
      "\u001b[1m1/1\u001b[0m \u001b[32m━━━━━━━━━━━━━━━━━━━━\u001b[0m\u001b[37m\u001b[0m \u001b[1m0s\u001b[0m 33ms/step\n"
     ]
    },
    {
     "name": "stderr",
     "output_type": "stream",
     "text": [
      "e:\\Users\\PPL\\anaconda3\\envs\\pytorch\\Lib\\site-packages\\sklearn\\gaussian_process\\kernels.py:455: ConvergenceWarning: The optimal value found for dimension 0 of parameter k1__constant_value is close to the specified upper bound 100000.0. Increasing the bound and calling fit again may find a better value.\n",
      "  warnings.warn(\n"
     ]
    },
    {
     "name": "stdout",
     "output_type": "stream",
     "text": [
      "FCM training RMSE: 379.4015013473543\n",
      "\u001b[1m1/1\u001b[0m \u001b[32m━━━━━━━━━━━━━━━━━━━━\u001b[0m\u001b[37m\u001b[0m \u001b[1m0s\u001b[0m 4ms/step\n"
     ]
    },
    {
     "name": "stderr",
     "output_type": "stream",
     "text": [
      "e:\\Users\\PPL\\anaconda3\\envs\\pytorch\\Lib\\site-packages\\sklearn\\gaussian_process\\kernels.py:455: ConvergenceWarning: The optimal value found for dimension 0 of parameter k1__constant_value is close to the specified upper bound 100000.0. Increasing the bound and calling fit again may find a better value.\n",
      "  warnings.warn(\n"
     ]
    },
    {
     "name": "stdout",
     "output_type": "stream",
     "text": [
      "FCM training RMSE: 379.50966278415876\n",
      "\u001b[1m1/1\u001b[0m \u001b[32m━━━━━━━━━━━━━━━━━━━━\u001b[0m\u001b[37m\u001b[0m \u001b[1m0s\u001b[0m 9ms/step\n"
     ]
    },
    {
     "name": "stderr",
     "output_type": "stream",
     "text": [
      "e:\\Users\\PPL\\anaconda3\\envs\\pytorch\\Lib\\site-packages\\sklearn\\gaussian_process\\kernels.py:455: ConvergenceWarning: The optimal value found for dimension 0 of parameter k1__constant_value is close to the specified upper bound 100000.0. Increasing the bound and calling fit again may find a better value.\n",
      "  warnings.warn(\n"
     ]
    },
    {
     "name": "stdout",
     "output_type": "stream",
     "text": [
      "FCM training RMSE: 379.4437132595468\n",
      "\u001b[1m1/1\u001b[0m \u001b[32m━━━━━━━━━━━━━━━━━━━━\u001b[0m\u001b[37m\u001b[0m \u001b[1m0s\u001b[0m 3ms/step\n"
     ]
    },
    {
     "name": "stderr",
     "output_type": "stream",
     "text": [
      "e:\\Users\\PPL\\anaconda3\\envs\\pytorch\\Lib\\site-packages\\sklearn\\gaussian_process\\kernels.py:455: ConvergenceWarning: The optimal value found for dimension 0 of parameter k1__constant_value is close to the specified upper bound 100000.0. Increasing the bound and calling fit again may find a better value.\n",
      "  warnings.warn(\n"
     ]
    },
    {
     "name": "stdout",
     "output_type": "stream",
     "text": [
      "FCM training RMSE: 379.45262527056775\n",
      "\u001b[1m1/1\u001b[0m \u001b[32m━━━━━━━━━━━━━━━━━━━━\u001b[0m\u001b[37m\u001b[0m \u001b[1m0s\u001b[0m 8ms/step\n"
     ]
    },
    {
     "name": "stderr",
     "output_type": "stream",
     "text": [
      "e:\\Users\\PPL\\anaconda3\\envs\\pytorch\\Lib\\site-packages\\sklearn\\gaussian_process\\kernels.py:455: ConvergenceWarning: The optimal value found for dimension 0 of parameter k1__constant_value is close to the specified upper bound 100000.0. Increasing the bound and calling fit again may find a better value.\n",
      "  warnings.warn(\n"
     ]
    },
    {
     "name": "stdout",
     "output_type": "stream",
     "text": [
      "FCM training RMSE: 379.4921385445738\n",
      "\u001b[1m1/1\u001b[0m \u001b[32m━━━━━━━━━━━━━━━━━━━━\u001b[0m\u001b[37m\u001b[0m \u001b[1m0s\u001b[0m 0s/step\n"
     ]
    },
    {
     "name": "stderr",
     "output_type": "stream",
     "text": [
      "e:\\Users\\PPL\\anaconda3\\envs\\pytorch\\Lib\\site-packages\\sklearn\\gaussian_process\\kernels.py:455: ConvergenceWarning: The optimal value found for dimension 0 of parameter k1__constant_value is close to the specified upper bound 100000.0. Increasing the bound and calling fit again may find a better value.\n",
      "  warnings.warn(\n"
     ]
    },
    {
     "name": "stdout",
     "output_type": "stream",
     "text": [
      "FCM training RMSE: 379.4709624964208\n",
      "\u001b[1m1/1\u001b[0m \u001b[32m━━━━━━━━━━━━━━━━━━━━\u001b[0m\u001b[37m\u001b[0m \u001b[1m0s\u001b[0m 9ms/step\n"
     ]
    },
    {
     "name": "stderr",
     "output_type": "stream",
     "text": [
      "e:\\Users\\PPL\\anaconda3\\envs\\pytorch\\Lib\\site-packages\\sklearn\\gaussian_process\\kernels.py:455: ConvergenceWarning: The optimal value found for dimension 0 of parameter k1__constant_value is close to the specified upper bound 100000.0. Increasing the bound and calling fit again may find a better value.\n",
      "  warnings.warn(\n"
     ]
    },
    {
     "name": "stdout",
     "output_type": "stream",
     "text": [
      "FCM training RMSE: 379.4325836806497\n",
      "\u001b[1m1/1\u001b[0m \u001b[32m━━━━━━━━━━━━━━━━━━━━\u001b[0m\u001b[37m\u001b[0m \u001b[1m0s\u001b[0m 7ms/step\n"
     ]
    },
    {
     "name": "stderr",
     "output_type": "stream",
     "text": [
      "e:\\Users\\PPL\\anaconda3\\envs\\pytorch\\Lib\\site-packages\\sklearn\\gaussian_process\\kernels.py:455: ConvergenceWarning: The optimal value found for dimension 0 of parameter k1__constant_value is close to the specified upper bound 100000.0. Increasing the bound and calling fit again may find a better value.\n",
      "  warnings.warn(\n"
     ]
    },
    {
     "name": "stdout",
     "output_type": "stream",
     "text": [
      "FCM training RMSE: 379.4598507493985\n",
      "\u001b[1m1/1\u001b[0m \u001b[32m━━━━━━━━━━━━━━━━━━━━\u001b[0m\u001b[37m\u001b[0m \u001b[1m0s\u001b[0m 0s/step\n"
     ]
    },
    {
     "name": "stderr",
     "output_type": "stream",
     "text": [
      "e:\\Users\\PPL\\anaconda3\\envs\\pytorch\\Lib\\site-packages\\sklearn\\gaussian_process\\kernels.py:455: ConvergenceWarning: The optimal value found for dimension 0 of parameter k1__constant_value is close to the specified upper bound 100000.0. Increasing the bound and calling fit again may find a better value.\n",
      "  warnings.warn(\n"
     ]
    },
    {
     "name": "stdout",
     "output_type": "stream",
     "text": [
      "FCM training RMSE: 379.5663258851026\n",
      "\u001b[1m1/1\u001b[0m \u001b[32m━━━━━━━━━━━━━━━━━━━━\u001b[0m\u001b[37m\u001b[0m \u001b[1m0s\u001b[0m 2ms/step\n",
      "GP Train RMSE: 387.273 ± 0.317\n",
      "GP Test RMSE: 399.877 ± 0.446\n",
      "GP R2: 0.907 ± 0.0\n",
      "GP Time: 0.041 ± 0.011\n",
      "TS NN R2: 0.999 ± 0.0\n"
     ]
    },
    {
     "name": "stderr",
     "output_type": "stream",
     "text": [
      "e:\\Users\\PPL\\anaconda3\\envs\\pytorch\\Lib\\site-packages\\sklearn\\gaussian_process\\kernels.py:455: ConvergenceWarning: The optimal value found for dimension 0 of parameter k1__constant_value is close to the specified upper bound 100000.0. Increasing the bound and calling fit again may find a better value.\n",
      "  warnings.warn(\n"
     ]
    }
   ],
   "source": [
    "# GPR model\n",
    "gp_nn_tsl_train_accuracy = []\n",
    "gp_nn_tsl_test_accuracy = []\n",
    "gp_nn_tsl_r2s = []\n",
    "nn_tsl_r2s = []\n",
    "gp_nn_tsl_time = []\n",
    "gpr_nn_tsl_model = None\n",
    "\n",
    "# From NN and ts linear\n",
    "for fold in range(number_of_folds):\n",
    "    \n",
    "    kernel = 1.0 * Matern(length_scale=1.0, nu=1.5)\n",
    "    gpr_nn_tsl_model = GaussianProcessRegressor(kernel=kernel, n_restarts_optimizer=9, normalize_y=False)\n",
    "    tsl_model = get_tsl_model(x_train, y_train)\n",
    "    start_time = time.time()\n",
    "    inputs = tsl_model.cen\n",
    "    ts_predictions = ts_relu_wrapper(tsl_model.predict(tsl_model.cen + 1e-8))\n",
    "    nn_predictions = nn_model.predict(inputs)\n",
    "    gpr_nn_tsl_model.fit(inputs, nn_predictions)\n",
    "    time_used = time.time() - start_time\n",
    "\n",
    "    train_means = gpr_nn_tsl_model.predict(x_train)\n",
    "    test_means = gpr_nn_tsl_model.predict(x_test)\n",
    "\n",
    "    train_rmse = root_mean_squared_error(y_train, train_means)\n",
    "    test_rmse = root_mean_squared_error(y_test, test_means)\n",
    "\n",
    "    gp_nn_tsl_train_accuracy.append(train_rmse)\n",
    "    gp_nn_tsl_test_accuracy.append(test_rmse)\n",
    "    gp_r2 = r2_score(y_test, test_means)\n",
    "    gp_nn_tsl_r2s.append(gp_r2)\n",
    "    gp_nn_tsl_time.append(time_used)\n",
    "    nn_tsl_r2s.append(r2_score(ts_predictions, nn_predictions))\n",
    "\n",
    "gp_train_accuracy_mean = np.round(np.mean(gp_nn_tsl_train_accuracy), 3)\n",
    "gp_train_accuracy_std = np.round(np.std(gp_nn_tsl_train_accuracy), 3)\n",
    "gp_test_accuracy_mean = np.round(np.mean(gp_nn_tsl_test_accuracy), 3)\n",
    "gp_test_accuracy_std = np.round(np.std(gp_nn_tsl_test_accuracy),3)\n",
    "gp_r2_mean = np.round(np.mean(gp_nn_tsl_r2s),3)\n",
    "gp_r2_std = np.round(np.std(gp_nn_tsl_r2s),3)\n",
    "gp_time_mean = np.round(np.mean(gp_nn_tsl_time),3)\n",
    "gp_time_std = np.round(np.std(gp_nn_tsl_time),3)\n",
    "nn_ts_r2_mean = np.round(np.mean(nn_tsl_r2s),3)\n",
    "nn_ts_r2_std = np.round(np.std(nn_tsl_r2s),3)\n",
    "\n",
    "print(f\"GP Train RMSE: {gp_train_accuracy_mean} ± {gp_train_accuracy_std}\")\n",
    "print(f\"GP Test RMSE: {gp_test_accuracy_mean} ± {gp_test_accuracy_std}\")\n",
    "print(f\"GP R2: {gp_r2_mean} ± {gp_r2_std}\")\n",
    "print(f\"GP Time: {gp_time_mean} ± {gp_time_std}\")\n",
    "print(f\"TS NN R2: {nn_ts_r2_mean} ± {nn_ts_r2_std}\")\n"
   ]
  }
 ],
 "metadata": {
  "kernelspec": {
   "display_name": "Python 3 (ipykernel)",
   "language": "python",
   "name": "python3"
  },
  "language_info": {
   "codemirror_mode": {
    "name": "ipython",
    "version": 3
   },
   "file_extension": ".py",
   "mimetype": "text/x-python",
   "name": "python",
   "nbconvert_exporter": "python",
   "pygments_lexer": "ipython3",
   "version": "3.11.4"
  }
 },
 "nbformat": 4,
 "nbformat_minor": 5
}
