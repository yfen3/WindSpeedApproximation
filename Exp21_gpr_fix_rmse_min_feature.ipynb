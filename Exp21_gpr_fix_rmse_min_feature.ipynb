{
 "cells": [
  {
   "cell_type": "code",
   "execution_count": 1,
   "id": "e85e59f8",
   "metadata": {},
   "outputs": [],
   "source": [
    "# Get the data for expeirment\n",
    "import sklearn\n",
    "import pandas as pd \n",
    "import numpy as np\n",
    "import time\n",
    "\n",
    "from sklearn import tree\n",
    "from sklearn.metrics import r2_score\n",
    "from sklearn.preprocessing import StandardScaler\n",
    "from sklearn import preprocessing\n",
    "from sklearn.metrics import explained_variance_score, mean_squared_error\n",
    "from scipy.spatial.distance import cdist\n",
    "from numpy.linalg import pinv\n",
    "from math import sqrt\n",
    "\n",
    "from sklearn.gaussian_process import GaussianProcessRegressor\n",
    "from sklearn.gaussian_process.kernels import RBF\n",
    "from sklearn.linear_model import LinearRegression\n",
    "from sklearn.neural_network import MLPRegressor\n",
    "import GprModel\n",
    "from sklearn.model_selection import KFold\n",
    "from sklearn.utils import shuffle\n",
    "from sklearn.model_selection import train_test_split\n",
    "import matplotlib.pyplot as plt\n",
    "import geopy.distance as distance\n",
    "from sklearn.preprocessing import MinMaxScaler\n",
    "\n",
    "import Data_utils\n",
    "import matplotlib.ticker as ticker\n",
    "from functools import reduce\n",
    "from collections import Counter\n",
    "from scipy.optimize import minimize\n",
    "from scipy.spatial.distance import cdist\n",
    "\n",
    "import skgstat as skg\n",
    "from skgstat import Variogram, OrdinaryKriging"
   ]
  },
  {
   "cell_type": "code",
   "execution_count": 2,
   "id": "2b78236f",
   "metadata": {},
   "outputs": [
    {
     "name": "stdout",
     "output_type": "stream",
     "text": [
      "Num GPUs Available:  1\n"
     ]
    }
   ],
   "source": [
    "import tensorflow as tf\n",
    "from tensorflow import keras\n",
    "import matplotlib.pyplot as plt\n",
    "from tensorflow.keras import datasets, layers, models, losses\n",
    "\n",
    "print(\"Num GPUs Available: \", len(tf.config.list_physical_devices('GPU')))"
   ]
  },
  {
   "cell_type": "code",
   "execution_count": 3,
   "id": "6605d015",
   "metadata": {},
   "outputs": [],
   "source": [
    "# Experiment results for all 6 features (precip is removed)\n",
    "# with fixed GPR model"
   ]
  },
  {
   "cell_type": "code",
   "execution_count": 4,
   "id": "3ca57672",
   "metadata": {},
   "outputs": [],
   "source": [
    "plt.rcParams.update({'font.size': 18})"
   ]
  },
  {
   "cell_type": "code",
   "execution_count": 5,
   "id": "6f9fe97f",
   "metadata": {},
   "outputs": [],
   "source": [
    "def subsample_data(data, sample_size = 10000):\n",
    "    indices = np.random.choice(data.shape[0], sample_size, replace=False)\n",
    "    \n",
    "    return indices\n",
    "\n",
    "# Source: From the TSmodel\n",
    "def preprocess_data(train_x, test_x, train_y, test_y):\n",
    "    feature_scaler = StandardScaler()\n",
    "    scaled_train_x = feature_scaler.fit_transform(train_x)\n",
    "    scaled_test_x = feature_scaler.transform(test_x)\n",
    "\n",
    "    target_scaler = StandardScaler()  \n",
    "    scaled_train_y = target_scaler.fit_transform(train_y)\n",
    "    scaled_test_y = target_scaler.transform(test_y)    \n",
    "    \n",
    "    return scaled_train_x, scaled_test_x, scaled_train_y, scaled_test_y, feature_scaler, target_scaler    "
   ]
  },
  {
   "cell_type": "code",
   "execution_count": 6,
   "id": "529b9590",
   "metadata": {},
   "outputs": [],
   "source": [
    "# hyperparameters for the expeirment\n",
    "# This experiment is completed until 10 stations\n",
    "\n",
    "number_of_neighbour_stations = [1,2,3,4,5,6,7,8,9, 10,11,12]\n",
    "\n",
    "# Expeirment related parameters\n",
    "number_of_folds = 10 # have to be 10 fold\n",
    "\n",
    "# Results containers for GP only, other models are saved\n",
    "# GPR is a interpolation method, no need to record traning data.\n",
    "gpr_rbf_test_results = []\n",
    "\n",
    "# Determine the optimal value for the given hyperparameter\n",
    "def do_experiment(hyper_parameter_to_test_values):    \n",
    "    for hyperparameter_value in hyper_parameter_to_test_values:\n",
    "        \n",
    "        # Station data is generated already, only need to train the model\n",
    "        flatten_train_x = pd.read_csv(f\"Data/exp/{hyperparameter_value}x.csv\", index_col=0).to_numpy()\n",
    "        # Select the wind speed only\n",
    "        flatten_train_y = pd.read_csv(f\"Data/exp/{hyperparameter_value}y.csv\", index_col=0)['0'].to_numpy().reshape(-1, 1)\n",
    "        \n",
    "        # Reshape the data per time stamp\n",
    "        flatten_train_x_reshaped = flatten_train_x.reshape(20,-1, flatten_train_x.shape[-1])\n",
    "        flatten_train_y_reshaped = flatten_train_y.reshape(20,-1, flatten_train_y.shape[-1])\n",
    "        \n",
    "        flatten_test_x = pd.read_csv(f\"Data/exp/{hyperparameter_value}x_test.csv\", index_col=0).to_numpy()\n",
    "         # Select the wind speed only\n",
    "        flatten_test_y = pd.read_csv(f\"Data/exp/{hyperparameter_value}y_test.csv\", index_col=0)['0'].to_numpy().reshape(-1, 1)\n",
    "              \n",
    "        test_results_fold = []\n",
    "        \n",
    "        for i in range(0, number_of_folds):            \n",
    "            print(f\"Currently running fold {i} for {hyperparameter_value} stations\")\n",
    "            indices = np.random.choice(flatten_train_x_reshaped.shape[1], 200, replace=False)\n",
    "            \n",
    "            #kernel = 1.0 * RBF(1.0)\n",
    "            gpr_train_x = np.vstack(flatten_train_x_reshaped[:,indices,:])\n",
    "            gpr_train_y = np.vstack(flatten_train_y_reshaped[:,indices,:].reshape(-1,1))\n",
    "            \n",
    "            gpr_model = GprModel.GprModel()\n",
    "            gpr_model.fit(np.vstack(flatten_train_x_reshaped[:,indices,:]), np.vstack(flatten_train_y_reshaped[:,indices,:].reshape(-1,1)))\n",
    "            # GP models test\n",
    "            mean, rmse = gpr_model.predict(flatten_test_x, flatten_test_y)\n",
    "                \n",
    "            test_results_fold.append({'gpr_test' : rmse})\n",
    "            \n",
    "            print(rmse)\n",
    "            \n",
    "        #After all folds are done, update the result containers\n",
    "        gpr_rbf_test_results.append(test_results_fold)\n",
    "        "
   ]
  },
  {
   "cell_type": "code",
   "execution_count": 7,
   "id": "fd58cf4e",
   "metadata": {
    "scrolled": true
   },
   "outputs": [
    {
     "name": "stdout",
     "output_type": "stream",
     "text": [
      "Currently running fold 0 for 1 stations\n"
     ]
    },
    {
     "name": "stderr",
     "output_type": "stream",
     "text": [
      "E:\\Users\\PPL\\anaconda3\\envs\\tf\\lib\\site-packages\\scipy\\optimize\\_numdiff.py:576: RuntimeWarning: invalid value encountered in subtract\n",
      "  df = fun(x) - f0\n"
     ]
    },
    {
     "name": "stdout",
     "output_type": "stream",
     "text": [
      "[1. 1. 1.]\n",
      "Root Mean Squared Error: 722.7068660453333\n",
      "722.7068660453333\n",
      "Currently running fold 1 for 1 stations\n"
     ]
    },
    {
     "name": "stderr",
     "output_type": "stream",
     "text": [
      "E:\\Users\\PPL\\anaconda3\\envs\\tf\\lib\\site-packages\\scipy\\optimize\\_numdiff.py:576: RuntimeWarning: invalid value encountered in subtract\n",
      "  df = fun(x) - f0\n"
     ]
    },
    {
     "name": "stdout",
     "output_type": "stream",
     "text": [
      "[1. 1. 1.]\n",
      "Root Mean Squared Error: 535.8712655906223\n",
      "535.8712655906223\n",
      "Currently running fold 2 for 1 stations\n"
     ]
    },
    {
     "name": "stderr",
     "output_type": "stream",
     "text": [
      "E:\\Users\\PPL\\anaconda3\\envs\\tf\\lib\\site-packages\\scipy\\optimize\\_numdiff.py:576: RuntimeWarning: invalid value encountered in subtract\n",
      "  df = fun(x) - f0\n"
     ]
    },
    {
     "name": "stdout",
     "output_type": "stream",
     "text": [
      "[1. 1. 1.]\n",
      "Root Mean Squared Error: 2370.05557540376\n",
      "2370.05557540376\n",
      "Currently running fold 3 for 1 stations\n"
     ]
    },
    {
     "name": "stderr",
     "output_type": "stream",
     "text": [
      "E:\\Users\\PPL\\anaconda3\\envs\\tf\\lib\\site-packages\\scipy\\optimize\\_numdiff.py:576: RuntimeWarning: invalid value encountered in subtract\n",
      "  df = fun(x) - f0\n"
     ]
    },
    {
     "name": "stdout",
     "output_type": "stream",
     "text": [
      "[1. 1. 1.]\n",
      "Root Mean Squared Error: 794.2737241825653\n",
      "794.2737241825653\n",
      "Currently running fold 4 for 1 stations\n"
     ]
    },
    {
     "name": "stderr",
     "output_type": "stream",
     "text": [
      "E:\\Users\\PPL\\anaconda3\\envs\\tf\\lib\\site-packages\\scipy\\optimize\\_numdiff.py:576: RuntimeWarning: invalid value encountered in subtract\n",
      "  df = fun(x) - f0\n"
     ]
    },
    {
     "name": "stdout",
     "output_type": "stream",
     "text": [
      "[1. 1. 1.]\n",
      "Root Mean Squared Error: 492.64325782794094\n",
      "492.64325782794094\n",
      "Currently running fold 5 for 1 stations\n"
     ]
    },
    {
     "name": "stderr",
     "output_type": "stream",
     "text": [
      "E:\\Users\\PPL\\anaconda3\\envs\\tf\\lib\\site-packages\\scipy\\optimize\\_numdiff.py:576: RuntimeWarning: invalid value encountered in subtract\n",
      "  df = fun(x) - f0\n"
     ]
    },
    {
     "name": "stdout",
     "output_type": "stream",
     "text": [
      "[1. 1. 1.]\n",
      "Root Mean Squared Error: 660.7701399288388\n",
      "660.7701399288388\n",
      "Currently running fold 6 for 1 stations\n"
     ]
    },
    {
     "name": "stderr",
     "output_type": "stream",
     "text": [
      "E:\\Users\\PPL\\anaconda3\\envs\\tf\\lib\\site-packages\\scipy\\optimize\\_numdiff.py:576: RuntimeWarning: invalid value encountered in subtract\n",
      "  df = fun(x) - f0\n"
     ]
    },
    {
     "name": "stdout",
     "output_type": "stream",
     "text": [
      "[1. 1. 1.]\n",
      "Root Mean Squared Error: 720.2593427680545\n",
      "720.2593427680545\n",
      "Currently running fold 7 for 1 stations\n"
     ]
    },
    {
     "name": "stderr",
     "output_type": "stream",
     "text": [
      "E:\\Users\\PPL\\anaconda3\\envs\\tf\\lib\\site-packages\\scipy\\optimize\\_numdiff.py:576: RuntimeWarning: invalid value encountered in subtract\n",
      "  df = fun(x) - f0\n"
     ]
    },
    {
     "name": "stdout",
     "output_type": "stream",
     "text": [
      "[1. 1. 1.]\n",
      "Root Mean Squared Error: 944.62619839984\n",
      "944.62619839984\n",
      "Currently running fold 8 for 1 stations\n"
     ]
    },
    {
     "name": "stderr",
     "output_type": "stream",
     "text": [
      "E:\\Users\\PPL\\anaconda3\\envs\\tf\\lib\\site-packages\\scipy\\optimize\\_numdiff.py:576: RuntimeWarning: invalid value encountered in subtract\n",
      "  df = fun(x) - f0\n"
     ]
    },
    {
     "name": "stdout",
     "output_type": "stream",
     "text": [
      "[1. 1. 1.]\n",
      "Root Mean Squared Error: 962.907315117336\n",
      "962.907315117336\n",
      "Currently running fold 9 for 1 stations\n"
     ]
    },
    {
     "name": "stderr",
     "output_type": "stream",
     "text": [
      "E:\\Users\\PPL\\anaconda3\\envs\\tf\\lib\\site-packages\\scipy\\optimize\\_numdiff.py:576: RuntimeWarning: invalid value encountered in subtract\n",
      "  df = fun(x) - f0\n"
     ]
    },
    {
     "name": "stdout",
     "output_type": "stream",
     "text": [
      "[1. 1. 1.]\n",
      "Root Mean Squared Error: 481.1429185945711\n",
      "481.1429185945711\n",
      "Currently running fold 0 for 2 stations\n"
     ]
    },
    {
     "name": "stderr",
     "output_type": "stream",
     "text": [
      "E:\\Users\\PPL\\anaconda3\\envs\\tf\\lib\\site-packages\\scipy\\optimize\\_numdiff.py:576: RuntimeWarning: invalid value encountered in subtract\n",
      "  df = fun(x) - f0\n"
     ]
    },
    {
     "name": "stdout",
     "output_type": "stream",
     "text": [
      "[1. 1. 1.]\n",
      "Root Mean Squared Error: 536.7890009686317\n",
      "536.7890009686317\n",
      "Currently running fold 1 for 2 stations\n"
     ]
    },
    {
     "name": "stderr",
     "output_type": "stream",
     "text": [
      "E:\\Users\\PPL\\anaconda3\\envs\\tf\\lib\\site-packages\\scipy\\optimize\\_numdiff.py:576: RuntimeWarning: invalid value encountered in subtract\n",
      "  df = fun(x) - f0\n"
     ]
    },
    {
     "name": "stdout",
     "output_type": "stream",
     "text": [
      "[1. 1. 1.]\n",
      "Root Mean Squared Error: 539.774775528829\n",
      "539.774775528829\n",
      "Currently running fold 2 for 2 stations\n"
     ]
    },
    {
     "name": "stderr",
     "output_type": "stream",
     "text": [
      "E:\\Users\\PPL\\anaconda3\\envs\\tf\\lib\\site-packages\\scipy\\optimize\\_numdiff.py:576: RuntimeWarning: invalid value encountered in subtract\n",
      "  df = fun(x) - f0\n"
     ]
    },
    {
     "name": "stdout",
     "output_type": "stream",
     "text": [
      "[1. 1. 1.]\n",
      "Root Mean Squared Error: 748.1141180847602\n",
      "748.1141180847602\n",
      "Currently running fold 3 for 2 stations\n"
     ]
    },
    {
     "name": "stderr",
     "output_type": "stream",
     "text": [
      "E:\\Users\\PPL\\anaconda3\\envs\\tf\\lib\\site-packages\\scipy\\optimize\\_numdiff.py:576: RuntimeWarning: invalid value encountered in subtract\n",
      "  df = fun(x) - f0\n"
     ]
    },
    {
     "name": "stdout",
     "output_type": "stream",
     "text": [
      "[1. 1. 1.]\n",
      "Root Mean Squared Error: 980.8980581888301\n",
      "980.8980581888301\n",
      "Currently running fold 4 for 2 stations\n"
     ]
    },
    {
     "name": "stderr",
     "output_type": "stream",
     "text": [
      "E:\\Users\\PPL\\anaconda3\\envs\\tf\\lib\\site-packages\\scipy\\optimize\\_numdiff.py:576: RuntimeWarning: invalid value encountered in subtract\n",
      "  df = fun(x) - f0\n"
     ]
    },
    {
     "name": "stdout",
     "output_type": "stream",
     "text": [
      "[1. 1. 1.]\n",
      "Root Mean Squared Error: 1386.6487776729193\n",
      "1386.6487776729193\n",
      "Currently running fold 5 for 2 stations\n"
     ]
    },
    {
     "name": "stderr",
     "output_type": "stream",
     "text": [
      "E:\\Users\\PPL\\anaconda3\\envs\\tf\\lib\\site-packages\\scipy\\optimize\\_numdiff.py:576: RuntimeWarning: invalid value encountered in subtract\n",
      "  df = fun(x) - f0\n"
     ]
    },
    {
     "name": "stdout",
     "output_type": "stream",
     "text": [
      "[1. 1. 1.]\n",
      "Root Mean Squared Error: 666.8373817574028\n",
      "666.8373817574028\n",
      "Currently running fold 6 for 2 stations\n"
     ]
    },
    {
     "name": "stderr",
     "output_type": "stream",
     "text": [
      "E:\\Users\\PPL\\anaconda3\\envs\\tf\\lib\\site-packages\\scipy\\optimize\\_numdiff.py:576: RuntimeWarning: invalid value encountered in subtract\n",
      "  df = fun(x) - f0\n"
     ]
    },
    {
     "name": "stdout",
     "output_type": "stream",
     "text": [
      "[1. 1. 1.]\n",
      "Root Mean Squared Error: 964.1144109522503\n",
      "964.1144109522503\n",
      "Currently running fold 7 for 2 stations\n"
     ]
    },
    {
     "name": "stderr",
     "output_type": "stream",
     "text": [
      "E:\\Users\\PPL\\anaconda3\\envs\\tf\\lib\\site-packages\\scipy\\optimize\\_numdiff.py:576: RuntimeWarning: invalid value encountered in subtract\n",
      "  df = fun(x) - f0\n"
     ]
    },
    {
     "name": "stdout",
     "output_type": "stream",
     "text": [
      "[1. 1. 1.]\n",
      "Root Mean Squared Error: 715.2162288316164\n",
      "715.2162288316164\n",
      "Currently running fold 8 for 2 stations\n"
     ]
    },
    {
     "name": "stderr",
     "output_type": "stream",
     "text": [
      "E:\\Users\\PPL\\anaconda3\\envs\\tf\\lib\\site-packages\\scipy\\optimize\\_numdiff.py:576: RuntimeWarning: invalid value encountered in subtract\n",
      "  df = fun(x) - f0\n"
     ]
    },
    {
     "name": "stdout",
     "output_type": "stream",
     "text": [
      "[1. 1. 1.]\n",
      "Root Mean Squared Error: 684.7344675974487\n",
      "684.7344675974487\n",
      "Currently running fold 9 for 2 stations\n"
     ]
    },
    {
     "name": "stderr",
     "output_type": "stream",
     "text": [
      "E:\\Users\\PPL\\anaconda3\\envs\\tf\\lib\\site-packages\\scipy\\optimize\\_numdiff.py:576: RuntimeWarning: invalid value encountered in subtract\n",
      "  df = fun(x) - f0\n"
     ]
    },
    {
     "name": "stdout",
     "output_type": "stream",
     "text": [
      "[1. 1. 1.]\n",
      "Root Mean Squared Error: 573.4306270763404\n",
      "573.4306270763404\n",
      "Currently running fold 0 for 3 stations\n"
     ]
    },
    {
     "name": "stderr",
     "output_type": "stream",
     "text": [
      "E:\\Users\\PPL\\anaconda3\\envs\\tf\\lib\\site-packages\\scipy\\optimize\\_numdiff.py:576: RuntimeWarning: invalid value encountered in subtract\n",
      "  df = fun(x) - f0\n"
     ]
    },
    {
     "name": "stdout",
     "output_type": "stream",
     "text": [
      "[1. 1. 1.]\n",
      "Root Mean Squared Error: 130.1204282238296\n",
      "130.1204282238296\n",
      "Currently running fold 1 for 3 stations\n"
     ]
    },
    {
     "name": "stderr",
     "output_type": "stream",
     "text": [
      "E:\\Users\\PPL\\anaconda3\\envs\\tf\\lib\\site-packages\\scipy\\optimize\\_numdiff.py:576: RuntimeWarning: invalid value encountered in subtract\n",
      "  df = fun(x) - f0\n"
     ]
    },
    {
     "name": "stdout",
     "output_type": "stream",
     "text": [
      "[1. 1. 1.]\n",
      "Root Mean Squared Error: 99.7952394332634\n",
      "99.7952394332634\n",
      "Currently running fold 2 for 3 stations\n"
     ]
    },
    {
     "name": "stderr",
     "output_type": "stream",
     "text": [
      "E:\\Users\\PPL\\anaconda3\\envs\\tf\\lib\\site-packages\\scipy\\optimize\\_numdiff.py:576: RuntimeWarning: invalid value encountered in subtract\n",
      "  df = fun(x) - f0\n"
     ]
    },
    {
     "name": "stdout",
     "output_type": "stream",
     "text": [
      "[1. 1. 1.]\n",
      "Root Mean Squared Error: 526.5025532650419\n",
      "526.5025532650419\n",
      "Currently running fold 3 for 3 stations\n"
     ]
    },
    {
     "name": "stderr",
     "output_type": "stream",
     "text": [
      "E:\\Users\\PPL\\anaconda3\\envs\\tf\\lib\\site-packages\\scipy\\optimize\\_numdiff.py:576: RuntimeWarning: invalid value encountered in subtract\n",
      "  df = fun(x) - f0\n"
     ]
    },
    {
     "name": "stdout",
     "output_type": "stream",
     "text": [
      "[1. 1. 1.]\n",
      "Root Mean Squared Error: 166.6178813116596\n",
      "166.6178813116596\n",
      "Currently running fold 4 for 3 stations\n"
     ]
    },
    {
     "name": "stderr",
     "output_type": "stream",
     "text": [
      "E:\\Users\\PPL\\anaconda3\\envs\\tf\\lib\\site-packages\\scipy\\optimize\\_numdiff.py:576: RuntimeWarning: invalid value encountered in subtract\n",
      "  df = fun(x) - f0\n"
     ]
    },
    {
     "name": "stdout",
     "output_type": "stream",
     "text": [
      "[1. 1. 1.]\n",
      "Root Mean Squared Error: 111.64036361276551\n",
      "111.64036361276551\n",
      "Currently running fold 5 for 3 stations\n"
     ]
    },
    {
     "name": "stderr",
     "output_type": "stream",
     "text": [
      "E:\\Users\\PPL\\anaconda3\\envs\\tf\\lib\\site-packages\\scipy\\optimize\\_numdiff.py:576: RuntimeWarning: invalid value encountered in subtract\n",
      "  df = fun(x) - f0\n"
     ]
    },
    {
     "name": "stdout",
     "output_type": "stream",
     "text": [
      "[1. 1. 1.]\n",
      "Root Mean Squared Error: 75.09363797551227\n",
      "75.09363797551227\n",
      "Currently running fold 6 for 3 stations\n"
     ]
    },
    {
     "name": "stderr",
     "output_type": "stream",
     "text": [
      "E:\\Users\\PPL\\anaconda3\\envs\\tf\\lib\\site-packages\\scipy\\optimize\\_numdiff.py:576: RuntimeWarning: invalid value encountered in subtract\n",
      "  df = fun(x) - f0\n"
     ]
    },
    {
     "name": "stdout",
     "output_type": "stream",
     "text": [
      "[1. 1. 1.]\n",
      "Root Mean Squared Error: 51.57347217835206\n",
      "51.57347217835206\n",
      "Currently running fold 7 for 3 stations\n"
     ]
    },
    {
     "name": "stderr",
     "output_type": "stream",
     "text": [
      "E:\\Users\\PPL\\anaconda3\\envs\\tf\\lib\\site-packages\\scipy\\optimize\\_numdiff.py:576: RuntimeWarning: invalid value encountered in subtract\n",
      "  df = fun(x) - f0\n"
     ]
    },
    {
     "name": "stdout",
     "output_type": "stream",
     "text": [
      "[1. 1. 1.]\n",
      "Root Mean Squared Error: 66.40465487573276\n",
      "66.40465487573276\n",
      "Currently running fold 8 for 3 stations\n"
     ]
    },
    {
     "name": "stderr",
     "output_type": "stream",
     "text": [
      "E:\\Users\\PPL\\anaconda3\\envs\\tf\\lib\\site-packages\\scipy\\optimize\\_numdiff.py:576: RuntimeWarning: invalid value encountered in subtract\n",
      "  df = fun(x) - f0\n"
     ]
    },
    {
     "name": "stdout",
     "output_type": "stream",
     "text": [
      "[1. 1. 1.]\n",
      "Root Mean Squared Error: 87.52503888661391\n",
      "87.52503888661391\n",
      "Currently running fold 9 for 3 stations\n"
     ]
    },
    {
     "name": "stderr",
     "output_type": "stream",
     "text": [
      "E:\\Users\\PPL\\anaconda3\\envs\\tf\\lib\\site-packages\\scipy\\optimize\\_numdiff.py:576: RuntimeWarning: invalid value encountered in subtract\n",
      "  df = fun(x) - f0\n"
     ]
    },
    {
     "name": "stdout",
     "output_type": "stream",
     "text": [
      "[1. 1. 1.]\n",
      "Root Mean Squared Error: 89.16271927931729\n",
      "89.16271927931729\n",
      "Currently running fold 0 for 4 stations\n"
     ]
    },
    {
     "name": "stderr",
     "output_type": "stream",
     "text": [
      "E:\\Users\\PPL\\anaconda3\\envs\\tf\\lib\\site-packages\\scipy\\optimize\\_numdiff.py:576: RuntimeWarning: invalid value encountered in subtract\n",
      "  df = fun(x) - f0\n"
     ]
    },
    {
     "name": "stdout",
     "output_type": "stream",
     "text": [
      "[1. 1. 1.]\n",
      "Root Mean Squared Error: 11.065336058016491\n",
      "11.065336058016491\n",
      "Currently running fold 1 for 4 stations\n"
     ]
    },
    {
     "name": "stderr",
     "output_type": "stream",
     "text": [
      "E:\\Users\\PPL\\anaconda3\\envs\\tf\\lib\\site-packages\\scipy\\optimize\\_numdiff.py:576: RuntimeWarning: invalid value encountered in subtract\n",
      "  df = fun(x) - f0\n"
     ]
    },
    {
     "name": "stdout",
     "output_type": "stream",
     "text": [
      "[1. 1. 1.]\n",
      "Root Mean Squared Error: 15.934278968383461\n",
      "15.934278968383461\n",
      "Currently running fold 2 for 4 stations\n"
     ]
    },
    {
     "name": "stderr",
     "output_type": "stream",
     "text": [
      "E:\\Users\\PPL\\anaconda3\\envs\\tf\\lib\\site-packages\\scipy\\optimize\\_numdiff.py:576: RuntimeWarning: invalid value encountered in subtract\n",
      "  df = fun(x) - f0\n"
     ]
    },
    {
     "name": "stdout",
     "output_type": "stream",
     "text": [
      "[1. 1. 1.]\n",
      "Root Mean Squared Error: 13.46585360870584\n",
      "13.46585360870584\n",
      "Currently running fold 3 for 4 stations\n"
     ]
    },
    {
     "name": "stderr",
     "output_type": "stream",
     "text": [
      "E:\\Users\\PPL\\anaconda3\\envs\\tf\\lib\\site-packages\\scipy\\optimize\\_numdiff.py:576: RuntimeWarning: invalid value encountered in subtract\n",
      "  df = fun(x) - f0\n"
     ]
    },
    {
     "name": "stdout",
     "output_type": "stream",
     "text": [
      "[1. 1. 1.]\n",
      "Root Mean Squared Error: 12.306239726348245\n",
      "12.306239726348245\n",
      "Currently running fold 4 for 4 stations\n"
     ]
    },
    {
     "name": "stderr",
     "output_type": "stream",
     "text": [
      "E:\\Users\\PPL\\anaconda3\\envs\\tf\\lib\\site-packages\\scipy\\optimize\\_numdiff.py:576: RuntimeWarning: invalid value encountered in subtract\n",
      "  df = fun(x) - f0\n"
     ]
    },
    {
     "name": "stdout",
     "output_type": "stream",
     "text": [
      "[1. 1. 1.]\n",
      "Root Mean Squared Error: 12.178710621460898\n",
      "12.178710621460898\n",
      "Currently running fold 5 for 4 stations\n"
     ]
    },
    {
     "name": "stderr",
     "output_type": "stream",
     "text": [
      "E:\\Users\\PPL\\anaconda3\\envs\\tf\\lib\\site-packages\\scipy\\optimize\\_numdiff.py:576: RuntimeWarning: invalid value encountered in subtract\n",
      "  df = fun(x) - f0\n"
     ]
    },
    {
     "name": "stdout",
     "output_type": "stream",
     "text": [
      "[1. 1. 1.]\n",
      "Root Mean Squared Error: 10.43887626535966\n",
      "10.43887626535966\n",
      "Currently running fold 6 for 4 stations\n"
     ]
    },
    {
     "name": "stderr",
     "output_type": "stream",
     "text": [
      "E:\\Users\\PPL\\anaconda3\\envs\\tf\\lib\\site-packages\\scipy\\optimize\\_numdiff.py:576: RuntimeWarning: invalid value encountered in subtract\n",
      "  df = fun(x) - f0\n"
     ]
    },
    {
     "name": "stdout",
     "output_type": "stream",
     "text": [
      "[1. 1. 1.]\n",
      "Root Mean Squared Error: 11.226177870217963\n",
      "11.226177870217963\n",
      "Currently running fold 7 for 4 stations\n"
     ]
    },
    {
     "name": "stderr",
     "output_type": "stream",
     "text": [
      "E:\\Users\\PPL\\anaconda3\\envs\\tf\\lib\\site-packages\\scipy\\optimize\\_numdiff.py:576: RuntimeWarning: invalid value encountered in subtract\n",
      "  df = fun(x) - f0\n"
     ]
    },
    {
     "name": "stdout",
     "output_type": "stream",
     "text": [
      "[1. 1. 1.]\n",
      "Root Mean Squared Error: 19.28312016973535\n",
      "19.28312016973535\n",
      "Currently running fold 8 for 4 stations\n"
     ]
    },
    {
     "name": "stderr",
     "output_type": "stream",
     "text": [
      "E:\\Users\\PPL\\anaconda3\\envs\\tf\\lib\\site-packages\\scipy\\optimize\\_numdiff.py:576: RuntimeWarning: invalid value encountered in subtract\n",
      "  df = fun(x) - f0\n"
     ]
    },
    {
     "name": "stdout",
     "output_type": "stream",
     "text": [
      "[1. 1. 1.]\n",
      "Root Mean Squared Error: 13.995331888319638\n",
      "13.995331888319638\n",
      "Currently running fold 9 for 4 stations\n"
     ]
    },
    {
     "name": "stderr",
     "output_type": "stream",
     "text": [
      "E:\\Users\\PPL\\anaconda3\\envs\\tf\\lib\\site-packages\\scipy\\optimize\\_numdiff.py:576: RuntimeWarning: invalid value encountered in subtract\n",
      "  df = fun(x) - f0\n"
     ]
    },
    {
     "name": "stdout",
     "output_type": "stream",
     "text": [
      "[1. 1. 1.]\n",
      "Root Mean Squared Error: 11.310491159482442\n",
      "11.310491159482442\n",
      "Currently running fold 0 for 5 stations\n",
      "[3.64259477 1.04371183 0.05531677]\n",
      "Root Mean Squared Error: 8.07021805582777\n",
      "8.07021805582777\n",
      "Currently running fold 1 for 5 stations\n",
      "[3.51407825 1.02287047 0.06015186]\n",
      "Root Mean Squared Error: 8.098916438213482\n",
      "8.098916438213482\n",
      "Currently running fold 2 for 5 stations\n",
      "[3.59297765 1.02061176 0.04729935]\n",
      "Root Mean Squared Error: 8.064960799310867\n",
      "8.064960799310867\n",
      "Currently running fold 3 for 5 stations\n",
      "[3.7744044  1.02621037 0.0774278 ]\n",
      "Root Mean Squared Error: 8.018370052896158\n",
      "8.018370052896158\n",
      "Currently running fold 4 for 5 stations\n",
      "[3.63722319 1.06064048 0.07497106]\n",
      "Root Mean Squared Error: 8.111970949221652\n",
      "8.111970949221652\n",
      "Currently running fold 5 for 5 stations\n",
      "[3.69893841 1.0181415  0.082775  ]\n",
      "Root Mean Squared Error: 8.068572105687599\n",
      "8.068572105687599\n",
      "Currently running fold 6 for 5 stations\n",
      "[3.6552485  1.03502611 0.06537725]\n",
      "Root Mean Squared Error: 8.035865421217311\n",
      "8.035865421217311\n",
      "Currently running fold 7 for 5 stations\n",
      "[3.77779876 1.04125334 0.08012798]\n",
      "Root Mean Squared Error: 7.988845506840082\n",
      "7.988845506840082\n",
      "Currently running fold 8 for 5 stations\n",
      "[3.62686491 1.02639317 0.07509234]\n",
      "Root Mean Squared Error: 8.054316377689286\n",
      "8.054316377689286\n",
      "Currently running fold 9 for 5 stations\n",
      "[3.72529565 1.03788779 0.07880074]\n",
      "Root Mean Squared Error: 8.081873555559815\n",
      "8.081873555559815\n",
      "Currently running fold 0 for 6 stations\n",
      "[5.23645957 1.01954054 0.11067761]\n",
      "Root Mean Squared Error: 7.798422131276371\n",
      "7.798422131276371\n",
      "Currently running fold 1 for 6 stations\n",
      "[4.82917741 1.0579251  0.10852916]\n",
      "Root Mean Squared Error: 7.951179246347408\n",
      "7.951179246347408\n",
      "Currently running fold 2 for 6 stations\n",
      "[5.01500778 1.03057698 0.13527538]\n",
      "Root Mean Squared Error: 7.807444782825624\n",
      "7.807444782825624\n",
      "Currently running fold 3 for 6 stations\n",
      "[4.83893989 1.0183557  0.08043333]\n",
      "Root Mean Squared Error: 7.913528056318994\n",
      "7.913528056318994\n",
      "Currently running fold 4 for 6 stations\n",
      "[4.95792195 1.0098721  0.09167523]\n",
      "Root Mean Squared Error: 7.861460619693342\n",
      "7.861460619693342\n",
      "Currently running fold 5 for 6 stations\n",
      "[5.38689339 1.05304006 0.11416742]\n",
      "Root Mean Squared Error: 7.808558751087016\n",
      "7.808558751087016\n",
      "Currently running fold 6 for 6 stations\n",
      "[4.67878736 1.0185866  0.06527111]\n",
      "Root Mean Squared Error: 7.982794157562948\n",
      "7.982794157562948\n",
      "Currently running fold 7 for 6 stations\n",
      "[5.07232233 1.038799   0.10139206]\n",
      "Root Mean Squared Error: 7.852429874394194\n",
      "7.852429874394194\n",
      "Currently running fold 8 for 6 stations\n",
      "[5.08211253 1.03658465 0.09490142]\n",
      "Root Mean Squared Error: 7.8577939300507404\n",
      "7.8577939300507404\n",
      "Currently running fold 9 for 6 stations\n",
      "[4.90987578 1.03114895 0.08427441]\n",
      "Root Mean Squared Error: 7.973812690064248\n",
      "7.973812690064248\n",
      "Currently running fold 0 for 7 stations\n",
      "[6.15798272 1.0252678  0.12459253]\n",
      "Root Mean Squared Error: 7.769187782409\n",
      "7.769187782409\n",
      "Currently running fold 1 for 7 stations\n",
      "[6.49401029 1.03360691 0.13216559]\n",
      "Root Mean Squared Error: 7.719939841529299\n",
      "7.719939841529299\n",
      "Currently running fold 2 for 7 stations\n",
      "[6.27941863 1.04083912 0.13849195]\n",
      "Root Mean Squared Error: 7.745926864895437\n",
      "7.745926864895437\n",
      "Currently running fold 3 for 7 stations\n",
      "[6.25352476 1.05452259 0.11384735]\n",
      "Root Mean Squared Error: 7.780838136123994\n",
      "7.780838136123994\n",
      "Currently running fold 4 for 7 stations\n",
      "[6.16009242 1.01769394 0.12258954]\n",
      "Root Mean Squared Error: 7.742063853890883\n",
      "7.742063853890883\n",
      "Currently running fold 5 for 7 stations\n",
      "[6.06802883 1.04684772 0.0942082 ]\n",
      "Root Mean Squared Error: 7.897024491566855\n",
      "7.897024491566855\n",
      "Currently running fold 6 for 7 stations\n",
      "[6.41118271 1.00738308 0.10487534]\n",
      "Root Mean Squared Error: 7.705428588768304\n",
      "7.705428588768304\n",
      "Currently running fold 7 for 7 stations\n",
      "[6.2215135  1.05692469 0.12467367]\n",
      "Root Mean Squared Error: 7.760608504969576\n",
      "7.760608504969576\n",
      "Currently running fold 8 for 7 stations\n",
      "[6.43361628 1.03081668 0.12245229]\n",
      "Root Mean Squared Error: 7.685618068806526\n",
      "7.685618068806526\n",
      "Currently running fold 9 for 7 stations\n",
      "[6.13503579 1.03562571 0.12332597]\n",
      "Root Mean Squared Error: 7.702307877933166\n",
      "7.702307877933166\n",
      "Currently running fold 0 for 8 stations\n",
      "[8.16262082 1.03215488 0.20178556]\n",
      "Root Mean Squared Error: 7.50457229864931\n",
      "7.50457229864931\n",
      "Currently running fold 1 for 8 stations\n",
      "[6.69125478 1.05889505 0.08279835]\n",
      "Root Mean Squared Error: 7.9340502080672195\n",
      "7.9340502080672195\n",
      "Currently running fold 2 for 8 stations\n",
      "[7.45478204 1.01462422 0.12071715]\n",
      "Root Mean Squared Error: 7.656284186504113\n",
      "7.656284186504113\n",
      "Currently running fold 3 for 8 stations\n",
      "[7.66512663 1.03781342 0.15914255]\n",
      "Root Mean Squared Error: 7.660357035605195\n",
      "7.660357035605195\n",
      "Currently running fold 4 for 8 stations\n",
      "[7.48850313 1.03826324 0.17396741]\n",
      "Root Mean Squared Error: 7.664846399054548\n",
      "7.664846399054548\n",
      "Currently running fold 5 for 8 stations\n",
      "[7.37493617 1.02349724 0.12224041]\n",
      "Root Mean Squared Error: 7.7045211519271755\n",
      "7.7045211519271755\n",
      "Currently running fold 6 for 8 stations\n",
      "[7.84458453 1.04525022 0.11528275]\n",
      "Root Mean Squared Error: 7.654839831446056\n",
      "7.654839831446056\n",
      "Currently running fold 7 for 8 stations\n",
      "[7.6354556  1.05623519 0.17267419]\n",
      "Root Mean Squared Error: 7.653968168797561\n",
      "7.653968168797561\n",
      "Currently running fold 8 for 8 stations\n",
      "[7.38482198 1.03357279 0.15218882]\n",
      "Root Mean Squared Error: 7.633986973093429\n",
      "7.633986973093429\n",
      "Currently running fold 9 for 8 stations\n",
      "[7.63721979 1.07016199 0.16845523]\n",
      "Root Mean Squared Error: 7.653307780317957\n",
      "7.653307780317957\n",
      "Currently running fold 0 for 9 stations\n",
      "[8.92408121 1.04307653 0.14621309]\n",
      "Root Mean Squared Error: 7.521675861016215\n",
      "7.521675861016215\n",
      "Currently running fold 1 for 9 stations\n",
      "[8.63974144 1.04472215 0.16548756]\n",
      "Root Mean Squared Error: 7.615107568414652\n",
      "7.615107568414652\n",
      "Currently running fold 2 for 9 stations\n",
      "[8.15621688 0.96968446 0.09923138]\n",
      "Root Mean Squared Error: 7.621144210934754\n",
      "7.621144210934754\n",
      "Currently running fold 3 for 9 stations\n",
      "[8.81657714 1.02939487 0.14270361]\n",
      "Root Mean Squared Error: 7.596397326187971\n",
      "7.596397326187971\n",
      "Currently running fold 4 for 9 stations\n",
      "[9.10082559 1.03589185 0.16836719]\n",
      "Root Mean Squared Error: 7.562998181939731\n",
      "7.562998181939731\n",
      "Currently running fold 5 for 9 stations\n",
      "[8.80268486 1.01609111 0.12562353]\n",
      "Root Mean Squared Error: 7.566909036950391\n",
      "7.566909036950391\n",
      "Currently running fold 6 for 9 stations\n",
      "[8.22534771 1.05223758 0.13324531]\n",
      "Root Mean Squared Error: 7.6218571724131925\n",
      "7.6218571724131925\n",
      "Currently running fold 7 for 9 stations\n",
      "[9.13471965 1.02466174 0.14063967]\n",
      "Root Mean Squared Error: 7.600411805713119\n",
      "7.600411805713119\n",
      "Currently running fold 8 for 9 stations\n",
      "[8.79251561 1.0278938  0.13306407]\n",
      "Root Mean Squared Error: 7.603321005839574\n",
      "7.603321005839574\n",
      "Currently running fold 9 for 9 stations\n",
      "[8.7532504  1.06812393 0.16828035]\n",
      "Root Mean Squared Error: 7.603713970658466\n",
      "7.603713970658466\n",
      "Currently running fold 0 for 10 stations\n",
      "[10.10243874  1.055882    0.20610787]\n",
      "Root Mean Squared Error: 7.421514656448017\n",
      "7.421514656448017\n",
      "Currently running fold 1 for 10 stations\n",
      "[9.80089712 1.08213924 0.18020044]\n",
      "Root Mean Squared Error: 7.50720509157645\n",
      "7.50720509157645\n",
      "Currently running fold 2 for 10 stations\n",
      "[10.22696439  1.02687159  0.16393453]\n",
      "Root Mean Squared Error: 7.450117094003566\n",
      "7.450117094003566\n",
      "Currently running fold 3 for 10 stations\n",
      "[9.96223051 1.00406011 0.0909302 ]\n",
      "Root Mean Squared Error: 7.534393967218478\n",
      "7.534393967218478\n",
      "Currently running fold 4 for 10 stations\n",
      "[10.08170147  1.02040554  0.16123262]\n",
      "Root Mean Squared Error: 7.470070281946172\n",
      "7.470070281946172\n",
      "Currently running fold 5 for 10 stations\n",
      "[9.30312411 1.01250478 0.10958438]\n",
      "Root Mean Squared Error: 7.547562217516507\n",
      "7.547562217516507\n",
      "Currently running fold 6 for 10 stations\n",
      "[9.78614786 1.03171892 0.14608798]\n",
      "Root Mean Squared Error: 7.5420995731911145\n",
      "7.5420995731911145\n",
      "Currently running fold 7 for 10 stations\n",
      "[9.93524778 1.05827171 0.13084143]\n",
      "Root Mean Squared Error: 7.533002235976837\n",
      "7.533002235976837\n",
      "Currently running fold 8 for 10 stations\n",
      "[10.53648265  0.9839651   0.13364888]\n",
      "Root Mean Squared Error: 7.388224877539753\n",
      "7.388224877539753\n",
      "Currently running fold 9 for 10 stations\n",
      "[9.83609618 1.05762073 0.12241594]\n"
     ]
    },
    {
     "name": "stdout",
     "output_type": "stream",
     "text": [
      "Root Mean Squared Error: 7.542720734355818\n",
      "7.542720734355818\n",
      "Currently running fold 0 for 11 stations\n",
      "[11.51405887  1.00280458  0.14825419]\n",
      "Root Mean Squared Error: 7.322026850083866\n",
      "7.322026850083866\n",
      "Currently running fold 1 for 11 stations\n",
      "[11.0880707   1.07340562  0.12884474]\n",
      "Root Mean Squared Error: 7.472989647417453\n",
      "7.472989647417453\n",
      "Currently running fold 2 for 11 stations\n",
      "[10.98820577  1.0273379   0.12625074]\n",
      "Root Mean Squared Error: 7.537756003542122\n",
      "7.537756003542122\n",
      "Currently running fold 3 for 11 stations\n",
      "[10.93792024  0.98257947  0.16009799]\n",
      "Root Mean Squared Error: 7.4085707554565134\n",
      "7.4085707554565134\n",
      "Currently running fold 4 for 11 stations\n",
      "[11.15537708  1.06446771  0.13123516]\n",
      "Root Mean Squared Error: 7.471529011444787\n",
      "7.471529011444787\n",
      "Currently running fold 5 for 11 stations\n",
      "[11.6376452   1.04853159  0.17052312]\n",
      "Root Mean Squared Error: 7.449693440540948\n",
      "7.449693440540948\n",
      "Currently running fold 6 for 11 stations\n",
      "[10.50815124  1.02911603  0.1314026 ]\n",
      "Root Mean Squared Error: 7.526048264456842\n",
      "7.526048264456842\n",
      "Currently running fold 7 for 11 stations\n"
     ]
    },
    {
     "name": "stderr",
     "output_type": "stream",
     "text": [
      "E:\\Users\\PPL\\anaconda3\\envs\\tf\\lib\\site-packages\\scipy\\optimize\\_numdiff.py:576: RuntimeWarning: invalid value encountered in subtract\n",
      "  df = fun(x) - f0\n"
     ]
    },
    {
     "name": "stdout",
     "output_type": "stream",
     "text": [
      "[9.00470016 0.47900422 0.70099393]\n",
      "Root Mean Squared Error: 7.527822917504384\n",
      "7.527822917504384\n",
      "Currently running fold 8 for 11 stations\n",
      "[11.42919342  1.02543386  0.15243858]\n",
      "Root Mean Squared Error: 7.396147675289341\n",
      "7.396147675289341\n",
      "Currently running fold 9 for 11 stations\n",
      "[10.91441051  1.02348689  0.16270233]\n",
      "Root Mean Squared Error: 7.435976347978786\n",
      "7.435976347978786\n",
      "Currently running fold 0 for 12 stations\n",
      "[12.40229574  1.07115694  0.16047759]\n",
      "Root Mean Squared Error: 7.385558344080802\n",
      "7.385558344080802\n",
      "Currently running fold 1 for 12 stations\n",
      "[12.72799581  1.06325376  0.16846753]\n",
      "Root Mean Squared Error: 7.3137745504220915\n",
      "7.3137745504220915\n",
      "Currently running fold 2 for 12 stations\n",
      "[12.49632895  1.08236307  0.15818582]\n",
      "Root Mean Squared Error: 7.401163734711924\n",
      "7.401163734711924\n",
      "Currently running fold 3 for 12 stations\n"
     ]
    },
    {
     "name": "stderr",
     "output_type": "stream",
     "text": [
      "E:\\Users\\PPL\\anaconda3\\envs\\tf\\lib\\site-packages\\scipy\\optimize\\_numdiff.py:576: RuntimeWarning: invalid value encountered in subtract\n",
      "  df = fun(x) - f0\n"
     ]
    },
    {
     "name": "stdout",
     "output_type": "stream",
     "text": [
      "[9.46296258 0.49029975 0.70789552]\n",
      "Root Mean Squared Error: 7.541999896891818\n",
      "7.541999896891818\n",
      "Currently running fold 4 for 12 stations\n",
      "[11.80504965  1.01018019  0.14216109]\n",
      "Root Mean Squared Error: 7.40707185150529\n",
      "7.40707185150529\n",
      "Currently running fold 5 for 12 stations\n",
      "[11.55284313  1.05871704  0.09191546]\n",
      "Root Mean Squared Error: 7.611590453238164\n",
      "7.611590453238164\n",
      "Currently running fold 6 for 12 stations\n",
      "[11.8743115   1.09992753  0.23760214]\n",
      "Root Mean Squared Error: 7.469125824885868\n",
      "7.469125824885868\n",
      "Currently running fold 7 for 12 stations\n"
     ]
    },
    {
     "name": "stderr",
     "output_type": "stream",
     "text": [
      "E:\\Users\\PPL\\anaconda3\\envs\\tf\\lib\\site-packages\\scipy\\optimize\\_numdiff.py:576: RuntimeWarning: invalid value encountered in subtract\n",
      "  df = fun(x) - f0\n"
     ]
    },
    {
     "name": "stdout",
     "output_type": "stream",
     "text": [
      "[8.07624975 0.4503868  0.64031436]\n",
      "Root Mean Squared Error: 7.816337035145654\n",
      "7.816337035145654\n",
      "Currently running fold 8 for 12 stations\n",
      "[12.21365141  1.05326426  0.10948328]\n",
      "Root Mean Squared Error: 7.465421630133815\n",
      "7.465421630133815\n",
      "Currently running fold 9 for 12 stations\n",
      "[11.67645216  1.05452999  0.14206581]\n",
      "Root Mean Squared Error: 7.508919815446616\n",
      "7.508919815446616\n"
     ]
    }
   ],
   "source": [
    "do_experiment(number_of_neighbour_stations)"
   ]
  },
  {
   "cell_type": "code",
   "execution_count": 14,
   "id": "fc64bbde",
   "metadata": {},
   "outputs": [],
   "source": [
    "# Save the current experiment result and resume when needed\n",
    "# Modified from source: https://stackoverflow.com/questions/34342155/how-to-pickle-or-store-jupyter-ipython-notebook-session-for-later\n",
    "\n",
    "#%store gpr_rbf_test_results_min_feature\n",
    "\n",
    "#closing seesion, restarting kernel\n",
    "\n",
    "#%store -r test_results_li_ts_km_nn_min_feature\n",
    "#%store -r gpr_martern_test_results_min_feature\n"
   ]
  },
  {
   "cell_type": "code",
   "execution_count": 9,
   "id": "a9644b8c",
   "metadata": {},
   "outputs": [],
   "source": [
    "gpr_rbf_test_results_min_feature = gpr_rbf_test_results"
   ]
  },
  {
   "cell_type": "code",
   "execution_count": 11,
   "id": "1b5543e7",
   "metadata": {},
   "outputs": [
    {
     "name": "stdout",
     "output_type": "stream",
     "text": [
      "868.5256603858861±525.6638581764721\n",
      "779.6557846659031±250.77984396085893\n",
      "140.44359890420884±132.43695757057267\n",
      "13.120441633602999±2.58087619611388\n",
      "8.059390926246403±0.035076354556313326\n",
      "7.88074242396209±0.06646243572538571\n",
      "7.750894401089303±0.05694670476948272\n",
      "7.672073403346256±0.10030336245738937\n",
      "7.591353614006806±0.030070319222067945\n",
      "7.4936910729772706±0.05461071280628836\n",
      "7.454856091371504±0.0644107182353365\n",
      "7.492096313646205±0.13493344955040912\n"
     ]
    }
   ],
   "source": [
    "for exp in gpr_rbf_test_results_min_feature:\n",
    "     print(f\"{np.mean([d['gpr_test'] for d in exp if 'gpr_test' in d])}±{np.std([d['gpr_test'] for d in exp if 'gpr_test' in d])}\")"
   ]
  },
  {
   "cell_type": "code",
   "execution_count": 26,
   "id": "f074f67c",
   "metadata": {},
   "outputs": [],
   "source": [
    "# gpr_test_results=[]\n",
    "# gpr_test_results.append({'gpr_test': 124.28245462517742})\n",
    "# gpr_test_results.append({'gpr_test': 8.098453253845573})\n",
    "# gpr_test_results.append({'gpr_test': 7.383525517000387})\n",
    "# gpr_test_results.append({'gpr_test': 7.266723098591452})\n",
    "# gpr_test_results.append({'gpr_test': 7.269252212307546})\n",
    "# gpr_test_results.append({'gpr_test': 7.246991937014375})\n",
    "# gpr_test_results.append({'gpr_test': 7.127975366729728})\n",
    "# gpr_test_results.append({'gpr_test': 7.125519317911804})\n",
    "# gpr_test_results.append({'gpr_test': 7.096831995981307})\n",
    "# gpr_test_results.append({'gpr_test': 7.09245097390881})\n",
    "# gpr_test_results.append({'gpr_test': 7.123352723065476})\n",
    "# gpr_test_results.append({'gpr_test': 7.136209476848252})"
   ]
  },
  {
   "cell_type": "code",
   "execution_count": 15,
   "id": "84c5bf49",
   "metadata": {},
   "outputs": [
    {
     "data": {
      "text/plain": [
       "Text(0, 0.5, 'RMSE wind speed')"
      ]
     },
     "execution_count": 15,
     "metadata": {},
     "output_type": "execute_result"
    },
    {
     "data": {
      "image/png": "[encoded data removed]",
      "text/plain": [
       "<Figure size 640x480 with 1 Axes>"
      ]
     },
     "metadata": {},
     "output_type": "display_data"
    }
   ],
   "source": [
    "kmeans_train_plot = []\n",
    "li_train_plot = []\n",
    "fcm_train_plot = []\n",
    "nn_train_plot = []\n",
    "gpr_test_plot = []\n",
    "gpr_matern_test_plot = []\n",
    "\n",
    "x_axis =  [1,2,3,4,5,6,7,8,9, 10,11,12]\n",
    "for exp in test_results_li_ts_km_nn_min_feature:\n",
    "     kmeans_train_plot.append(np.min([d['kmeans_test'] for d in exp if 'kmeans_test' in d]))\n",
    "     li_train_plot.append(np.mean([d['linear_test'] for d in exp if 'linear_test' in d]))\n",
    "     nn_train_plot.append(np.mean([d['nn_test'] for d in exp if 'nn_test' in d]))\n",
    "     fcm_train_plot.append(np.mean([d['fcm_test'] for d in exp if 'fcm_test' in d]))\n",
    "\n",
    "for exp in gpr_rbf_test_results_min_feature:\n",
    "    gpr_test_plot.append(np.mean([d['gpr_test'] for d in exp if 'gpr_test' in d]))\n",
    "    \n",
    "for exp in gpr_martern_test_results_min_feature:\n",
    "    gpr_matern_test_plot.append(np.mean([d['gpr_test'] for d in exp if 'gpr_test' in d]))\n",
    "   \n",
    "\n",
    "fig, ax = plt.subplots()\n",
    "for axis in [ax.xaxis, ax.yaxis]:\n",
    "    axis.set_major_locator(ticker.MaxNLocator(integer=True))\n",
    "    \n",
    "plt.plot(x_axis, li_train_plot, '--', label='linear')\n",
    "plt.plot(x_axis, fcm_train_plot, label='TS model', c='blue')\n",
    "plt.plot(x_axis, nn_train_plot, label='neural network', c='pink')\n",
    "plt.plot(x_axis, kmeans_train_plot, label='kmeans (min)', c='yellow')\n",
    "plt.plot(x_axis, gpr_test_plot, label='GP(RBF)', c='red')\n",
    "plt.plot(x_axis, gpr_matern_test_plot, label='GP(Matern)', c='orange')\n",
    "plt.legend(loc=\"upper left\")\n",
    "plt.ylim(5,7.5)\n",
    "plt.xlabel('Number of stations')\n",
    "plt.ylabel('RMSE wind speed')\n"
   ]
  },
  {
   "cell_type": "code",
   "execution_count": null,
   "id": "c7ade7cc",
   "metadata": {},
   "outputs": [],
   "source": []
  }
 ],
 "metadata": {
  "kernelspec": {
   "display_name": "Python 3 (ipykernel)",
   "language": "python",
   "name": "python3"
  },
  "language_info": {
   "codemirror_mode": {
    "name": "ipython",
    "version": 3
   },
   "file_extension": ".py",
   "mimetype": "text/x-python",
   "name": "python",
   "nbconvert_exporter": "python",
   "pygments_lexer": "ipython3",
   "version": "3.9.17"
  }
 },
 "nbformat": 4,
 "nbformat_minor": 5
}
