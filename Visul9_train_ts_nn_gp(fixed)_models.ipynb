{
 "cells": [
  {
   "cell_type": "code",
   "execution_count": 2,
   "id": "e85e59f8",
   "metadata": {},
   "outputs": [
    {
     "name": "stdout",
     "output_type": "stream",
     "text": [
      "Keras version is 3.1.1\n",
      "Num GPUs Available: 1\n"
     ]
    }
   ],
   "source": [
    "# Get the data for expeirment\n",
    "import pandas as pd \n",
    "import numpy as np\n",
    "from sklearn.preprocessing import StandardScaler\n",
    "from sklearn.metrics import mean_squared_error\n",
    "from sklearn.linear_model import LinearRegression\n",
    "from sklearn.utils import shuffle\n",
    "import matplotlib.pyplot as plt\n",
    "import geopy.distance as distance\n",
    "import TsModel\n",
    "import GprModel\n",
    "import matplotlib.pyplot as plt\n",
    "\n",
    "import torch\n",
    "from torch.utils.data import TensorDataset, DataLoader\n",
    "import matplotlib.pyplot as plt\n",
    "import os\n",
    "os.environ[\"KERAS_BACKEND\"] = \"torch\"\n",
    "import keras\n",
    "from keras import layers, models\n",
    "from keras import ops\n",
    "\n",
    "device = torch.device(\"cuda:0\")\n",
    "print(f\"Keras version is {keras.__version__}\")\n",
    "print(f\"Num GPUs Available: {torch.cuda.device_count()}\")\n",
    "plt.rcParams.update({'font.size': 20})"
   ]
  },
  {
   "cell_type": "code",
   "execution_count": 74,
   "id": "133e13cd",
   "metadata": {},
   "outputs": [],
   "source": [
    "# Train all models that will be used in the visualization project"
   ]
  },
  {
   "cell_type": "code",
   "execution_count": 20,
   "id": "1ec9b918",
   "metadata": {},
   "outputs": [],
   "source": [
    "def find_clostest_n_neighbours(target, unique_stations, number_of_neighbours):\n",
    "    station_with_locations = unique_stations.copy()\n",
    "\n",
    "    distances = station_with_locations.apply(\n",
    "        lambda row: distance.distance(\n",
    "            [row['latitude'], row['longitude']], [target[0], target[1]]).km,\n",
    "        axis=1\n",
    "    )\n",
    "    station_with_locations['distance'] = distances\n",
    "\n",
    "    station_in_range = station_with_locations.loc[(station_with_locations['distance'] >= 0)\n",
    "                                                  & (station_with_locations['distance'] <= 99999)]\n",
    "\n",
    "    station_to_use = station_in_range.nsmallest(number_of_neighbours, 'distance')\n",
    "    \n",
    "    return station_to_use\n",
    "\n",
    "\n",
    "def extract_data(features, target_coor, features_to_use=None, target_features_to_use=None):\n",
    "    if features_to_use is None:\n",
    "        features_to_use = ['latitude', 'longitude', 'temp', 'wind_direction', 'wind_speed']\n",
    "    if target_features_to_use is None:\n",
    "        target_features_to_use = ['wind_speed']\n",
    "\n",
    "    distances = features.apply(\n",
    "        lambda row: distance.distance(\n",
    "            [row['latitude'], row['longitude']], [target_coor[0], target_coor[1]]).km,\n",
    "        axis=1\n",
    "    )\n",
    "\n",
    "    processed_features = features.loc[:,features_to_use].copy()\n",
    "    processed_features['distance'] = distances\n",
    "\n",
    "    processed_features = processed_features.to_numpy()\n",
    "\n",
    "    return processed_features\n",
    "\n",
    "\n",
    "# Note some station will have less data, so the smallest date range is used to mach all stations\n",
    "def extract_data_match_date_range(features, target_coor, neighbour_station_names):\n",
    "    processed_features = []\n",
    "\n",
    "    for name in neighbour_station_names:\n",
    "        selected_station_data = features.loc[features['name'] == name]\n",
    "        extracted_features = extract_data(selected_station_data, target_coor)\n",
    "        if len(processed_features) == 0:\n",
    "            processed_features = extracted_features\n",
    "        else:\n",
    "            processed_features = np.concatenate((processed_features, extracted_features), axis=1)\n",
    "\n",
    "    return processed_features    \n",
    "\n",
    "# Given the target station name, find the nearest neighbours within the distance\n",
    "def generate_data(raw_data, number_of_neighbours):\n",
    "    output_features = []\n",
    "    \n",
    "    # All stations in the dataset\n",
    "    stations_to_test = [\n",
    "        'LETHBRIDGE CDA',                 \n",
    "        'EDMONTON STONY PLAIN CS',        \n",
    "        'CORONATION CLIMATE',             \n",
    "        'STRATHMORE AGDM',                \n",
    "        'LLOYDMINSTER',                  \n",
    "        'MEDICINE HAT RCS',             \n",
    "        'MILK RIVER',                     \n",
    "        'CAMROSE',                     \n",
    "        'BROOKS',                    \n",
    "        'CLARESHOLM',           \n",
    "        'ONEFOUR CDA',            \n",
    "        'VEGREVILLE',             \n",
    "        'ROCKY MTN HOUSE (AUT)',         \n",
    "        'LACOMBE CDA 2',              \n",
    "        'BANFF CS',                     \n",
    "        'DRUMHELLER EAST',         \n",
    "        'MEDICINE HAT',                 \n",
    "        'LETHBRIDGE',                 \n",
    "        'EDMONTON INTL A',         \n",
    "        'CALGARY INTL A'\n",
    "    ]\n",
    "\n",
    "    for station_name in stations_to_test:\n",
    "        target = raw_data.loc[raw_data['name'] == station_name]\n",
    "        target_latitude = target.iloc[0]['latitude']\n",
    "        target_longitude = target.iloc[0]['longitude']\n",
    "\n",
    "        # select all unique names and coordinates\n",
    "        unique_stations_names = raw_data.groupby('name').head(1)\n",
    "        unique_stations_names = unique_stations_names.loc[unique_stations_names['name'] != station_name]\n",
    "        neighbour_stations = find_clostest_n_neighbours([target_latitude, target_longitude], unique_stations_names, number_of_neighbours)\n",
    "\n",
    "        # find k nearest neighbours\n",
    "        neighbour_station_names = neighbour_stations['name']\n",
    "\n",
    "        # filter the data, return\n",
    "        features = raw_data[raw_data['name'].isin(neighbour_station_names)]\n",
    "        features = extract_data_match_date_range(features, [target_latitude, target_longitude], neighbour_station_names)\n",
    "        output_features.extend(features)\n",
    "\n",
    "    return features, target.loc[:,['wind_speed']].to_numpy()\n"
   ]
  },
  {
   "cell_type": "code",
   "execution_count": 32,
   "id": "11aefc5c",
   "metadata": {},
   "outputs": [
    {
     "name": "stderr",
     "output_type": "stream",
     "text": [
      "C:\\Users\\PPL\\AppData\\Local\\Temp\\ipykernel_23364\\3303841789.py:1: DtypeWarning: Columns (3) have mixed types. Specify dtype option on import or set low_memory=False.\n",
      "  train_df = pd.read_csv('data/processed_ab_wind_train.txt')\n"
     ]
    }
   ],
   "source": [
    "train_df = pd.read_csv('data/processed_ab_wind_train.txt')"
   ]
  },
  {
   "cell_type": "code",
   "execution_count": 33,
   "id": "b5a0f0e0",
   "metadata": {},
   "outputs": [],
   "source": [
    "train_x, train_y = generate_data(train_df, 9)"
   ]
  },
  {
   "cell_type": "code",
   "execution_count": 34,
   "id": "988faaec",
   "metadata": {},
   "outputs": [
    {
     "name": "stderr",
     "output_type": "stream",
     "text": [
      "C:\\Users\\PPL\\AppData\\Local\\Temp\\ipykernel_23364\\3486938129.py:1: DtypeWarning: Columns (3) have mixed types. Specify dtype option on import or set low_memory=False.\n",
      "  test_df = pd.read_csv('data/processed_ab_wind_test.txt')\n"
     ]
    }
   ],
   "source": [
    "test_df = pd.read_csv('data/processed_ab_wind_test.txt')\n",
    "test_x, test_y = generate_data(test_df, 9)"
   ]
  },
  {
   "cell_type": "code",
   "execution_count": 35,
   "id": "d6acbc06",
   "metadata": {},
   "outputs": [],
   "source": [
    "temp_x = pd.DataFrame(train_x)\n",
    "temp_x.to_csv(f\"Data\\exp\\9x_train.csv\")\n",
    "temp_y = pd.DataFrame(train_y)\n",
    "temp_y.to_csv(f\"Data\\exp\\9y_train.csv\")\n",
    "\n",
    "temp_x = pd.DataFrame(test_x)\n",
    "temp_x.to_csv(f\"Data\\exp\\9x_test.csv\")\n",
    "temp_y = pd.DataFrame(test_y)\n",
    "temp_y.to_csv(f\"Data\\exp\\9y_test.csv\")"
   ]
  },
  {
   "cell_type": "code",
   "execution_count": 36,
   "id": "4dd33df8",
   "metadata": {},
   "outputs": [],
   "source": [
    "def build_neural_network_model():\n",
    "    model = models.Sequential()\n",
    "    model.add(layers.Dense(30, activation=keras.activations.tanh))    \n",
    "    model.add(layers.Dense(1, activation=keras.activations.relu))\n",
    "    return model"
   ]
  },
  {
   "cell_type": "code",
   "execution_count": 37,
   "id": "b7677eb6",
   "metadata": {},
   "outputs": [],
   "source": [
    "scaler = StandardScaler()\n",
    "train_x = scaler.fit_transform(train_x)\n",
    "test_x = scaler.transform(test_x)\n",
    "\n",
    "train_x, train_y = shuffle(train_x, train_y)"
   ]
  },
  {
   "cell_type": "code",
   "execution_count": 38,
   "id": "6c558265",
   "metadata": {},
   "outputs": [
    {
     "name": "stdout",
     "output_type": "stream",
     "text": [
      "Epoch 1/50\n",
      "\u001b[1m835/835\u001b[0m \u001b[32m━━━━━━━━━━━━━━━━━━━━\u001b[0m\u001b[37m\u001b[0m \u001b[1m4s\u001b[0m 4ms/step - loss: 230.8481 - mean_absolute_percentage_error: 81.5564 - root_mean_squared_error: 15.1156\n",
      "Epoch 2/50\n",
      "\u001b[1m835/835\u001b[0m \u001b[32m━━━━━━━━━━━━━━━━━━━━\u001b[0m\u001b[37m\u001b[0m \u001b[1m4s\u001b[0m 5ms/step - loss: 52.0095 - mean_absolute_percentage_error: 54.2399 - root_mean_squared_error: 7.2091\n",
      "Epoch 3/50\n",
      "\u001b[1m835/835\u001b[0m \u001b[32m━━━━━━━━━━━━━━━━━━━━\u001b[0m\u001b[37m\u001b[0m \u001b[1m4s\u001b[0m 5ms/step - loss: 47.6094 - mean_absolute_percentage_error: 53.8312 - root_mean_squared_error: 6.8999\n",
      "Epoch 4/50\n",
      "\u001b[1m835/835\u001b[0m \u001b[32m━━━━━━━━━━━━━━━━━━━━\u001b[0m\u001b[37m\u001b[0m \u001b[1m4s\u001b[0m 5ms/step - loss: 45.6105 - mean_absolute_percentage_error: 53.0362 - root_mean_squared_error: 6.7532\n",
      "Epoch 5/50\n",
      "\u001b[1m835/835\u001b[0m \u001b[32m━━━━━━━━━━━━━━━━━━━━\u001b[0m\u001b[37m\u001b[0m \u001b[1m4s\u001b[0m 5ms/step - loss: 45.9449 - mean_absolute_percentage_error: 53.4937 - root_mean_squared_error: 6.7780\n",
      "Epoch 6/50\n",
      "\u001b[1m835/835\u001b[0m \u001b[32m━━━━━━━━━━━━━━━━━━━━\u001b[0m\u001b[37m\u001b[0m \u001b[1m4s\u001b[0m 4ms/step - loss: 44.5324 - mean_absolute_percentage_error: 52.1871 - root_mean_squared_error: 6.6730\n",
      "Epoch 7/50\n",
      "\u001b[1m835/835\u001b[0m \u001b[32m━━━━━━━━━━━━━━━━━━━━\u001b[0m\u001b[37m\u001b[0m \u001b[1m4s\u001b[0m 5ms/step - loss: 43.8564 - mean_absolute_percentage_error: 52.4177 - root_mean_squared_error: 6.6222\n",
      "Epoch 8/50\n",
      "\u001b[1m835/835\u001b[0m \u001b[32m━━━━━━━━━━━━━━━━━━━━\u001b[0m\u001b[37m\u001b[0m \u001b[1m4s\u001b[0m 5ms/step - loss: 43.8837 - mean_absolute_percentage_error: 51.1707 - root_mean_squared_error: 6.6237\n",
      "Epoch 9/50\n",
      "\u001b[1m835/835\u001b[0m \u001b[32m━━━━━━━━━━━━━━━━━━━━\u001b[0m\u001b[37m\u001b[0m \u001b[1m4s\u001b[0m 4ms/step - loss: 44.0148 - mean_absolute_percentage_error: 51.4604 - root_mean_squared_error: 6.6330\n",
      "Epoch 10/50\n",
      "\u001b[1m835/835\u001b[0m \u001b[32m━━━━━━━━━━━━━━━━━━━━\u001b[0m\u001b[37m\u001b[0m \u001b[1m4s\u001b[0m 5ms/step - loss: 42.9730 - mean_absolute_percentage_error: 51.2377 - root_mean_squared_error: 6.5553\n",
      "Epoch 11/50\n",
      "\u001b[1m835/835\u001b[0m \u001b[32m━━━━━━━━━━━━━━━━━━━━\u001b[0m\u001b[37m\u001b[0m \u001b[1m5s\u001b[0m 6ms/step - loss: 42.4538 - mean_absolute_percentage_error: 49.5970 - root_mean_squared_error: 6.5153\n",
      "Epoch 12/50\n",
      "\u001b[1m835/835\u001b[0m \u001b[32m━━━━━━━━━━━━━━━━━━━━\u001b[0m\u001b[37m\u001b[0m \u001b[1m5s\u001b[0m 6ms/step - loss: 42.4649 - mean_absolute_percentage_error: 50.1856 - root_mean_squared_error: 6.5162\n",
      "Epoch 13/50\n",
      "\u001b[1m835/835\u001b[0m \u001b[32m━━━━━━━━━━━━━━━━━━━━\u001b[0m\u001b[37m\u001b[0m \u001b[1m4s\u001b[0m 5ms/step - loss: 41.9530 - mean_absolute_percentage_error: 51.1179 - root_mean_squared_error: 6.4769\n",
      "Epoch 14/50\n",
      "\u001b[1m835/835\u001b[0m \u001b[32m━━━━━━━━━━━━━━━━━━━━\u001b[0m\u001b[37m\u001b[0m \u001b[1m4s\u001b[0m 5ms/step - loss: 41.8686 - mean_absolute_percentage_error: 51.2325 - root_mean_squared_error: 6.4704\n",
      "Epoch 15/50\n",
      "\u001b[1m835/835\u001b[0m \u001b[32m━━━━━━━━━━━━━━━━━━━━\u001b[0m\u001b[37m\u001b[0m \u001b[1m5s\u001b[0m 6ms/step - loss: 41.8579 - mean_absolute_percentage_error: 51.2434 - root_mean_squared_error: 6.4696\n",
      "Epoch 16/50\n",
      "\u001b[1m835/835\u001b[0m \u001b[32m━━━━━━━━━━━━━━━━━━━━\u001b[0m\u001b[37m\u001b[0m \u001b[1m4s\u001b[0m 5ms/step - loss: 41.8085 - mean_absolute_percentage_error: 50.9485 - root_mean_squared_error: 6.4656\n",
      "Epoch 17/50\n",
      "\u001b[1m835/835\u001b[0m \u001b[32m━━━━━━━━━━━━━━━━━━━━\u001b[0m\u001b[37m\u001b[0m \u001b[1m4s\u001b[0m 5ms/step - loss: 41.2266 - mean_absolute_percentage_error: 50.0744 - root_mean_squared_error: 6.4206\n",
      "Epoch 18/50\n",
      "\u001b[1m835/835\u001b[0m \u001b[32m━━━━━━━━━━━━━━━━━━━━\u001b[0m\u001b[37m\u001b[0m \u001b[1m4s\u001b[0m 4ms/step - loss: 41.1738 - mean_absolute_percentage_error: 51.1034 - root_mean_squared_error: 6.4164\n",
      "Epoch 19/50\n",
      "\u001b[1m835/835\u001b[0m \u001b[32m━━━━━━━━━━━━━━━━━━━━\u001b[0m\u001b[37m\u001b[0m \u001b[1m4s\u001b[0m 5ms/step - loss: 41.0209 - mean_absolute_percentage_error: 49.9614 - root_mean_squared_error: 6.4044\n",
      "Epoch 20/50\n",
      "\u001b[1m835/835\u001b[0m \u001b[32m━━━━━━━━━━━━━━━━━━━━\u001b[0m\u001b[37m\u001b[0m \u001b[1m4s\u001b[0m 5ms/step - loss: 41.2215 - mean_absolute_percentage_error: 51.2073 - root_mean_squared_error: 6.4199\n",
      "Epoch 21/50\n",
      "\u001b[1m835/835\u001b[0m \u001b[32m━━━━━━━━━━━━━━━━━━━━\u001b[0m\u001b[37m\u001b[0m \u001b[1m4s\u001b[0m 5ms/step - loss: 39.7448 - mean_absolute_percentage_error: 49.9122 - root_mean_squared_error: 6.3032\n",
      "Epoch 22/50\n",
      "\u001b[1m835/835\u001b[0m \u001b[32m━━━━━━━━━━━━━━━━━━━━\u001b[0m\u001b[37m\u001b[0m \u001b[1m4s\u001b[0m 5ms/step - loss: 40.3225 - mean_absolute_percentage_error: 49.4314 - root_mean_squared_error: 6.3497\n",
      "Epoch 23/50\n",
      "\u001b[1m835/835\u001b[0m \u001b[32m━━━━━━━━━━━━━━━━━━━━\u001b[0m\u001b[37m\u001b[0m \u001b[1m4s\u001b[0m 5ms/step - loss: 40.2152 - mean_absolute_percentage_error: 50.7676 - root_mean_squared_error: 6.3410\n",
      "Epoch 24/50\n",
      "\u001b[1m835/835\u001b[0m \u001b[32m━━━━━━━━━━━━━━━━━━━━\u001b[0m\u001b[37m\u001b[0m \u001b[1m4s\u001b[0m 5ms/step - loss: 40.5795 - mean_absolute_percentage_error: 50.9425 - root_mean_squared_error: 6.3699\n",
      "Epoch 25/50\n",
      "\u001b[1m835/835\u001b[0m \u001b[32m━━━━━━━━━━━━━━━━━━━━\u001b[0m\u001b[37m\u001b[0m \u001b[1m4s\u001b[0m 5ms/step - loss: 40.7849 - mean_absolute_percentage_error: 49.7907 - root_mean_squared_error: 6.3855\n",
      "Epoch 26/50\n",
      "\u001b[1m835/835\u001b[0m \u001b[32m━━━━━━━━━━━━━━━━━━━━\u001b[0m\u001b[37m\u001b[0m \u001b[1m4s\u001b[0m 5ms/step - loss: 39.9274 - mean_absolute_percentage_error: 50.9241 - root_mean_squared_error: 6.3184\n",
      "Epoch 27/50\n",
      "\u001b[1m835/835\u001b[0m \u001b[32m━━━━━━━━━━━━━━━━━━━━\u001b[0m\u001b[37m\u001b[0m \u001b[1m4s\u001b[0m 4ms/step - loss: 39.7062 - mean_absolute_percentage_error: 49.4072 - root_mean_squared_error: 6.3005\n",
      "Epoch 28/50\n",
      "\u001b[1m835/835\u001b[0m \u001b[32m━━━━━━━━━━━━━━━━━━━━\u001b[0m\u001b[37m\u001b[0m \u001b[1m4s\u001b[0m 5ms/step - loss: 39.7095 - mean_absolute_percentage_error: 49.6554 - root_mean_squared_error: 6.3009\n",
      "Epoch 29/50\n",
      "\u001b[1m835/835\u001b[0m \u001b[32m━━━━━━━━━━━━━━━━━━━━\u001b[0m\u001b[37m\u001b[0m \u001b[1m4s\u001b[0m 5ms/step - loss: 40.7546 - mean_absolute_percentage_error: 49.9613 - root_mean_squared_error: 6.3836\n",
      "Epoch 30/50\n",
      "\u001b[1m835/835\u001b[0m \u001b[32m━━━━━━━━━━━━━━━━━━━━\u001b[0m\u001b[37m\u001b[0m \u001b[1m4s\u001b[0m 4ms/step - loss: 39.8555 - mean_absolute_percentage_error: 50.0855 - root_mean_squared_error: 6.3127\n",
      "Epoch 31/50\n",
      "\u001b[1m835/835\u001b[0m \u001b[32m━━━━━━━━━━━━━━━━━━━━\u001b[0m\u001b[37m\u001b[0m \u001b[1m4s\u001b[0m 5ms/step - loss: 39.9781 - mean_absolute_percentage_error: 49.4363 - root_mean_squared_error: 6.3223\n",
      "Epoch 32/50\n",
      "\u001b[1m835/835\u001b[0m \u001b[32m━━━━━━━━━━━━━━━━━━━━\u001b[0m\u001b[37m\u001b[0m \u001b[1m5s\u001b[0m 5ms/step - loss: 40.5108 - mean_absolute_percentage_error: 50.1803 - root_mean_squared_error: 6.3644\n",
      "Epoch 33/50\n",
      "\u001b[1m835/835\u001b[0m \u001b[32m━━━━━━━━━━━━━━━━━━━━\u001b[0m\u001b[37m\u001b[0m \u001b[1m4s\u001b[0m 5ms/step - loss: 39.3930 - mean_absolute_percentage_error: 49.1178 - root_mean_squared_error: 6.2753\n",
      "Epoch 34/50\n",
      "\u001b[1m835/835\u001b[0m \u001b[32m━━━━━━━━━━━━━━━━━━━━\u001b[0m\u001b[37m\u001b[0m \u001b[1m4s\u001b[0m 5ms/step - loss: 39.6666 - mean_absolute_percentage_error: 49.5878 - root_mean_squared_error: 6.2974\n",
      "Epoch 35/50\n",
      "\u001b[1m835/835\u001b[0m \u001b[32m━━━━━━━━━━━━━━━━━━━━\u001b[0m\u001b[37m\u001b[0m \u001b[1m4s\u001b[0m 4ms/step - loss: 40.2978 - mean_absolute_percentage_error: 49.9161 - root_mean_squared_error: 6.3478\n",
      "Epoch 36/50\n",
      "\u001b[1m835/835\u001b[0m \u001b[32m━━━━━━━━━━━━━━━━━━━━\u001b[0m\u001b[37m\u001b[0m \u001b[1m4s\u001b[0m 5ms/step - loss: 40.6245 - mean_absolute_percentage_error: 50.0954 - root_mean_squared_error: 6.3723\n",
      "Epoch 37/50\n",
      "\u001b[1m835/835\u001b[0m \u001b[32m━━━━━━━━━━━━━━━━━━━━\u001b[0m\u001b[37m\u001b[0m \u001b[1m4s\u001b[0m 5ms/step - loss: 39.4555 - mean_absolute_percentage_error: 49.1570 - root_mean_squared_error: 6.2812\n",
      "Epoch 38/50\n",
      "\u001b[1m835/835\u001b[0m \u001b[32m━━━━━━━━━━━━━━━━━━━━\u001b[0m\u001b[37m\u001b[0m \u001b[1m4s\u001b[0m 4ms/step - loss: 38.9676 - mean_absolute_percentage_error: 47.8626 - root_mean_squared_error: 6.2421\n",
      "Epoch 39/50\n",
      "\u001b[1m835/835\u001b[0m \u001b[32m━━━━━━━━━━━━━━━━━━━━\u001b[0m\u001b[37m\u001b[0m \u001b[1m4s\u001b[0m 4ms/step - loss: 39.5918 - mean_absolute_percentage_error: 49.3180 - root_mean_squared_error: 6.2920\n",
      "Epoch 40/50\n",
      "\u001b[1m835/835\u001b[0m \u001b[32m━━━━━━━━━━━━━━━━━━━━\u001b[0m\u001b[37m\u001b[0m \u001b[1m4s\u001b[0m 5ms/step - loss: 39.3159 - mean_absolute_percentage_error: 48.7461 - root_mean_squared_error: 6.2700\n",
      "Epoch 41/50\n",
      "\u001b[1m835/835\u001b[0m \u001b[32m━━━━━━━━━━━━━━━━━━━━\u001b[0m\u001b[37m\u001b[0m \u001b[1m4s\u001b[0m 4ms/step - loss: 39.4634 - mean_absolute_percentage_error: 49.0740 - root_mean_squared_error: 6.2819\n",
      "Epoch 42/50\n",
      "\u001b[1m835/835\u001b[0m \u001b[32m━━━━━━━━━━━━━━━━━━━━\u001b[0m\u001b[37m\u001b[0m \u001b[1m4s\u001b[0m 4ms/step - loss: 39.0111 - mean_absolute_percentage_error: 48.2155 - root_mean_squared_error: 6.2455\n",
      "Epoch 43/50\n",
      "\u001b[1m835/835\u001b[0m \u001b[32m━━━━━━━━━━━━━━━━━━━━\u001b[0m\u001b[37m\u001b[0m \u001b[1m4s\u001b[0m 5ms/step - loss: 38.8953 - mean_absolute_percentage_error: 48.7191 - root_mean_squared_error: 6.2361\n",
      "Epoch 44/50\n",
      "\u001b[1m835/835\u001b[0m \u001b[32m━━━━━━━━━━━━━━━━━━━━\u001b[0m\u001b[37m\u001b[0m \u001b[1m4s\u001b[0m 5ms/step - loss: 38.8472 - mean_absolute_percentage_error: 48.3918 - root_mean_squared_error: 6.2327\n",
      "Epoch 45/50\n",
      "\u001b[1m835/835\u001b[0m \u001b[32m━━━━━━━━━━━━━━━━━━━━\u001b[0m\u001b[37m\u001b[0m \u001b[1m4s\u001b[0m 5ms/step - loss: 38.3609 - mean_absolute_percentage_error: 48.7074 - root_mean_squared_error: 6.1929\n",
      "Epoch 46/50\n",
      "\u001b[1m835/835\u001b[0m \u001b[32m━━━━━━━━━━━━━━━━━━━━\u001b[0m\u001b[37m\u001b[0m \u001b[1m3s\u001b[0m 4ms/step - loss: 38.9871 - mean_absolute_percentage_error: 49.1085 - root_mean_squared_error: 6.2438\n",
      "Epoch 47/50\n",
      "\u001b[1m835/835\u001b[0m \u001b[32m━━━━━━━━━━━━━━━━━━━━\u001b[0m\u001b[37m\u001b[0m \u001b[1m3s\u001b[0m 4ms/step - loss: 39.2806 - mean_absolute_percentage_error: 48.7245 - root_mean_squared_error: 6.2672\n",
      "Epoch 48/50\n",
      "\u001b[1m835/835\u001b[0m \u001b[32m━━━━━━━━━━━━━━━━━━━━\u001b[0m\u001b[37m\u001b[0m \u001b[1m4s\u001b[0m 4ms/step - loss: 38.6989 - mean_absolute_percentage_error: 49.9852 - root_mean_squared_error: 6.2207\n",
      "Epoch 49/50\n",
      "\u001b[1m835/835\u001b[0m \u001b[32m━━━━━━━━━━━━━━━━━━━━\u001b[0m\u001b[37m\u001b[0m \u001b[1m4s\u001b[0m 5ms/step - loss: 39.0669 - mean_absolute_percentage_error: 48.7967 - root_mean_squared_error: 6.2498\n",
      "Epoch 50/50\n",
      "\u001b[1m835/835\u001b[0m \u001b[32m━━━━━━━━━━━━━━━━━━━━\u001b[0m\u001b[37m\u001b[0m \u001b[1m3s\u001b[0m 4ms/step - loss: 38.6180 - mean_absolute_percentage_error: 49.3072 - root_mean_squared_error: 6.2143\n"
     ]
    }
   ],
   "source": [
    "neural_network_model = build_neural_network_model()\n",
    "\n",
    "\n",
    "neural_network_model.compile(\n",
    "    optimizer='adam',\n",
    "    loss=keras.losses.MeanSquaredError(),\n",
    "    metrics=[keras.metrics.RootMeanSquaredError(), keras.metrics.MeanAbsolutePercentageError()]\n",
    ")\n",
    "\n",
    "history = neural_network_model.fit(\n",
    "    train_x, \n",
    "    train_y, \n",
    "    epochs=50, \n",
    "    shuffle=True\n",
    ")"
   ]
  },
  {
   "cell_type": "code",
   "execution_count": 39,
   "id": "c6d52e3c",
   "metadata": {},
   "outputs": [],
   "source": [
    "#neural_network_model.save('Visualization_proj_9stations.keras')\n",
    "\n",
    "# TODO get TS and GPR model"
   ]
  },
  {
   "cell_type": "code",
   "execution_count": 80,
   "id": "29af5afb",
   "metadata": {},
   "outputs": [
    {
     "name": "stderr",
     "output_type": "stream",
     "text": [
      "E:\\Users\\PPL\\anaconda3\\envs\\tf\\lib\\site-packages\\scipy\\optimize\\_numdiff.py:576: RuntimeWarning: invalid value encountered in subtract\n",
      "  df = fun(x) - f0\n"
     ]
    },
    {
     "name": "stdout",
     "output_type": "stream",
     "text": [
      "[2.84941927e+01 1.35164937e+00 1.00000000e-05]\n"
     ]
    }
   ],
   "source": [
    "train_x_reshaped = train_x.reshape(20,-1, train_x.shape[-1])\n",
    "train_y_reshaped = train_y.reshape(20,-1, train_y.shape[-1])\n",
    "\n",
    "gpr_model = GprModel.GprModel()\n",
    "indices = np.random.choice(train_x_reshaped.shape[1], 400, replace=False)            \n",
    "gpr_model.fit(np.vstack(train_x_reshaped[:,indices,:]), np.vstack(train_y_reshaped[:,indices,:].reshape(-1,1)))\n"
   ]
  },
  {
   "cell_type": "code",
   "execution_count": 81,
   "id": "4238f98b",
   "metadata": {},
   "outputs": [
    {
     "name": "stdout",
     "output_type": "stream",
     "text": [
      "Root Mean Squared Error: 7.2472898043499745\n"
     ]
    }
   ],
   "source": [
    "predicted_means,_ = gpr_mdoel.predict(test_x, test_y)"
   ]
  },
  {
   "cell_type": "code",
   "execution_count": 83,
   "id": "f5a81ecc",
   "metadata": {},
   "outputs": [],
   "source": [
    "linear_model = LinearRegression().fit(train_x, train_y)"
   ]
  },
  {
   "cell_type": "code",
   "execution_count": 11,
   "id": "d1fc10b1",
   "metadata": {},
   "outputs": [],
   "source": [
    "# neural_network_model = build_neural_network_model()\n",
    "\n",
    "\n",
    "# neural_network_model.compile(\n",
    "#     optimizer='adam',\n",
    "#     loss=tf.keras.losses.MeanSquaredError(),\n",
    "#     metrics=[tf.keras.metrics.RootMeanSquaredError(), tf.keras.metrics.MeanAbsolutePercentageError()]\n",
    "# )\n",
    "\n",
    "# history = neural_network_model.fit(\n",
    "#     train_x, \n",
    "#     train_y, \n",
    "#     epochs=50, \n",
    "#     shuffle=True\n",
    "# )"
   ]
  },
  {
   "cell_type": "code",
   "execution_count": 84,
   "id": "705aca54",
   "metadata": {},
   "outputs": [],
   "source": [
    "#neural_network_model.save(\"visualization_nn.keras\")\n",
    "neural_network_model = tf.keras.models.load_model(\"visualization_nn.keras\")"
   ]
  },
  {
   "cell_type": "code",
   "execution_count": 92,
   "id": "2995daf7",
   "metadata": {},
   "outputs": [],
   "source": [
    "def plot_prediction_error(y, y_prediction, station_name, axis_limit, axis):\n",
    "    \n",
    "    rmse = np.round(mean_squared_error(y, y_prediction, squared=False),4)\n",
    "\n",
    "#     axis.set_ylim(0,axis_limit)\n",
    "#     axis.set_xlim(0,axis_limit)\n",
    "#     axis.plot([0, axis_limit], [0, axis_limit], 'k--')\n",
    "#     axis.plot(y, y_prediction, 'ro', alpha=.2, label=f\"RMSE for {station_name} = {rmse}\")\n",
    "#     axis.legend(loc=\"upper left\")\n",
    "#     axis.set_title(f\"True v.s. predicted wind speed for \\n {station_name}\", wrap=True)\n",
    "    \n",
    "    print(f\"{station_name} = {rmse}\")"
   ]
  },
  {
   "cell_type": "code",
   "execution_count": 90,
   "id": "844d5562",
   "metadata": {},
   "outputs": [],
   "source": [
    "def plot_side_by_side_prediction_error(y, nn_y_prediction, gpr_prediction, ts_prediction, station_name):\n",
    "    axis_limit = np.max(np.array(y).flatten())\n",
    "    \n",
    "    fig, (ax1, ax2, ax3) = plt.subplots(1, 3, figsize=(30,10)) \n",
    "    \n",
    "    ax1.set_aspect('equal')\n",
    "    ax2.set_aspect('equal')\n",
    "    ax3.set_aspect('equal')\n",
    "    plot_prediction_error(y, nn_y_prediction, station_name +' with neural network', axis_limit, ax1)\n",
    "    plot_prediction_error(y, gpr_prediction, station_name +' with GPR', axis_limit, ax2)    \n",
    "    plot_prediction_error(y, ts_prediction, station_name +' with T-S', axis_limit, ax3)    \n",
    "    \n",
    "    plt.show()"
   ]
  },
  {
   "cell_type": "code",
   "execution_count": 87,
   "id": "36c90816",
   "metadata": {},
   "outputs": [
    {
     "name": "stdout",
     "output_type": "stream",
     "text": [
      "FCM training RMSE: 6.451955371925227\n"
     ]
    },
    {
     "data": {
      "text/plain": [
       "(41.627728121314796, 6.451955371925227, 64.05707955360413)"
      ]
     },
     "execution_count": 87,
     "metadata": {},
     "output_type": "execute_result"
    }
   ],
   "source": [
    "# Train the TS model\n",
    "ts_model = TsModel.TsModel(number_of_rules=30, early_end_threshold=1e-8)\n",
    "ts_model.fit(train_x,train_y)"
   ]
  },
  {
   "cell_type": "code",
   "execution_count": 88,
   "id": "62050c7c",
   "metadata": {},
   "outputs": [
    {
     "name": "stdout",
     "output_type": "stream",
     "text": [
      "Root Mean Squared Error: 8.065069480569669\n",
      "(26715,)\n"
     ]
    }
   ],
   "source": [
    "station = 'LETHBRIDGE CDA'\n",
    "x = pd.read_csv(f'Data/visualization_data/{station}_x.csv', index_col=0).to_numpy()\n",
    "y = pd.read_csv(f'Data/visualization_data/{station}_y.csv', index_col=0)['0'].to_numpy().reshape(-1, 1)\n",
    "gpr_prediction_means,_ = gpr_mdoel.predict(scaler.inverse_transform(x), y)\n",
    "gpr_prediction = []\n",
    "for gpr_prediction_means_i in gpr_prediction_means:\n",
    "    gpr_prediction = np.concatenate((gpr_prediction, gpr_prediction_means_i))\n",
    "    \n",
    "print(gpr_prediction.shape)"
   ]
  }
 ],
 "metadata": {
  "kernelspec": {
   "display_name": "Python 3 (ipykernel)",
   "language": "python",
   "name": "python3"
  },
  "language_info": {
   "codemirror_mode": {
    "name": "ipython",
    "version": 3
   },
   "file_extension": ".py",
   "mimetype": "text/x-python",
   "name": "python",
   "nbconvert_exporter": "python",
   "pygments_lexer": "ipython3",
   "version": "3.11.4"
  }
 },
 "nbformat": 4,
 "nbformat_minor": 5
}
